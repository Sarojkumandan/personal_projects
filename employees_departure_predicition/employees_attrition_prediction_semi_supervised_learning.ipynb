{
 "cells": [
  {
   "cell_type": "markdown",
   "id": "72affe91",
   "metadata": {},
   "source": [
    "# Employee Departure Prediction using Machine Learning Algorithms"
   ]
  },
  {
   "cell_type": "markdown",
   "id": "f1734bef",
   "metadata": {},
   "source": [
    "### Project Objective: "
   ]
  },
  {
   "cell_type": "markdown",
   "id": "bb5b0aac",
   "metadata": {},
   "source": [
    "This project focuses on developing accurate machine learning models for predicting employee departure or churn at Awesome Tech Solutions. The dataset provided contains essential employee information such as gender, distance from work, years of experience, and salary details. Notably, the dataset lacks target labels indicating employee churn status.\n",
    "\n",
    "Given the absence of target labels in the dataset, the project aims to leverage unsupervised learning techniques, such as clustering, to identify patterns and potential indicators of employee churn. Additionally, we will explore feature engineering and domain knowledge to create informative features for the predictive models."
   ]
  },
  {
   "cell_type": "markdown",
   "id": "40aeb142",
   "metadata": {},
   "source": [
    "### Target: \n",
    "Predict whether employee will leave or not\n",
    "\n",
    "### Data Description:\n",
    "\n",
    "1. Gender: Male/Female\n",
    "2. Distance: Distance from the premisis.\n",
    "3. YearsWorked: Number of years with the organisation.\n",
    "4. HireDate: Date on which employee joined\n",
    "5. Previous Salary: salary earlier\n",
    "6. Salary: Current salary.\n",
    "7. Department Code: Department the employee belongs"
   ]
  },
  {
   "cell_type": "markdown",
   "id": "84c8329f",
   "metadata": {},
   "source": [
    "### Our Approach:\n",
    "* Understand the Data\n",
    "* Perform EDA\n",
    "* Handle Missing Values/Duplicate values\n",
    "* Feature Engineering\n",
    "* Creating pipelines\n",
    "* Clustering\n",
    "* Try different Machine learning Algorithms\n",
    "* Pick the Best performing Model\n",
    "* Improve the model by Hyper parameter Tuning\n",
    "* Evaluate the results"
   ]
  },
  {
   "cell_type": "code",
   "execution_count": 6,
   "id": "991e02f3",
   "metadata": {},
   "outputs": [],
   "source": [
    "from sklearn.model_selection import train_test_split, GridSearchCV\n",
    "from sklearn.pipeline import Pipeline\n",
    "from sklearn.compose import ColumnTransformer\n",
    "from sklearn.impute import SimpleImputer\n",
    "from sklearn.preprocessing import StandardScaler, OneHotEncoder\n",
    "from sklearn.metrics import accuracy_score, confusion_matrix, classification_report, f1_score\n",
    "import seaborn as sns\n",
    "import matplotlib.pyplot as plt\n",
    "import numpy as np\n",
    "\n",
    "# Models\n",
    "from sklearn.linear_model import LogisticRegression\n",
    "from sklearn.tree import DecisionTreeClassifier\n",
    "from sklearn.ensemble import RandomForestClassifier, AdaBoostClassifier\n",
    "from sklearn.cluster import DBSCAN, KMeans"
   ]
  },
  {
   "cell_type": "code",
   "execution_count": 7,
   "id": "96X3Ms8tirH5",
   "metadata": {
    "id": "96X3Ms8tirH5"
   },
   "outputs": [],
   "source": [
    "import warnings\n",
    "warnings.filterwarnings('ignore')"
   ]
  },
  {
   "cell_type": "code",
   "execution_count": 8,
   "id": "dc96a8fc",
   "metadata": {
    "id": "dc96a8fc"
   },
   "outputs": [],
   "source": [
    "import pandas as pd\n",
    "\n",
    "class SME():\n",
    "\n",
    "    def __init__(self):\n",
    "        self.asked = 0\n",
    "        self.df = self.get()\n",
    "\n",
    "    def get(self):\n",
    "        X_train = pd.read_csv('X_train.csv')\n",
    "        y_train = pd.read_csv('y_train.csv')\n",
    "\n",
    "        X_train['Left'] = y_train\n",
    "        return X_train, X_train['Left'].value_counts()\n",
    "\n",
    "    def ask(self, gender, distance, years_worked, hire_date, prev_salary, current_salary, dep_code):\n",
    "        self.asked += 1\n",
    "        #  print(self.asked)\n",
    "\n",
    "        if self.asked > 500:\n",
    "            raise Exception(\"Sorry, you have asked enough\")\n",
    "\n",
    "        result = self.df.query(f\"Gender=={gender} and Distance=='{distance}' and YearsWorked == {years_worked} and HireDate == '{hire_date}' and PreviousSalary == '{prev_salary}' and Salary == '{current_salary}' and DepartmentCode == {dep_code}\")\n",
    "\n",
    "        return result['Left'][0]"
   ]
  },
  {
   "cell_type": "code",
   "execution_count": 9,
   "id": "8b070f51",
   "metadata": {
    "id": "8b070f51"
   },
   "outputs": [],
   "source": [
    "sme = SME()"
   ]
  },
  {
   "cell_type": "code",
   "execution_count": 10,
   "id": "1fce0cec",
   "metadata": {
    "colab": {
     "base_uri": "https://localhost:8080/"
    },
    "id": "1fce0cec",
    "outputId": "8880245c-e1f4-43b4-abbc-1680f5f9c3d8"
   },
   "outputs": [
    {
     "data": {
      "text/plain": [
       "(      Gender  Distance  YearsWorked    HireDate PreviousSalary Salary  \\\n",
       " 0          0  ~20miles            8  2007-09-05            63K    66K   \n",
       " 1          0  >30miles            7  2011-10-16            60K    63K   \n",
       " 2          0  ~15miles            7  2011-05-18            59K    60K   \n",
       " 3          1    <5mile            3  2000-06-30            60K    61K   \n",
       " 4          1  ~10miles            9  2010-04-28            56K    57K   \n",
       " ...      ...       ...          ...         ...            ...    ...   \n",
       " 7495       0  >30miles            5  2014-03-15            60K    62K   \n",
       " 7496       0  ~10miles            7  2011-07-10            64K    68K   \n",
       " 7497       0  ~10miles            8  2006-08-19            56K    57K   \n",
       " 7498       0  ~20miles            6  2016-09-18            60K    62K   \n",
       " 7499       0  ~20miles            5  2013-12-26            57K    58K   \n",
       " \n",
       "       DepartmentCode  Left  \n",
       " 0                  3     1  \n",
       " 1                  3     1  \n",
       " 2                  3     0  \n",
       " 3                  2     0  \n",
       " 4                  7     0  \n",
       " ...              ...   ...  \n",
       " 7495               6     1  \n",
       " 7496               3     0  \n",
       " 7497               2     0  \n",
       " 7498               5     0  \n",
       " 7499               7     1  \n",
       " \n",
       " [7500 rows x 8 columns],\n",
       " 0    5542\n",
       " 1    1958\n",
       " Name: Left, dtype: int64)"
      ]
     },
     "execution_count": 10,
     "metadata": {},
     "output_type": "execute_result"
    }
   ],
   "source": [
    "sme.get()"
   ]
  },
  {
   "cell_type": "code",
   "execution_count": 11,
   "id": "ab09f0ea",
   "metadata": {
    "id": "ab09f0ea"
   },
   "outputs": [],
   "source": [
    "X_train = pd.read_csv('X_train.csv')\n",
    "\n",
    "X_test = pd.read_csv('X_test.csv')\n",
    "y_test = pd.read_csv('y_test.csv')"
   ]
  },
  {
   "cell_type": "markdown",
   "id": "IgBdv0tZEk7k",
   "metadata": {
    "id": "IgBdv0tZEk7k"
   },
   "source": [
    "# **Exploratory Data Analysis**"
   ]
  },
  {
   "cell_type": "code",
   "execution_count": 12,
   "id": "91923312",
   "metadata": {
    "colab": {
     "base_uri": "https://localhost:8080/",
     "height": 206
    },
    "id": "91923312",
    "outputId": "7fdba09a-d153-47aa-c7ea-ff47ed276800"
   },
   "outputs": [
    {
     "data": {
      "text/html": [
       "<div>\n",
       "<style scoped>\n",
       "    .dataframe tbody tr th:only-of-type {\n",
       "        vertical-align: middle;\n",
       "    }\n",
       "\n",
       "    .dataframe tbody tr th {\n",
       "        vertical-align: top;\n",
       "    }\n",
       "\n",
       "    .dataframe thead th {\n",
       "        text-align: right;\n",
       "    }\n",
       "</style>\n",
       "<table border=\"1\" class=\"dataframe\">\n",
       "  <thead>\n",
       "    <tr style=\"text-align: right;\">\n",
       "      <th></th>\n",
       "      <th>Gender</th>\n",
       "      <th>Distance</th>\n",
       "      <th>YearsWorked</th>\n",
       "      <th>HireDate</th>\n",
       "      <th>PreviousSalary</th>\n",
       "      <th>Salary</th>\n",
       "      <th>DepartmentCode</th>\n",
       "    </tr>\n",
       "  </thead>\n",
       "  <tbody>\n",
       "    <tr>\n",
       "      <th>0</th>\n",
       "      <td>0</td>\n",
       "      <td>~20miles</td>\n",
       "      <td>8</td>\n",
       "      <td>2007-09-05</td>\n",
       "      <td>63K</td>\n",
       "      <td>66K</td>\n",
       "      <td>3</td>\n",
       "    </tr>\n",
       "    <tr>\n",
       "      <th>1</th>\n",
       "      <td>0</td>\n",
       "      <td>&gt;30miles</td>\n",
       "      <td>7</td>\n",
       "      <td>2011-10-16</td>\n",
       "      <td>60K</td>\n",
       "      <td>63K</td>\n",
       "      <td>3</td>\n",
       "    </tr>\n",
       "    <tr>\n",
       "      <th>2</th>\n",
       "      <td>0</td>\n",
       "      <td>~15miles</td>\n",
       "      <td>7</td>\n",
       "      <td>2011-05-18</td>\n",
       "      <td>59K</td>\n",
       "      <td>60K</td>\n",
       "      <td>3</td>\n",
       "    </tr>\n",
       "    <tr>\n",
       "      <th>3</th>\n",
       "      <td>1</td>\n",
       "      <td>&lt;5mile</td>\n",
       "      <td>3</td>\n",
       "      <td>2000-06-30</td>\n",
       "      <td>60K</td>\n",
       "      <td>61K</td>\n",
       "      <td>2</td>\n",
       "    </tr>\n",
       "    <tr>\n",
       "      <th>4</th>\n",
       "      <td>1</td>\n",
       "      <td>~10miles</td>\n",
       "      <td>9</td>\n",
       "      <td>2010-04-28</td>\n",
       "      <td>56K</td>\n",
       "      <td>57K</td>\n",
       "      <td>7</td>\n",
       "    </tr>\n",
       "  </tbody>\n",
       "</table>\n",
       "</div>"
      ],
      "text/plain": [
       "   Gender  Distance  YearsWorked    HireDate PreviousSalary Salary  \\\n",
       "0       0  ~20miles            8  2007-09-05            63K    66K   \n",
       "1       0  >30miles            7  2011-10-16            60K    63K   \n",
       "2       0  ~15miles            7  2011-05-18            59K    60K   \n",
       "3       1    <5mile            3  2000-06-30            60K    61K   \n",
       "4       1  ~10miles            9  2010-04-28            56K    57K   \n",
       "\n",
       "   DepartmentCode  \n",
       "0               3  \n",
       "1               3  \n",
       "2               3  \n",
       "3               2  \n",
       "4               7  "
      ]
     },
     "execution_count": 12,
     "metadata": {},
     "output_type": "execute_result"
    }
   ],
   "source": [
    "X_train.head()"
   ]
  },
  {
   "cell_type": "code",
   "execution_count": 13,
   "id": "4c6e3cf7",
   "metadata": {
    "colab": {
     "base_uri": "https://localhost:8080/"
    },
    "id": "4c6e3cf7",
    "outputId": "665fba08-0ae6-47f7-bdc8-30b3b84d41e9"
   },
   "outputs": [
    {
     "data": {
      "text/plain": [
       "Gender             int64\n",
       "Distance          object\n",
       "YearsWorked        int64\n",
       "HireDate          object\n",
       "PreviousSalary    object\n",
       "Salary            object\n",
       "DepartmentCode     int64\n",
       "dtype: object"
      ]
     },
     "execution_count": 13,
     "metadata": {},
     "output_type": "execute_result"
    }
   ],
   "source": [
    "X_train.dtypes"
   ]
  },
  {
   "cell_type": "code",
   "execution_count": 14,
   "id": "c7f56072",
   "metadata": {
    "colab": {
     "base_uri": "https://localhost:8080/"
    },
    "id": "c7f56072",
    "outputId": "bc130718-b26b-4b65-ba1d-394cfdbb7ab7"
   },
   "outputs": [
    {
     "data": {
      "text/plain": [
       "Gender             0\n",
       "Distance          10\n",
       "YearsWorked        0\n",
       "HireDate           0\n",
       "PreviousSalary     0\n",
       "Salary             0\n",
       "DepartmentCode     0\n",
       "dtype: int64"
      ]
     },
     "execution_count": 14,
     "metadata": {},
     "output_type": "execute_result"
    }
   ],
   "source": [
    "X_train.isnull().sum()"
   ]
  },
  {
   "cell_type": "code",
   "execution_count": 15,
   "id": "7ad5c3d0",
   "metadata": {
    "colab": {
     "base_uri": "https://localhost:8080/"
    },
    "id": "7ad5c3d0",
    "outputId": "f1dc85d5-fe54-44ca-a3b0-2a9d25cdf705"
   },
   "outputs": [
    {
     "data": {
      "text/plain": [
       "Gender               2\n",
       "Distance             5\n",
       "YearsWorked         14\n",
       "HireDate          4458\n",
       "PreviousSalary      22\n",
       "Salary              25\n",
       "DepartmentCode       6\n",
       "dtype: int64"
      ]
     },
     "execution_count": 15,
     "metadata": {},
     "output_type": "execute_result"
    }
   ],
   "source": [
    "X_train.nunique()"
   ]
  },
  {
   "cell_type": "code",
   "execution_count": 16,
   "id": "9a06e08c",
   "metadata": {},
   "outputs": [
    {
     "data": {
      "text/html": [
       "<div>\n",
       "<style scoped>\n",
       "    .dataframe tbody tr th:only-of-type {\n",
       "        vertical-align: middle;\n",
       "    }\n",
       "\n",
       "    .dataframe tbody tr th {\n",
       "        vertical-align: top;\n",
       "    }\n",
       "\n",
       "    .dataframe thead th {\n",
       "        text-align: right;\n",
       "    }\n",
       "</style>\n",
       "<table border=\"1\" class=\"dataframe\">\n",
       "  <thead>\n",
       "    <tr style=\"text-align: right;\">\n",
       "      <th></th>\n",
       "      <th>Gender</th>\n",
       "      <th>YearsWorked</th>\n",
       "      <th>DepartmentCode</th>\n",
       "    </tr>\n",
       "  </thead>\n",
       "  <tbody>\n",
       "    <tr>\n",
       "      <th>count</th>\n",
       "      <td>7500.000000</td>\n",
       "      <td>7500.000000</td>\n",
       "      <td>7500.00000</td>\n",
       "    </tr>\n",
       "    <tr>\n",
       "      <th>mean</th>\n",
       "      <td>0.404133</td>\n",
       "      <td>7.013067</td>\n",
       "      <td>3.99360</td>\n",
       "    </tr>\n",
       "    <tr>\n",
       "      <th>std</th>\n",
       "      <td>0.490756</td>\n",
       "      <td>1.865840</td>\n",
       "      <td>2.15822</td>\n",
       "    </tr>\n",
       "    <tr>\n",
       "      <th>min</th>\n",
       "      <td>0.000000</td>\n",
       "      <td>1.000000</td>\n",
       "      <td>1.00000</td>\n",
       "    </tr>\n",
       "    <tr>\n",
       "      <th>25%</th>\n",
       "      <td>0.000000</td>\n",
       "      <td>6.000000</td>\n",
       "      <td>2.00000</td>\n",
       "    </tr>\n",
       "    <tr>\n",
       "      <th>50%</th>\n",
       "      <td>0.000000</td>\n",
       "      <td>7.000000</td>\n",
       "      <td>3.00000</td>\n",
       "    </tr>\n",
       "    <tr>\n",
       "      <th>75%</th>\n",
       "      <td>1.000000</td>\n",
       "      <td>8.000000</td>\n",
       "      <td>6.00000</td>\n",
       "    </tr>\n",
       "    <tr>\n",
       "      <th>max</th>\n",
       "      <td>1.000000</td>\n",
       "      <td>14.000000</td>\n",
       "      <td>7.00000</td>\n",
       "    </tr>\n",
       "  </tbody>\n",
       "</table>\n",
       "</div>"
      ],
      "text/plain": [
       "            Gender  YearsWorked  DepartmentCode\n",
       "count  7500.000000  7500.000000      7500.00000\n",
       "mean      0.404133     7.013067         3.99360\n",
       "std       0.490756     1.865840         2.15822\n",
       "min       0.000000     1.000000         1.00000\n",
       "25%       0.000000     6.000000         2.00000\n",
       "50%       0.000000     7.000000         3.00000\n",
       "75%       1.000000     8.000000         6.00000\n",
       "max       1.000000    14.000000         7.00000"
      ]
     },
     "execution_count": 16,
     "metadata": {},
     "output_type": "execute_result"
    }
   ],
   "source": [
    "X_train.describe()"
   ]
  },
  {
   "cell_type": "code",
   "execution_count": 17,
   "id": "828a9b39",
   "metadata": {
    "id": "828a9b39"
   },
   "outputs": [],
   "source": [
    "#convert the salary columns into a useful format\n",
    "X_train['PreviousSalary'] = X_train['PreviousSalary'].astype(str).str.replace('K', '').astype(float) * 1000\n",
    "X_train['Salary'] = X_train['Salary'].astype(str).str.replace('K', '').astype(float) * 1000\n",
    "X_test['PreviousSalary'] = X_test['PreviousSalary'].astype(str).str.replace('K', '').astype(float) * 1000\n",
    "X_test['Salary'] = X_test['Salary'].astype(str).str.replace('K', '').astype(float) * 1000"
   ]
  },
  {
   "cell_type": "markdown",
   "id": "33943115",
   "metadata": {},
   "source": [
    "### Feature Engineering"
   ]
  },
  {
   "cell_type": "code",
   "execution_count": 18,
   "id": "7957583e",
   "metadata": {
    "id": "7957583e"
   },
   "outputs": [],
   "source": [
    "X_train['Salary_Change_Percentage'] = ((X_train['Salary'] - X_train['PreviousSalary']) / X_train['PreviousSalary']) * 100\n",
    "X_test['Salary_Change_Percentage'] = ((X_test['Salary'] - X_test['PreviousSalary']) / X_test['PreviousSalary']) * 100"
   ]
  },
  {
   "cell_type": "markdown",
   "id": "f45647c8",
   "metadata": {},
   "source": [
    "Adding New column named Salary change percentage using salary and previous salary"
   ]
  },
  {
   "cell_type": "code",
   "execution_count": 19,
   "id": "e256d23d",
   "metadata": {
    "colab": {
     "base_uri": "https://localhost:8080/"
    },
    "id": "e256d23d",
    "outputId": "d23491d8-ce70-4145-cb84-dbbc5cce6d16"
   },
   "outputs": [
    {
     "data": {
      "text/plain": [
       "Gender                        int64\n",
       "Distance                     object\n",
       "YearsWorked                   int64\n",
       "HireDate                     object\n",
       "PreviousSalary              float64\n",
       "Salary                      float64\n",
       "DepartmentCode                int64\n",
       "Salary_Change_Percentage    float64\n",
       "dtype: object"
      ]
     },
     "execution_count": 19,
     "metadata": {},
     "output_type": "execute_result"
    }
   ],
   "source": [
    "X_train.dtypes"
   ]
  },
  {
   "cell_type": "code",
   "execution_count": 20,
   "id": "85fdea31",
   "metadata": {
    "id": "85fdea31"
   },
   "outputs": [],
   "source": [
    "X_train=X_train.drop('HireDate',axis=1)\n",
    "X_test=X_test.drop('HireDate',axis=1)"
   ]
  },
  {
   "cell_type": "code",
   "execution_count": 21,
   "id": "309e748f",
   "metadata": {
    "colab": {
     "base_uri": "https://localhost:8080/",
     "height": 424
    },
    "id": "309e748f",
    "outputId": "65554c37-98cf-4486-c35a-f44cc6cb71bc"
   },
   "outputs": [
    {
     "data": {
      "text/html": [
       "<div>\n",
       "<style scoped>\n",
       "    .dataframe tbody tr th:only-of-type {\n",
       "        vertical-align: middle;\n",
       "    }\n",
       "\n",
       "    .dataframe tbody tr th {\n",
       "        vertical-align: top;\n",
       "    }\n",
       "\n",
       "    .dataframe thead th {\n",
       "        text-align: right;\n",
       "    }\n",
       "</style>\n",
       "<table border=\"1\" class=\"dataframe\">\n",
       "  <thead>\n",
       "    <tr style=\"text-align: right;\">\n",
       "      <th></th>\n",
       "      <th>Gender</th>\n",
       "      <th>Distance</th>\n",
       "      <th>YearsWorked</th>\n",
       "      <th>PreviousSalary</th>\n",
       "      <th>Salary</th>\n",
       "      <th>DepartmentCode</th>\n",
       "      <th>Salary_Change_Percentage</th>\n",
       "    </tr>\n",
       "  </thead>\n",
       "  <tbody>\n",
       "    <tr>\n",
       "      <th>0</th>\n",
       "      <td>0</td>\n",
       "      <td>~20miles</td>\n",
       "      <td>8</td>\n",
       "      <td>63000.0</td>\n",
       "      <td>66000.0</td>\n",
       "      <td>3</td>\n",
       "      <td>4.761905</td>\n",
       "    </tr>\n",
       "    <tr>\n",
       "      <th>1</th>\n",
       "      <td>0</td>\n",
       "      <td>&gt;30miles</td>\n",
       "      <td>7</td>\n",
       "      <td>60000.0</td>\n",
       "      <td>63000.0</td>\n",
       "      <td>3</td>\n",
       "      <td>5.000000</td>\n",
       "    </tr>\n",
       "    <tr>\n",
       "      <th>2</th>\n",
       "      <td>0</td>\n",
       "      <td>~15miles</td>\n",
       "      <td>7</td>\n",
       "      <td>59000.0</td>\n",
       "      <td>60000.0</td>\n",
       "      <td>3</td>\n",
       "      <td>1.694915</td>\n",
       "    </tr>\n",
       "    <tr>\n",
       "      <th>3</th>\n",
       "      <td>1</td>\n",
       "      <td>&lt;5mile</td>\n",
       "      <td>3</td>\n",
       "      <td>60000.0</td>\n",
       "      <td>61000.0</td>\n",
       "      <td>2</td>\n",
       "      <td>1.666667</td>\n",
       "    </tr>\n",
       "    <tr>\n",
       "      <th>4</th>\n",
       "      <td>1</td>\n",
       "      <td>~10miles</td>\n",
       "      <td>9</td>\n",
       "      <td>56000.0</td>\n",
       "      <td>57000.0</td>\n",
       "      <td>7</td>\n",
       "      <td>1.785714</td>\n",
       "    </tr>\n",
       "    <tr>\n",
       "      <th>...</th>\n",
       "      <td>...</td>\n",
       "      <td>...</td>\n",
       "      <td>...</td>\n",
       "      <td>...</td>\n",
       "      <td>...</td>\n",
       "      <td>...</td>\n",
       "      <td>...</td>\n",
       "    </tr>\n",
       "    <tr>\n",
       "      <th>7495</th>\n",
       "      <td>0</td>\n",
       "      <td>&gt;30miles</td>\n",
       "      <td>5</td>\n",
       "      <td>60000.0</td>\n",
       "      <td>62000.0</td>\n",
       "      <td>6</td>\n",
       "      <td>3.333333</td>\n",
       "    </tr>\n",
       "    <tr>\n",
       "      <th>7496</th>\n",
       "      <td>0</td>\n",
       "      <td>~10miles</td>\n",
       "      <td>7</td>\n",
       "      <td>64000.0</td>\n",
       "      <td>68000.0</td>\n",
       "      <td>3</td>\n",
       "      <td>6.250000</td>\n",
       "    </tr>\n",
       "    <tr>\n",
       "      <th>7497</th>\n",
       "      <td>0</td>\n",
       "      <td>~10miles</td>\n",
       "      <td>8</td>\n",
       "      <td>56000.0</td>\n",
       "      <td>57000.0</td>\n",
       "      <td>2</td>\n",
       "      <td>1.785714</td>\n",
       "    </tr>\n",
       "    <tr>\n",
       "      <th>7498</th>\n",
       "      <td>0</td>\n",
       "      <td>~20miles</td>\n",
       "      <td>6</td>\n",
       "      <td>60000.0</td>\n",
       "      <td>62000.0</td>\n",
       "      <td>5</td>\n",
       "      <td>3.333333</td>\n",
       "    </tr>\n",
       "    <tr>\n",
       "      <th>7499</th>\n",
       "      <td>0</td>\n",
       "      <td>~20miles</td>\n",
       "      <td>5</td>\n",
       "      <td>57000.0</td>\n",
       "      <td>58000.0</td>\n",
       "      <td>7</td>\n",
       "      <td>1.754386</td>\n",
       "    </tr>\n",
       "  </tbody>\n",
       "</table>\n",
       "<p>7500 rows × 7 columns</p>\n",
       "</div>"
      ],
      "text/plain": [
       "      Gender  Distance  YearsWorked  PreviousSalary   Salary  DepartmentCode  \\\n",
       "0          0  ~20miles            8         63000.0  66000.0               3   \n",
       "1          0  >30miles            7         60000.0  63000.0               3   \n",
       "2          0  ~15miles            7         59000.0  60000.0               3   \n",
       "3          1    <5mile            3         60000.0  61000.0               2   \n",
       "4          1  ~10miles            9         56000.0  57000.0               7   \n",
       "...      ...       ...          ...             ...      ...             ...   \n",
       "7495       0  >30miles            5         60000.0  62000.0               6   \n",
       "7496       0  ~10miles            7         64000.0  68000.0               3   \n",
       "7497       0  ~10miles            8         56000.0  57000.0               2   \n",
       "7498       0  ~20miles            6         60000.0  62000.0               5   \n",
       "7499       0  ~20miles            5         57000.0  58000.0               7   \n",
       "\n",
       "      Salary_Change_Percentage  \n",
       "0                     4.761905  \n",
       "1                     5.000000  \n",
       "2                     1.694915  \n",
       "3                     1.666667  \n",
       "4                     1.785714  \n",
       "...                        ...  \n",
       "7495                  3.333333  \n",
       "7496                  6.250000  \n",
       "7497                  1.785714  \n",
       "7498                  3.333333  \n",
       "7499                  1.754386  \n",
       "\n",
       "[7500 rows x 7 columns]"
      ]
     },
     "execution_count": 21,
     "metadata": {},
     "output_type": "execute_result"
    }
   ],
   "source": [
    "X_train"
   ]
  },
  {
   "cell_type": "code",
   "execution_count": 22,
   "id": "012fb1ee",
   "metadata": {
    "colab": {
     "base_uri": "https://localhost:8080/",
     "height": 448
    },
    "id": "012fb1ee",
    "outputId": "641a0e76-5059-4a6b-b39c-c1bc560e77e2"
   },
   "outputs": [
    {
     "data": {
      "image/png": "[encoded data removed]",
      "text/plain": [
       "<Figure size 640x480 with 1 Axes>"
      ]
     },
     "metadata": {},
     "output_type": "display_data"
    }
   ],
   "source": [
    "sns.boxplot(data=X_train[[ 'YearsWorked', 'DepartmentCode']])\n",
    "plt.xlabel('Features')\n",
    "plt.ylabel('Distribution')\n",
    "plt.suptitle('Boxplot of Years Worked and Department')\n",
    "\n",
    "# Adjust layout\n",
    "plt.tight_layout()\n",
    "\n",
    "# Show plot\n",
    "plt.show()"
   ]
  },
  {
   "cell_type": "code",
   "execution_count": 23,
   "id": "e179fbb5",
   "metadata": {
    "colab": {
     "base_uri": "https://localhost:8080/",
     "height": 448
    },
    "id": "e179fbb5",
    "outputId": "40a6a7e0-2281-41e9-ab6f-17d0a4893781"
   },
   "outputs": [
    {
     "data": {
      "image/png": "[encoded data removed]",
      "text/plain": [
       "<Figure size 640x480 with 1 Axes>"
      ]
     },
     "metadata": {},
     "output_type": "display_data"
    }
   ],
   "source": [
    "# Create boxplot\n",
    "sns.boxplot(data=X_train[['PreviousSalary', 'Salary']])\n",
    "\n",
    "# Add labels and title\n",
    "plt.xlabel('Feature')\n",
    "plt.ylabel('Distribution')\n",
    "plt.title('Boxplot of Previous Salary and Salary')\n",
    "\n",
    "# Show plot\n",
    "plt.show()"
   ]
  },
  {
   "cell_type": "markdown",
   "id": "38fd996d",
   "metadata": {},
   "source": [
    "### Pipeline"
   ]
  },
  {
   "cell_type": "code",
   "execution_count": 5,
   "id": "120fd130",
   "metadata": {
    "colab": {
     "base_uri": "https://localhost:8080/",
     "height": 152
    },
    "id": "120fd130",
    "outputId": "154e1abc-7662-4dfd-adbf-36b6997fc424"
   },
   "outputs": [
    {
     "data": {
      "text/html": [
       "<style>#sk-container-id-1 {color: black;}#sk-container-id-1 pre{padding: 0;}#sk-container-id-1 div.sk-toggleable {background-color: white;}#sk-container-id-1 label.sk-toggleable__label {cursor: pointer;display: block;width: 100%;margin-bottom: 0;padding: 0.3em;box-sizing: border-box;text-align: center;}#sk-container-id-1 label.sk-toggleable__label-arrow:before {content: \"▸\";float: left;margin-right: 0.25em;color: #696969;}#sk-container-id-1 label.sk-toggleable__label-arrow:hover:before {color: black;}#sk-container-id-1 div.sk-estimator:hover label.sk-toggleable__label-arrow:before {color: black;}#sk-container-id-1 div.sk-toggleable__content {max-height: 0;max-width: 0;overflow: hidden;text-align: left;background-color: #f0f8ff;}#sk-container-id-1 div.sk-toggleable__content pre {margin: 0.2em;color: black;border-radius: 0.25em;background-color: #f0f8ff;}#sk-container-id-1 input.sk-toggleable__control:checked~div.sk-toggleable__content {max-height: 200px;max-width: 100%;overflow: auto;}#sk-container-id-1 input.sk-toggleable__control:checked~label.sk-toggleable__label-arrow:before {content: \"▾\";}#sk-container-id-1 div.sk-estimator input.sk-toggleable__control:checked~label.sk-toggleable__label {background-color: #d4ebff;}#sk-container-id-1 div.sk-label input.sk-toggleable__control:checked~label.sk-toggleable__label {background-color: #d4ebff;}#sk-container-id-1 input.sk-hidden--visually {border: 0;clip: rect(1px 1px 1px 1px);clip: rect(1px, 1px, 1px, 1px);height: 1px;margin: -1px;overflow: hidden;padding: 0;position: absolute;width: 1px;}#sk-container-id-1 div.sk-estimator {font-family: monospace;background-color: #f0f8ff;border: 1px dotted black;border-radius: 0.25em;box-sizing: border-box;margin-bottom: 0.5em;}#sk-container-id-1 div.sk-estimator:hover {background-color: #d4ebff;}#sk-container-id-1 div.sk-parallel-item::after {content: \"\";width: 100%;border-bottom: 1px solid gray;flex-grow: 1;}#sk-container-id-1 div.sk-label:hover label.sk-toggleable__label {background-color: #d4ebff;}#sk-container-id-1 div.sk-serial::before {content: \"\";position: absolute;border-left: 1px solid gray;box-sizing: border-box;top: 0;bottom: 0;left: 50%;z-index: 0;}#sk-container-id-1 div.sk-serial {display: flex;flex-direction: column;align-items: center;background-color: white;padding-right: 0.2em;padding-left: 0.2em;position: relative;}#sk-container-id-1 div.sk-item {position: relative;z-index: 1;}#sk-container-id-1 div.sk-parallel {display: flex;align-items: stretch;justify-content: center;background-color: white;position: relative;}#sk-container-id-1 div.sk-item::before, #sk-container-id-1 div.sk-parallel-item::before {content: \"\";position: absolute;border-left: 1px solid gray;box-sizing: border-box;top: 0;bottom: 0;left: 50%;z-index: -1;}#sk-container-id-1 div.sk-parallel-item {display: flex;flex-direction: column;z-index: 1;position: relative;background-color: white;}#sk-container-id-1 div.sk-parallel-item:first-child::after {align-self: flex-end;width: 50%;}#sk-container-id-1 div.sk-parallel-item:last-child::after {align-self: flex-start;width: 50%;}#sk-container-id-1 div.sk-parallel-item:only-child::after {width: 0;}#sk-container-id-1 div.sk-dashed-wrapped {border: 1px dashed gray;margin: 0 0.4em 0.5em 0.4em;box-sizing: border-box;padding-bottom: 0.4em;background-color: white;}#sk-container-id-1 div.sk-label label {font-family: monospace;font-weight: bold;display: inline-block;line-height: 1.2em;}#sk-container-id-1 div.sk-label-container {text-align: center;}#sk-container-id-1 div.sk-container {/* jupyter's `normalize.less` sets `[hidden] { display: none; }` but bootstrap.min.css set `[hidden] { display: none !important; }` so we also need the `!important` here to be able to override the default hidden behavior on the sphinx rendered scikit-learn.org. See: https://github.com/scikit-learn/scikit-learn/issues/21755 */display: inline-block !important;position: relative;}#sk-container-id-1 div.sk-text-repr-fallback {display: none;}</style><div id=\"sk-container-id-1\" class=\"sk-top-container\"><div class=\"sk-text-repr-fallback\"><pre>ColumnTransformer(transformers=[(&#x27;num pipeline&#x27;,\n",
       "                                 Pipeline(steps=[(&#x27;impute_missing&#x27;,\n",
       "                                                  SimpleImputer(strategy=&#x27;median&#x27;)),\n",
       "                                                 (&#x27;standardize_num&#x27;,\n",
       "                                                  StandardScaler())]),\n",
       "                                 [&#x27;YearsWorked&#x27;, &#x27;PreviousSalary&#x27;, &#x27;Salary&#x27;]),\n",
       "                                (&#x27;cat pipeline&#x27;,\n",
       "                                 Pipeline(steps=[(&#x27;impute_missing_cats&#x27;,\n",
       "                                                  SimpleImputer(strategy=&#x27;most_frequent&#x27;)),\n",
       "                                                 (&#x27;create_dummies_cats&#x27;,\n",
       "                                                  OneHotEncoder(drop=&#x27;first&#x27;,\n",
       "                                                                handle_unknown=&#x27;ignore&#x27;))]),\n",
       "                                 [&#x27;Gender&#x27;, &#x27;Distance&#x27;, &#x27;DepartmentCode&#x27;])])</pre><b>In a Jupyter environment, please rerun this cell to show the HTML representation or trust the notebook. <br />On GitHub, the HTML representation is unable to render, please try loading this page with nbviewer.org.</b></div><div class=\"sk-container\" hidden><div class=\"sk-item sk-dashed-wrapped\"><div class=\"sk-label-container\"><div class=\"sk-label sk-toggleable\"><input class=\"sk-toggleable__control sk-hidden--visually\" id=\"sk-estimator-id-1\" type=\"checkbox\" ><label for=\"sk-estimator-id-1\" class=\"sk-toggleable__label sk-toggleable__label-arrow\">ColumnTransformer</label><div class=\"sk-toggleable__content\"><pre>ColumnTransformer(transformers=[(&#x27;num pipeline&#x27;,\n",
       "                                 Pipeline(steps=[(&#x27;impute_missing&#x27;,\n",
       "                                                  SimpleImputer(strategy=&#x27;median&#x27;)),\n",
       "                                                 (&#x27;standardize_num&#x27;,\n",
       "                                                  StandardScaler())]),\n",
       "                                 [&#x27;YearsWorked&#x27;, &#x27;PreviousSalary&#x27;, &#x27;Salary&#x27;]),\n",
       "                                (&#x27;cat pipeline&#x27;,\n",
       "                                 Pipeline(steps=[(&#x27;impute_missing_cats&#x27;,\n",
       "                                                  SimpleImputer(strategy=&#x27;most_frequent&#x27;)),\n",
       "                                                 (&#x27;create_dummies_cats&#x27;,\n",
       "                                                  OneHotEncoder(drop=&#x27;first&#x27;,\n",
       "                                                                handle_unknown=&#x27;ignore&#x27;))]),\n",
       "                                 [&#x27;Gender&#x27;, &#x27;Distance&#x27;, &#x27;DepartmentCode&#x27;])])</pre></div></div></div><div class=\"sk-parallel\"><div class=\"sk-parallel-item\"><div class=\"sk-item\"><div class=\"sk-label-container\"><div class=\"sk-label sk-toggleable\"><input class=\"sk-toggleable__control sk-hidden--visually\" id=\"sk-estimator-id-2\" type=\"checkbox\" ><label for=\"sk-estimator-id-2\" class=\"sk-toggleable__label sk-toggleable__label-arrow\">num pipeline</label><div class=\"sk-toggleable__content\"><pre>[&#x27;YearsWorked&#x27;, &#x27;PreviousSalary&#x27;, &#x27;Salary&#x27;]</pre></div></div></div><div class=\"sk-serial\"><div class=\"sk-item\"><div class=\"sk-serial\"><div class=\"sk-item\"><div class=\"sk-estimator sk-toggleable\"><input class=\"sk-toggleable__control sk-hidden--visually\" id=\"sk-estimator-id-3\" type=\"checkbox\" ><label for=\"sk-estimator-id-3\" class=\"sk-toggleable__label sk-toggleable__label-arrow\">SimpleImputer</label><div class=\"sk-toggleable__content\"><pre>SimpleImputer(strategy=&#x27;median&#x27;)</pre></div></div></div><div class=\"sk-item\"><div class=\"sk-estimator sk-toggleable\"><input class=\"sk-toggleable__control sk-hidden--visually\" id=\"sk-estimator-id-4\" type=\"checkbox\" ><label for=\"sk-estimator-id-4\" class=\"sk-toggleable__label sk-toggleable__label-arrow\">StandardScaler</label><div class=\"sk-toggleable__content\"><pre>StandardScaler()</pre></div></div></div></div></div></div></div></div><div class=\"sk-parallel-item\"><div class=\"sk-item\"><div class=\"sk-label-container\"><div class=\"sk-label sk-toggleable\"><input class=\"sk-toggleable__control sk-hidden--visually\" id=\"sk-estimator-id-5\" type=\"checkbox\" ><label for=\"sk-estimator-id-5\" class=\"sk-toggleable__label sk-toggleable__label-arrow\">cat pipeline</label><div class=\"sk-toggleable__content\"><pre>[&#x27;Gender&#x27;, &#x27;Distance&#x27;, &#x27;DepartmentCode&#x27;]</pre></div></div></div><div class=\"sk-serial\"><div class=\"sk-item\"><div class=\"sk-serial\"><div class=\"sk-item\"><div class=\"sk-estimator sk-toggleable\"><input class=\"sk-toggleable__control sk-hidden--visually\" id=\"sk-estimator-id-6\" type=\"checkbox\" ><label for=\"sk-estimator-id-6\" class=\"sk-toggleable__label sk-toggleable__label-arrow\">SimpleImputer</label><div class=\"sk-toggleable__content\"><pre>SimpleImputer(strategy=&#x27;most_frequent&#x27;)</pre></div></div></div><div class=\"sk-item\"><div class=\"sk-estimator sk-toggleable\"><input class=\"sk-toggleable__control sk-hidden--visually\" id=\"sk-estimator-id-7\" type=\"checkbox\" ><label for=\"sk-estimator-id-7\" class=\"sk-toggleable__label sk-toggleable__label-arrow\">OneHotEncoder</label><div class=\"sk-toggleable__content\"><pre>OneHotEncoder(drop=&#x27;first&#x27;, handle_unknown=&#x27;ignore&#x27;)</pre></div></div></div></div></div></div></div></div></div></div></div></div>"
      ],
      "text/plain": [
       "ColumnTransformer(transformers=[('num pipeline',\n",
       "                                 Pipeline(steps=[('impute_missing',\n",
       "                                                  SimpleImputer(strategy='median')),\n",
       "                                                 ('standardize_num',\n",
       "                                                  StandardScaler())]),\n",
       "                                 ['YearsWorked', 'PreviousSalary', 'Salary']),\n",
       "                                ('cat pipeline',\n",
       "                                 Pipeline(steps=[('impute_missing_cats',\n",
       "                                                  SimpleImputer(strategy='most_frequent')),\n",
       "                                                 ('create_dummies_cats',\n",
       "                                                  OneHotEncoder(drop='first',\n",
       "                                                                handle_unknown='ignore'))]),\n",
       "                                 ['Gender', 'Distance', 'DepartmentCode'])])"
      ]
     },
     "execution_count": 5,
     "metadata": {},
     "output_type": "execute_result"
    }
   ],
   "source": [
    "# create processing pipeline\n",
    "num=['YearsWorked','PreviousSalary','Salary']\n",
    "cat=['Gender','Distance','DepartmentCode']\n",
    "#num pipeline\n",
    "num_pipeline = Pipeline([('impute_missing', SimpleImputer(strategy='median')),('standardize_num', StandardScaler())])\n",
    "#cat pipeline\n",
    "cat_pipeline = Pipeline([('impute_missing_cats', SimpleImputer(strategy='most_frequent')),('create_dummies_cats', OneHotEncoder(handle_unknown='ignore', drop='first'))])\n",
    "\n",
    "processing_pipeline = ColumnTransformer(transformers=[('num pipeline', num_pipeline, num),\n",
    "                                                      ('cat pipeline', cat_pipeline, cat)])\n",
    "processing_pipeline"
   ]
  },
  {
   "cell_type": "markdown",
   "id": "f389f0e9",
   "metadata": {},
   "source": [
    "**Data Cleaning Explanation:**\n",
    "\n",
    "1. Removed HireDate Column as it adds no value\n",
    "2. Identified Null values and those have been replaced using Simple Impute\n",
    "3. converted the salary columns into a useful format Ex:- changed 60k value to 60000"
   ]
  },
  {
   "cell_type": "markdown",
   "id": "e65aa6af",
   "metadata": {},
   "source": [
    "### Elbow Plot"
   ]
  },
  {
   "cell_type": "code",
   "execution_count": 58,
   "id": "764ae747",
   "metadata": {
    "colab": {
     "base_uri": "https://localhost:8080/",
     "height": 449
    },
    "id": "764ae747",
    "outputId": "b808a508-96a4-4e91-80aa-7f63f52fa75d"
   },
   "outputs": [
    {
     "data": {
      "image/png": "[encoded data removed]",
      "text/plain": [
       "<Figure size 640x480 with 1 Axes>"
      ]
     },
     "metadata": {},
     "output_type": "display_data"
    }
   ],
   "source": [
    "X_train_trans=processing_pipeline.fit_transform(X_train)\n",
    "\n",
    "distortions = list()\n",
    "\n",
    "for i in range(1, 15):\n",
    "    km = KMeans(n_clusters=i, random_state=0, n_init='auto')\n",
    "    km = km.fit(X_train_trans)\n",
    "    distortions.append(km.inertia_)\n",
    "\n",
    "plt.plot(range(1, 15), distortions, marker='o')\n",
    "plt.title('Number of Clusters vs Intertia - Elbow Plot')\n",
    "plt.xlabel('Number of Clusters')\n",
    "plt.ylabel('Inertia')\n",
    "plt.show()"
   ]
  },
  {
   "cell_type": "markdown",
   "id": "b059ca3a",
   "metadata": {},
   "source": [
    "### K means"
   ]
  },
  {
   "cell_type": "code",
   "execution_count": 21,
   "id": "FooTa77PINRW",
   "metadata": {
    "colab": {
     "base_uri": "https://localhost:8080/",
     "height": 470
    },
    "id": "FooTa77PINRW",
    "outputId": "ff709f29-02d6-49d8-80dd-5785af2f5317"
   },
   "outputs": [
    {
     "data": {
      "text/plain": [
       "Text(0.5, 1.0, 'Clustering Visualisation')"
      ]
     },
     "execution_count": 21,
     "metadata": {},
     "output_type": "execute_result"
    },
    {
     "data": {
      "image/png": "[encoded data removed]",
      "text/plain": [
       "<Figure size 640x480 with 1 Axes>"
      ]
     },
     "metadata": {},
     "output_type": "display_data"
    }
   ],
   "source": [
    "k=5\n",
    "\n",
    "kmeans=KMeans(n_clusters=k)\n",
    "km=kmeans.fit(X_train_trans)\n",
    "pca=PCA(n_components=2)\n",
    "pca_val=pca.fit_transform(X_train_trans)\n",
    "plt.scatter(pca_val[:,0],pca_val[:,1],c=km.labels_)\n",
    "plt.title('Clustering Visualisation with K Means')"
   ]
  },
  {
   "cell_type": "markdown",
   "id": "07b4f6a8",
   "metadata": {},
   "source": [
    "### Clustering Using K means"
   ]
  },
  {
   "cell_type": "code",
   "execution_count": 23,
   "id": "a875781d",
   "metadata": {
    "id": "a875781d"
   },
   "outputs": [],
   "source": [
    "ph = Pipeline([('sc', StandardScaler()),\n",
    "             ('kmeans', KMeans(n_clusters=5, n_init='auto'))])\n",
    "#divided data in optimal number of clusters\n",
    "ph.fit(X_train_trans)\n",
    "\n",
    "X_train['cluster'] = ph.predict(X_train_trans)"
   ]
  },
  {
   "cell_type": "code",
   "execution_count": 24,
   "id": "d394c2f5",
   "metadata": {
    "colab": {
     "base_uri": "https://localhost:8080/",
     "height": 363
    },
    "id": "d394c2f5",
    "outputId": "17ca4ed8-47d9-4559-bbcd-697dbf66a4f7"
   },
   "outputs": [
    {
     "data": {
      "text/html": [
       "<div>\n",
       "<style scoped>\n",
       "    .dataframe tbody tr th:only-of-type {\n",
       "        vertical-align: middle;\n",
       "    }\n",
       "\n",
       "    .dataframe tbody tr th {\n",
       "        vertical-align: top;\n",
       "    }\n",
       "\n",
       "    .dataframe thead th {\n",
       "        text-align: right;\n",
       "    }\n",
       "</style>\n",
       "<table border=\"1\" class=\"dataframe\">\n",
       "  <thead>\n",
       "    <tr style=\"text-align: right;\">\n",
       "      <th></th>\n",
       "      <th>Gender</th>\n",
       "      <th>Distance</th>\n",
       "      <th>YearsWorked</th>\n",
       "      <th>PreviousSalary</th>\n",
       "      <th>Salary</th>\n",
       "      <th>DepartmentCode</th>\n",
       "      <th>Salary_Change_Percentage</th>\n",
       "      <th>cluster</th>\n",
       "    </tr>\n",
       "  </thead>\n",
       "  <tbody>\n",
       "    <tr>\n",
       "      <th>0</th>\n",
       "      <td>0</td>\n",
       "      <td>~20miles</td>\n",
       "      <td>8</td>\n",
       "      <td>63000.0</td>\n",
       "      <td>66000.0</td>\n",
       "      <td>3</td>\n",
       "      <td>4.761905</td>\n",
       "      <td>1</td>\n",
       "    </tr>\n",
       "    <tr>\n",
       "      <th>1</th>\n",
       "      <td>0</td>\n",
       "      <td>&gt;30miles</td>\n",
       "      <td>7</td>\n",
       "      <td>60000.0</td>\n",
       "      <td>63000.0</td>\n",
       "      <td>3</td>\n",
       "      <td>5.000000</td>\n",
       "      <td>0</td>\n",
       "    </tr>\n",
       "    <tr>\n",
       "      <th>2</th>\n",
       "      <td>0</td>\n",
       "      <td>~15miles</td>\n",
       "      <td>7</td>\n",
       "      <td>59000.0</td>\n",
       "      <td>60000.0</td>\n",
       "      <td>3</td>\n",
       "      <td>1.694915</td>\n",
       "      <td>1</td>\n",
       "    </tr>\n",
       "    <tr>\n",
       "      <th>3</th>\n",
       "      <td>1</td>\n",
       "      <td>&lt;5mile</td>\n",
       "      <td>3</td>\n",
       "      <td>60000.0</td>\n",
       "      <td>61000.0</td>\n",
       "      <td>2</td>\n",
       "      <td>1.666667</td>\n",
       "      <td>2</td>\n",
       "    </tr>\n",
       "    <tr>\n",
       "      <th>4</th>\n",
       "      <td>1</td>\n",
       "      <td>~10miles</td>\n",
       "      <td>9</td>\n",
       "      <td>56000.0</td>\n",
       "      <td>57000.0</td>\n",
       "      <td>7</td>\n",
       "      <td>1.785714</td>\n",
       "      <td>3</td>\n",
       "    </tr>\n",
       "    <tr>\n",
       "      <th>5</th>\n",
       "      <td>1</td>\n",
       "      <td>~15miles</td>\n",
       "      <td>10</td>\n",
       "      <td>60000.0</td>\n",
       "      <td>62000.0</td>\n",
       "      <td>1</td>\n",
       "      <td>3.333333</td>\n",
       "      <td>2</td>\n",
       "    </tr>\n",
       "    <tr>\n",
       "      <th>6</th>\n",
       "      <td>0</td>\n",
       "      <td>~15miles</td>\n",
       "      <td>6</td>\n",
       "      <td>62000.0</td>\n",
       "      <td>64000.0</td>\n",
       "      <td>2</td>\n",
       "      <td>3.225806</td>\n",
       "      <td>2</td>\n",
       "    </tr>\n",
       "    <tr>\n",
       "      <th>7</th>\n",
       "      <td>0</td>\n",
       "      <td>~15miles</td>\n",
       "      <td>9</td>\n",
       "      <td>63000.0</td>\n",
       "      <td>64000.0</td>\n",
       "      <td>2</td>\n",
       "      <td>1.587302</td>\n",
       "      <td>2</td>\n",
       "    </tr>\n",
       "    <tr>\n",
       "      <th>8</th>\n",
       "      <td>1</td>\n",
       "      <td>~20miles</td>\n",
       "      <td>7</td>\n",
       "      <td>59000.0</td>\n",
       "      <td>60000.0</td>\n",
       "      <td>6</td>\n",
       "      <td>1.694915</td>\n",
       "      <td>4</td>\n",
       "    </tr>\n",
       "    <tr>\n",
       "      <th>9</th>\n",
       "      <td>0</td>\n",
       "      <td>~20miles</td>\n",
       "      <td>3</td>\n",
       "      <td>62000.0</td>\n",
       "      <td>65000.0</td>\n",
       "      <td>7</td>\n",
       "      <td>4.838710</td>\n",
       "      <td>3</td>\n",
       "    </tr>\n",
       "  </tbody>\n",
       "</table>\n",
       "</div>"
      ],
      "text/plain": [
       "   Gender  Distance  YearsWorked  PreviousSalary   Salary  DepartmentCode  \\\n",
       "0       0  ~20miles            8         63000.0  66000.0               3   \n",
       "1       0  >30miles            7         60000.0  63000.0               3   \n",
       "2       0  ~15miles            7         59000.0  60000.0               3   \n",
       "3       1    <5mile            3         60000.0  61000.0               2   \n",
       "4       1  ~10miles            9         56000.0  57000.0               7   \n",
       "5       1  ~15miles           10         60000.0  62000.0               1   \n",
       "6       0  ~15miles            6         62000.0  64000.0               2   \n",
       "7       0  ~15miles            9         63000.0  64000.0               2   \n",
       "8       1  ~20miles            7         59000.0  60000.0               6   \n",
       "9       0  ~20miles            3         62000.0  65000.0               7   \n",
       "\n",
       "   Salary_Change_Percentage  cluster  \n",
       "0                  4.761905        1  \n",
       "1                  5.000000        0  \n",
       "2                  1.694915        1  \n",
       "3                  1.666667        2  \n",
       "4                  1.785714        3  \n",
       "5                  3.333333        2  \n",
       "6                  3.225806        2  \n",
       "7                  1.587302        2  \n",
       "8                  1.694915        4  \n",
       "9                  4.838710        3  "
      ]
     },
     "execution_count": 24,
     "metadata": {},
     "output_type": "execute_result"
    }
   ],
   "source": [
    "X_train.head(10)"
   ]
  },
  {
   "cell_type": "code",
   "execution_count": 25,
   "id": "4f0fd676",
   "metadata": {
    "colab": {
     "base_uri": "https://localhost:8080/"
    },
    "id": "4f0fd676",
    "outputId": "d33783ad-041b-4b5b-bde7-0486e2fbe725"
   },
   "outputs": [
    {
     "data": {
      "text/plain": [
       "array([[ 1.12368376e-02, -6.01171812e-02, -3.35855575e-02,\n",
       "         4.33224322e-02,  2.96930193e+00, -6.56940568e-01,\n",
       "        -6.46143496e-01, -5.07073664e-01,  9.28354034e-02,\n",
       "         3.16155539e-02, -5.98349115e-02, -2.97985464e-02,\n",
       "        -2.61199962e-04],\n",
       "       [ 1.16589426e-02,  1.75466694e-02,  1.22484487e-02,\n",
       "         5.20028750e-03, -3.36779494e-01,  5.02439158e-01,\n",
       "        -2.50976604e-01, -2.12427206e-01, -4.43774542e-01,\n",
       "         9.56039976e-01,  1.82404636e-01, -4.60459847e-01,\n",
       "        -4.40326353e-01],\n",
       "       [ 5.92265440e-03,  9.76207206e-03,  5.72389652e-03,\n",
       "        -1.43660654e-02, -3.36779494e-01, -2.32843847e-01,\n",
       "         6.58071071e-01, -1.58070522e-01,  1.19298321e+00,\n",
       "        -4.54706327e-01,  1.11728142e-01, -4.60459847e-01,\n",
       "        -4.40326353e-01],\n",
       "       [-5.64868531e-02,  1.68872296e-02,  1.21640542e-02,\n",
       "         1.09492716e-02, -3.36779494e-01,  5.81547084e-02,\n",
       "         8.97979587e-02,  5.26666539e-02, -4.43774542e-01,\n",
       "        -4.54706327e-01, -4.35352865e-01, -4.60459847e-01,\n",
       "         2.27104282e+00],\n",
       "       [ 1.02863451e-02, -1.62735502e-02, -1.42152349e-02,\n",
       "        -1.79844962e-02, -3.36779494e-01, -1.34200600e-01,\n",
       "        -1.39192054e-01,  6.27093784e-01, -4.43774542e-01,\n",
       "        -4.54706327e-01, -4.11266606e-02,  1.37204667e+00,\n",
       "        -4.40326353e-01]])"
      ]
     },
     "execution_count": 25,
     "metadata": {},
     "output_type": "execute_result"
    }
   ],
   "source": [
    "ph['kmeans'].cluster_centers_"
   ]
  },
  {
   "cell_type": "code",
   "execution_count": 26,
   "id": "b7dfe093",
   "metadata": {
    "colab": {
     "base_uri": "https://localhost:8080/"
    },
    "id": "b7dfe093",
    "outputId": "fa9fed01-6ff9-46a7-eeca-20e2c5ecf0e8"
   },
   "outputs": [
    {
     "data": {
      "text/plain": [
       "array([[5.2190672 , 3.53211018, 4.55263833, 4.84713221, 4.1580867 ],\n",
       "       [2.57086045, 3.92507889, 4.88803459, 5.25975807, 4.92600777],\n",
       "       [4.7070877 , 2.7378011 , 3.46070009, 4.27300858, 3.97404446],\n",
       "       ...,\n",
       "       [5.00294775, 3.88435414, 3.22856428, 4.6761426 , 4.36445907],\n",
       "       [4.96981426, 3.71301292, 3.85896079, 4.53272042, 3.49267213],\n",
       "       [5.15835567, 4.43542932, 4.51157235, 2.87726824, 4.09025589]])"
      ]
     },
     "execution_count": 26,
     "metadata": {},
     "output_type": "execute_result"
    }
   ],
   "source": [
    "X_dist = ph.transform(X_train_trans)\n",
    "X_dist"
   ]
  },
  {
   "cell_type": "code",
   "execution_count": 27,
   "id": "be2e419e",
   "metadata": {
    "colab": {
     "base_uri": "https://localhost:8080/"
    },
    "id": "be2e419e",
    "outputId": "43f147f1-798f-48f8-de51-ece36f4199f1"
   },
   "outputs": [
    {
     "data": {
      "text/plain": [
       "array([1255, 6104, 3526, 1314, 2193], dtype=int64)"
      ]
     },
     "execution_count": 27,
     "metadata": {},
     "output_type": "execute_result"
    }
   ],
   "source": [
    "representative_idx = np.argmin(X_dist, axis=0)\n",
    "representative_idx"
   ]
  },
  {
   "cell_type": "code",
   "execution_count": 28,
   "id": "0a9cf780",
   "metadata": {
    "colab": {
     "base_uri": "https://localhost:8080/",
     "height": 1000
    },
    "id": "0a9cf780",
    "outputId": "ad3103d6-f82b-4fa9-fce3-8df9cfde2957",
    "scrolled": true
   },
   "outputs": [
    {
     "name": "stdout",
     "output_type": "stream",
     "text": [
      "      Gender  Distance  YearsWorked  PreviousSalary   Salary  DepartmentCode  \\\n",
      "1255       0  >30miles            7         59000.0  61000.0               1   \n",
      "\n",
      "      Salary_Change_Percentage  cluster  left  \n",
      "1255                  3.389831        0  None  \n",
      "1\n",
      "----------------------\n",
      "      Gender  Distance  YearsWorked  PreviousSalary   Salary  DepartmentCode  \\\n",
      "6104       0  ~10miles            7         60000.0  61000.0               3   \n",
      "\n",
      "      Salary_Change_Percentage  cluster  left  \n",
      "6104                  1.666667        1  None  \n",
      "0\n",
      "----------------------\n",
      "      Gender  Distance  YearsWorked  PreviousSalary   Salary  DepartmentCode  \\\n",
      "3526       0  ~15miles            7         60000.0  61000.0               2   \n",
      "\n",
      "      Salary_Change_Percentage  cluster  left  \n",
      "3526                  1.666667        2  None  \n",
      "0\n",
      "----------------------\n",
      "      Gender Distance  YearsWorked  PreviousSalary   Salary  DepartmentCode  \\\n",
      "1314       0   <5mile            7         59000.0  61000.0               7   \n",
      "\n",
      "      Salary_Change_Percentage  cluster  left  \n",
      "1314                  3.389831        3  None  \n",
      "0\n",
      "----------------------\n",
      "      Gender Distance  YearsWorked  PreviousSalary   Salary  DepartmentCode  \\\n",
      "2193       0   <5mile            8         59000.0  61000.0               6   \n",
      "\n",
      "      Salary_Change_Percentage  cluster  left  \n",
      "2193                  3.389831        4  None  \n",
      "0\n",
      "----------------------\n"
     ]
    },
    {
     "data": {
      "text/html": [
       "<div>\n",
       "<style scoped>\n",
       "    .dataframe tbody tr th:only-of-type {\n",
       "        vertical-align: middle;\n",
       "    }\n",
       "\n",
       "    .dataframe tbody tr th {\n",
       "        vertical-align: top;\n",
       "    }\n",
       "\n",
       "    .dataframe thead th {\n",
       "        text-align: right;\n",
       "    }\n",
       "</style>\n",
       "<table border=\"1\" class=\"dataframe\">\n",
       "  <thead>\n",
       "    <tr style=\"text-align: right;\">\n",
       "      <th></th>\n",
       "      <th>Gender</th>\n",
       "      <th>Distance</th>\n",
       "      <th>YearsWorked</th>\n",
       "      <th>PreviousSalary</th>\n",
       "      <th>Salary</th>\n",
       "      <th>DepartmentCode</th>\n",
       "      <th>Salary_Change_Percentage</th>\n",
       "      <th>cluster</th>\n",
       "      <th>left</th>\n",
       "    </tr>\n",
       "  </thead>\n",
       "  <tbody>\n",
       "    <tr>\n",
       "      <th>0</th>\n",
       "      <td>0</td>\n",
       "      <td>~20miles</td>\n",
       "      <td>8</td>\n",
       "      <td>63000.0</td>\n",
       "      <td>66000.0</td>\n",
       "      <td>3</td>\n",
       "      <td>4.761905</td>\n",
       "      <td>1</td>\n",
       "      <td>0</td>\n",
       "    </tr>\n",
       "    <tr>\n",
       "      <th>1</th>\n",
       "      <td>0</td>\n",
       "      <td>&gt;30miles</td>\n",
       "      <td>7</td>\n",
       "      <td>60000.0</td>\n",
       "      <td>63000.0</td>\n",
       "      <td>3</td>\n",
       "      <td>5.000000</td>\n",
       "      <td>0</td>\n",
       "      <td>1</td>\n",
       "    </tr>\n",
       "    <tr>\n",
       "      <th>2</th>\n",
       "      <td>0</td>\n",
       "      <td>~15miles</td>\n",
       "      <td>7</td>\n",
       "      <td>59000.0</td>\n",
       "      <td>60000.0</td>\n",
       "      <td>3</td>\n",
       "      <td>1.694915</td>\n",
       "      <td>1</td>\n",
       "      <td>0</td>\n",
       "    </tr>\n",
       "    <tr>\n",
       "      <th>3</th>\n",
       "      <td>1</td>\n",
       "      <td>&lt;5mile</td>\n",
       "      <td>3</td>\n",
       "      <td>60000.0</td>\n",
       "      <td>61000.0</td>\n",
       "      <td>2</td>\n",
       "      <td>1.666667</td>\n",
       "      <td>2</td>\n",
       "      <td>0</td>\n",
       "    </tr>\n",
       "    <tr>\n",
       "      <th>4</th>\n",
       "      <td>1</td>\n",
       "      <td>~10miles</td>\n",
       "      <td>9</td>\n",
       "      <td>56000.0</td>\n",
       "      <td>57000.0</td>\n",
       "      <td>7</td>\n",
       "      <td>1.785714</td>\n",
       "      <td>3</td>\n",
       "      <td>0</td>\n",
       "    </tr>\n",
       "    <tr>\n",
       "      <th>...</th>\n",
       "      <td>...</td>\n",
       "      <td>...</td>\n",
       "      <td>...</td>\n",
       "      <td>...</td>\n",
       "      <td>...</td>\n",
       "      <td>...</td>\n",
       "      <td>...</td>\n",
       "      <td>...</td>\n",
       "      <td>...</td>\n",
       "    </tr>\n",
       "    <tr>\n",
       "      <th>7495</th>\n",
       "      <td>0</td>\n",
       "      <td>&gt;30miles</td>\n",
       "      <td>5</td>\n",
       "      <td>60000.0</td>\n",
       "      <td>62000.0</td>\n",
       "      <td>6</td>\n",
       "      <td>3.333333</td>\n",
       "      <td>0</td>\n",
       "      <td>1</td>\n",
       "    </tr>\n",
       "    <tr>\n",
       "      <th>7496</th>\n",
       "      <td>0</td>\n",
       "      <td>~10miles</td>\n",
       "      <td>7</td>\n",
       "      <td>64000.0</td>\n",
       "      <td>68000.0</td>\n",
       "      <td>3</td>\n",
       "      <td>6.250000</td>\n",
       "      <td>1</td>\n",
       "      <td>0</td>\n",
       "    </tr>\n",
       "    <tr>\n",
       "      <th>7497</th>\n",
       "      <td>0</td>\n",
       "      <td>~10miles</td>\n",
       "      <td>8</td>\n",
       "      <td>56000.0</td>\n",
       "      <td>57000.0</td>\n",
       "      <td>2</td>\n",
       "      <td>1.785714</td>\n",
       "      <td>2</td>\n",
       "      <td>0</td>\n",
       "    </tr>\n",
       "    <tr>\n",
       "      <th>7498</th>\n",
       "      <td>0</td>\n",
       "      <td>~20miles</td>\n",
       "      <td>6</td>\n",
       "      <td>60000.0</td>\n",
       "      <td>62000.0</td>\n",
       "      <td>5</td>\n",
       "      <td>3.333333</td>\n",
       "      <td>4</td>\n",
       "      <td>0</td>\n",
       "    </tr>\n",
       "    <tr>\n",
       "      <th>7499</th>\n",
       "      <td>0</td>\n",
       "      <td>~20miles</td>\n",
       "      <td>5</td>\n",
       "      <td>57000.0</td>\n",
       "      <td>58000.0</td>\n",
       "      <td>7</td>\n",
       "      <td>1.754386</td>\n",
       "      <td>3</td>\n",
       "      <td>0</td>\n",
       "    </tr>\n",
       "  </tbody>\n",
       "</table>\n",
       "<p>7500 rows × 9 columns</p>\n",
       "</div>"
      ],
      "text/plain": [
       "      Gender  Distance  YearsWorked  PreviousSalary   Salary  DepartmentCode  \\\n",
       "0          0  ~20miles            8         63000.0  66000.0               3   \n",
       "1          0  >30miles            7         60000.0  63000.0               3   \n",
       "2          0  ~15miles            7         59000.0  60000.0               3   \n",
       "3          1    <5mile            3         60000.0  61000.0               2   \n",
       "4          1  ~10miles            9         56000.0  57000.0               7   \n",
       "...      ...       ...          ...             ...      ...             ...   \n",
       "7495       0  >30miles            5         60000.0  62000.0               6   \n",
       "7496       0  ~10miles            7         64000.0  68000.0               3   \n",
       "7497       0  ~10miles            8         56000.0  57000.0               2   \n",
       "7498       0  ~20miles            6         60000.0  62000.0               5   \n",
       "7499       0  ~20miles            5         57000.0  58000.0               7   \n",
       "\n",
       "      Salary_Change_Percentage  cluster left  \n",
       "0                     4.761905        1    0  \n",
       "1                     5.000000        0    1  \n",
       "2                     1.694915        1    0  \n",
       "3                     1.666667        2    0  \n",
       "4                     1.785714        3    0  \n",
       "...                        ...      ...  ...  \n",
       "7495                  3.333333        0    1  \n",
       "7496                  6.250000        1    0  \n",
       "7497                  1.785714        2    0  \n",
       "7498                  3.333333        4    0  \n",
       "7499                  1.754386        3    0  \n",
       "\n",
       "[7500 rows x 9 columns]"
      ]
     },
     "execution_count": 28,
     "metadata": {},
     "output_type": "execute_result"
    }
   ],
   "source": [
    "X_train['left'] = None\n",
    "\n",
    "cluster=0\n",
    "for idx in representative_idx:\n",
    "#     print(idx)\n",
    "    print(X_train[idx:idx+1])\n",
    "    left = input()\n",
    "    X_train['left'] = [ left if c == cluster else g  for c, g in zip(X_train['cluster'], X_train['left'])]\n",
    "    cluster+=1\n",
    "    print('----------------------')\n",
    "\n",
    "X_train"
   ]
  },
  {
   "cell_type": "markdown",
   "id": "e00969df",
   "metadata": {},
   "source": [
    "**Our Approach** \n",
    "Since we dont have target variable\n",
    "1. we started with elbow plot to check optimal number of clusters\n",
    "2. then divided the data in to optimal number of clusters using k means \n",
    "3. calculated the centroid of each cluster\n",
    "4. later labelled each centroid after checking with the expert\n",
    "5. finally generated the target value for entire dataset"
   ]
  },
  {
   "cell_type": "code",
   "execution_count": 33,
   "id": "8e188d78",
   "metadata": {
    "colab": {
     "base_uri": "https://localhost:8080/"
    },
    "id": "8e188d78",
    "outputId": "e86fee2c-f7e5-4a58-b6b6-8aacee120062"
   },
   "outputs": [
    {
     "data": {
      "text/plain": [
       "0    6736\n",
       "1     764\n",
       "Name: left, dtype: int64"
      ]
     },
     "execution_count": 33,
     "metadata": {},
     "output_type": "execute_result"
    }
   ],
   "source": [
    "X_train['left'].value_counts()"
   ]
  },
  {
   "cell_type": "code",
   "execution_count": 34,
   "id": "c6cfeee0",
   "metadata": {},
   "outputs": [],
   "source": [
    "employee_left = X_train['left'].value_counts()\n",
    "total = employee_left.sum()\n",
    "per_employee_left = (employee_left / total) * 100"
   ]
  },
  {
   "cell_type": "code",
   "execution_count": 35,
   "id": "5164afd2",
   "metadata": {},
   "outputs": [
    {
     "name": "stdout",
     "output_type": "stream",
     "text": [
      "The percentage of the employees who stayed vs left:\n",
      "  0    89.813333\n",
      "1    10.186667\n",
      "Name: left, dtype: float64\n"
     ]
    }
   ],
   "source": [
    "print(\"The percentage of the employees who stayed vs left:\\n \", per_employee_left)"
   ]
  },
  {
   "cell_type": "markdown",
   "id": "8b9a66ba",
   "metadata": {},
   "source": [
    "* The count of employees who does not left the company (0) has 6227 values and the employees who lef the job (1) was 1273.\n",
    "* By looking at the target variable counts we can clearly say that the data is imbalanced."
   ]
  },
  {
   "cell_type": "code",
   "execution_count": 60,
   "id": "fb89bd27",
   "metadata": {},
   "outputs": [
    {
     "data": {
      "image/png": "[encoded data removed]",
      "text/plain": [
       "<Figure size 640x480 with 1 Axes>"
      ]
     },
     "metadata": {},
     "output_type": "display_data"
    }
   ],
   "source": [
    "# Plot histogram\n",
    "plt.hist(X_train['left'], bins=20, color='skyblue', edgecolor='black')\n",
    "\n",
    "# Add labels and title\n",
    "plt.xlabel('left')\n",
    "plt.ylabel('Count')\n",
    "plt.title('Distribution of Left Feature')\n",
    "\n",
    "# Show plot\n",
    "plt.show()"
   ]
  },
  {
   "cell_type": "code",
   "execution_count": 37,
   "id": "840271ed",
   "metadata": {},
   "outputs": [
    {
     "data": {
      "image/png": "[encoded data removed]",
      "text/plain": [
       "<Figure size 1000x600 with 1 Axes>"
      ]
     },
     "metadata": {},
     "output_type": "display_data"
    }
   ],
   "source": [
    "plt.figure(figsize=(10, 6))\n",
    "sns.countplot(data= X_train, x= 'DepartmentCode', hue= 'left')\n",
    "plt.title('Employee Departure by Department')\n",
    "plt.xlabel('Department Code')\n",
    "plt.ylabel('Count')\n",
    "plt.legend(title='Left', labels=['Stayed(0)', 'Left(1)'])\n",
    "plt.show()"
   ]
  },
  {
   "cell_type": "markdown",
   "id": "46199e5e",
   "metadata": {},
   "source": [
    "By observing the above graph we can obsever theres a impbalce between both the 1's and 0's"
   ]
  },
  {
   "cell_type": "code",
   "execution_count": 38,
   "id": "70b30142",
   "metadata": {
    "colab": {
     "base_uri": "https://localhost:8080/",
     "height": 206
    },
    "id": "70b30142",
    "outputId": "43b9c776-2290-4e61-e32c-f4aad43be8fe"
   },
   "outputs": [
    {
     "data": {
      "text/html": [
       "<div>\n",
       "<style scoped>\n",
       "    .dataframe tbody tr th:only-of-type {\n",
       "        vertical-align: middle;\n",
       "    }\n",
       "\n",
       "    .dataframe tbody tr th {\n",
       "        vertical-align: top;\n",
       "    }\n",
       "\n",
       "    .dataframe thead th {\n",
       "        text-align: right;\n",
       "    }\n",
       "</style>\n",
       "<table border=\"1\" class=\"dataframe\">\n",
       "  <thead>\n",
       "    <tr style=\"text-align: right;\">\n",
       "      <th></th>\n",
       "      <th>Gender</th>\n",
       "      <th>Distance</th>\n",
       "      <th>YearsWorked</th>\n",
       "      <th>PreviousSalary</th>\n",
       "      <th>Salary</th>\n",
       "      <th>DepartmentCode</th>\n",
       "      <th>Salary_Change_Percentage</th>\n",
       "      <th>cluster</th>\n",
       "      <th>left</th>\n",
       "    </tr>\n",
       "  </thead>\n",
       "  <tbody>\n",
       "    <tr>\n",
       "      <th>0</th>\n",
       "      <td>0</td>\n",
       "      <td>~20miles</td>\n",
       "      <td>8</td>\n",
       "      <td>63000.0</td>\n",
       "      <td>66000.0</td>\n",
       "      <td>3</td>\n",
       "      <td>4.761905</td>\n",
       "      <td>1</td>\n",
       "      <td>0</td>\n",
       "    </tr>\n",
       "    <tr>\n",
       "      <th>1</th>\n",
       "      <td>0</td>\n",
       "      <td>&gt;30miles</td>\n",
       "      <td>7</td>\n",
       "      <td>60000.0</td>\n",
       "      <td>63000.0</td>\n",
       "      <td>3</td>\n",
       "      <td>5.000000</td>\n",
       "      <td>0</td>\n",
       "      <td>1</td>\n",
       "    </tr>\n",
       "    <tr>\n",
       "      <th>2</th>\n",
       "      <td>0</td>\n",
       "      <td>~15miles</td>\n",
       "      <td>7</td>\n",
       "      <td>59000.0</td>\n",
       "      <td>60000.0</td>\n",
       "      <td>3</td>\n",
       "      <td>1.694915</td>\n",
       "      <td>1</td>\n",
       "      <td>0</td>\n",
       "    </tr>\n",
       "    <tr>\n",
       "      <th>3</th>\n",
       "      <td>1</td>\n",
       "      <td>&lt;5mile</td>\n",
       "      <td>3</td>\n",
       "      <td>60000.0</td>\n",
       "      <td>61000.0</td>\n",
       "      <td>2</td>\n",
       "      <td>1.666667</td>\n",
       "      <td>2</td>\n",
       "      <td>0</td>\n",
       "    </tr>\n",
       "    <tr>\n",
       "      <th>4</th>\n",
       "      <td>1</td>\n",
       "      <td>~10miles</td>\n",
       "      <td>9</td>\n",
       "      <td>56000.0</td>\n",
       "      <td>57000.0</td>\n",
       "      <td>7</td>\n",
       "      <td>1.785714</td>\n",
       "      <td>3</td>\n",
       "      <td>0</td>\n",
       "    </tr>\n",
       "  </tbody>\n",
       "</table>\n",
       "</div>"
      ],
      "text/plain": [
       "   Gender  Distance  YearsWorked  PreviousSalary   Salary  DepartmentCode  \\\n",
       "0       0  ~20miles            8         63000.0  66000.0               3   \n",
       "1       0  >30miles            7         60000.0  63000.0               3   \n",
       "2       0  ~15miles            7         59000.0  60000.0               3   \n",
       "3       1    <5mile            3         60000.0  61000.0               2   \n",
       "4       1  ~10miles            9         56000.0  57000.0               7   \n",
       "\n",
       "   Salary_Change_Percentage  cluster left  \n",
       "0                  4.761905        1    0  \n",
       "1                  5.000000        0    1  \n",
       "2                  1.694915        1    0  \n",
       "3                  1.666667        2    0  \n",
       "4                  1.785714        3    0  "
      ]
     },
     "execution_count": 38,
     "metadata": {},
     "output_type": "execute_result"
    }
   ],
   "source": [
    "X_train.head()"
   ]
  },
  {
   "cell_type": "markdown",
   "id": "hWF0lL3pygVQ",
   "metadata": {
    "id": "hWF0lL3pygVQ"
   },
   "source": [
    "# **Modelling**"
   ]
  },
  {
   "cell_type": "code",
   "execution_count": 39,
   "id": "fd76Fd-83qVN",
   "metadata": {
    "id": "fd76Fd-83qVN"
   },
   "outputs": [],
   "source": [
    "dX_train = X_train.drop('left', axis =1)\n",
    "dy_train = X_train['left']"
   ]
  },
  {
   "cell_type": "code",
   "execution_count": 40,
   "id": "Tfijya-3yRPr",
   "metadata": {
    "colab": {
     "base_uri": "https://localhost:8080/",
     "height": 288
    },
    "id": "Tfijya-3yRPr",
    "outputId": "752d09c4-5f12-429d-83d9-561b96cb85fc"
   },
   "outputs": [
    {
     "data": {
      "text/html": [
       "<style>#sk-container-id-2 {color: black;}#sk-container-id-2 pre{padding: 0;}#sk-container-id-2 div.sk-toggleable {background-color: white;}#sk-container-id-2 label.sk-toggleable__label {cursor: pointer;display: block;width: 100%;margin-bottom: 0;padding: 0.3em;box-sizing: border-box;text-align: center;}#sk-container-id-2 label.sk-toggleable__label-arrow:before {content: \"▸\";float: left;margin-right: 0.25em;color: #696969;}#sk-container-id-2 label.sk-toggleable__label-arrow:hover:before {color: black;}#sk-container-id-2 div.sk-estimator:hover label.sk-toggleable__label-arrow:before {color: black;}#sk-container-id-2 div.sk-toggleable__content {max-height: 0;max-width: 0;overflow: hidden;text-align: left;background-color: #f0f8ff;}#sk-container-id-2 div.sk-toggleable__content pre {margin: 0.2em;color: black;border-radius: 0.25em;background-color: #f0f8ff;}#sk-container-id-2 input.sk-toggleable__control:checked~div.sk-toggleable__content {max-height: 200px;max-width: 100%;overflow: auto;}#sk-container-id-2 input.sk-toggleable__control:checked~label.sk-toggleable__label-arrow:before {content: \"▾\";}#sk-container-id-2 div.sk-estimator input.sk-toggleable__control:checked~label.sk-toggleable__label {background-color: #d4ebff;}#sk-container-id-2 div.sk-label input.sk-toggleable__control:checked~label.sk-toggleable__label {background-color: #d4ebff;}#sk-container-id-2 input.sk-hidden--visually {border: 0;clip: rect(1px 1px 1px 1px);clip: rect(1px, 1px, 1px, 1px);height: 1px;margin: -1px;overflow: hidden;padding: 0;position: absolute;width: 1px;}#sk-container-id-2 div.sk-estimator {font-family: monospace;background-color: #f0f8ff;border: 1px dotted black;border-radius: 0.25em;box-sizing: border-box;margin-bottom: 0.5em;}#sk-container-id-2 div.sk-estimator:hover {background-color: #d4ebff;}#sk-container-id-2 div.sk-parallel-item::after {content: \"\";width: 100%;border-bottom: 1px solid gray;flex-grow: 1;}#sk-container-id-2 div.sk-label:hover label.sk-toggleable__label {background-color: #d4ebff;}#sk-container-id-2 div.sk-serial::before {content: \"\";position: absolute;border-left: 1px solid gray;box-sizing: border-box;top: 0;bottom: 0;left: 50%;z-index: 0;}#sk-container-id-2 div.sk-serial {display: flex;flex-direction: column;align-items: center;background-color: white;padding-right: 0.2em;padding-left: 0.2em;position: relative;}#sk-container-id-2 div.sk-item {position: relative;z-index: 1;}#sk-container-id-2 div.sk-parallel {display: flex;align-items: stretch;justify-content: center;background-color: white;position: relative;}#sk-container-id-2 div.sk-item::before, #sk-container-id-2 div.sk-parallel-item::before {content: \"\";position: absolute;border-left: 1px solid gray;box-sizing: border-box;top: 0;bottom: 0;left: 50%;z-index: -1;}#sk-container-id-2 div.sk-parallel-item {display: flex;flex-direction: column;z-index: 1;position: relative;background-color: white;}#sk-container-id-2 div.sk-parallel-item:first-child::after {align-self: flex-end;width: 50%;}#sk-container-id-2 div.sk-parallel-item:last-child::after {align-self: flex-start;width: 50%;}#sk-container-id-2 div.sk-parallel-item:only-child::after {width: 0;}#sk-container-id-2 div.sk-dashed-wrapped {border: 1px dashed gray;margin: 0 0.4em 0.5em 0.4em;box-sizing: border-box;padding-bottom: 0.4em;background-color: white;}#sk-container-id-2 div.sk-label label {font-family: monospace;font-weight: bold;display: inline-block;line-height: 1.2em;}#sk-container-id-2 div.sk-label-container {text-align: center;}#sk-container-id-2 div.sk-container {/* jupyter's `normalize.less` sets `[hidden] { display: none; }` but bootstrap.min.css set `[hidden] { display: none !important; }` so we also need the `!important` here to be able to override the default hidden behavior on the sphinx rendered scikit-learn.org. See: https://github.com/scikit-learn/scikit-learn/issues/21755 */display: inline-block !important;position: relative;}#sk-container-id-2 div.sk-text-repr-fallback {display: none;}</style><div id=\"sk-container-id-2\" class=\"sk-top-container\"><div class=\"sk-text-repr-fallback\"><pre>GridSearchCV(cv=5,\n",
       "             estimator=Pipeline(steps=[(&#x27;processing_pipeline&#x27;,\n",
       "                                        ColumnTransformer(transformers=[(&#x27;num &#x27;\n",
       "                                                                         &#x27;pipeline&#x27;,\n",
       "                                                                         Pipeline(steps=[(&#x27;impute_missing&#x27;,\n",
       "                                                                                          SimpleImputer(strategy=&#x27;median&#x27;)),\n",
       "                                                                                         (&#x27;standardize_num&#x27;,\n",
       "                                                                                          StandardScaler())]),\n",
       "                                                                         [&#x27;YearsWorked&#x27;,\n",
       "                                                                          &#x27;PreviousSalary&#x27;,\n",
       "                                                                          &#x27;Salary&#x27;]),\n",
       "                                                                        (&#x27;cat &#x27;\n",
       "                                                                         &#x27;pipeline&#x27;,\n",
       "                                                                         Pipeline(steps=[(&#x27;impute_missing_cats&#x27;,\n",
       "                                                                                          SimpleImputer(strategy=&#x27;most_frequent&#x27;)),\n",
       "                                                                                         (&#x27;create_dummies_cats&#x27;,\n",
       "                                                                                          OneHotEncoder(drop=&#x27;first&#x27;,\n",
       "                                                                                                        handle_unknown=&#x27;ignore&#x27;))]),\n",
       "                                                                         [&#x27;Gender&#x27;,\n",
       "                                                                          &#x27;Distance&#x27;,\n",
       "                                                                          &#x27;DepartmentCode&#x27;])])),\n",
       "                                       (&#x27;pca&#x27;, PCA()),\n",
       "                                       (&#x27;lr_model&#x27;,\n",
       "                                        LogisticRegression(random_state=42))]),\n",
       "             param_grid={&#x27;lr_model__C&#x27;: [0.01, 0.1, 1, 10, 100, 1000],\n",
       "                         &#x27;pca__n_components&#x27;: [2, 5, 8]},\n",
       "             scoring=&#x27;f1&#x27;)</pre><b>In a Jupyter environment, please rerun this cell to show the HTML representation or trust the notebook. <br />On GitHub, the HTML representation is unable to render, please try loading this page with nbviewer.org.</b></div><div class=\"sk-container\" hidden><div class=\"sk-item sk-dashed-wrapped\"><div class=\"sk-label-container\"><div class=\"sk-label sk-toggleable\"><input class=\"sk-toggleable__control sk-hidden--visually\" id=\"sk-estimator-id-8\" type=\"checkbox\" ><label for=\"sk-estimator-id-8\" class=\"sk-toggleable__label sk-toggleable__label-arrow\">GridSearchCV</label><div class=\"sk-toggleable__content\"><pre>GridSearchCV(cv=5,\n",
       "             estimator=Pipeline(steps=[(&#x27;processing_pipeline&#x27;,\n",
       "                                        ColumnTransformer(transformers=[(&#x27;num &#x27;\n",
       "                                                                         &#x27;pipeline&#x27;,\n",
       "                                                                         Pipeline(steps=[(&#x27;impute_missing&#x27;,\n",
       "                                                                                          SimpleImputer(strategy=&#x27;median&#x27;)),\n",
       "                                                                                         (&#x27;standardize_num&#x27;,\n",
       "                                                                                          StandardScaler())]),\n",
       "                                                                         [&#x27;YearsWorked&#x27;,\n",
       "                                                                          &#x27;PreviousSalary&#x27;,\n",
       "                                                                          &#x27;Salary&#x27;]),\n",
       "                                                                        (&#x27;cat &#x27;\n",
       "                                                                         &#x27;pipeline&#x27;,\n",
       "                                                                         Pipeline(steps=[(&#x27;impute_missing_cats&#x27;,\n",
       "                                                                                          SimpleImputer(strategy=&#x27;most_frequent&#x27;)),\n",
       "                                                                                         (&#x27;create_dummies_cats&#x27;,\n",
       "                                                                                          OneHotEncoder(drop=&#x27;first&#x27;,\n",
       "                                                                                                        handle_unknown=&#x27;ignore&#x27;))]),\n",
       "                                                                         [&#x27;Gender&#x27;,\n",
       "                                                                          &#x27;Distance&#x27;,\n",
       "                                                                          &#x27;DepartmentCode&#x27;])])),\n",
       "                                       (&#x27;pca&#x27;, PCA()),\n",
       "                                       (&#x27;lr_model&#x27;,\n",
       "                                        LogisticRegression(random_state=42))]),\n",
       "             param_grid={&#x27;lr_model__C&#x27;: [0.01, 0.1, 1, 10, 100, 1000],\n",
       "                         &#x27;pca__n_components&#x27;: [2, 5, 8]},\n",
       "             scoring=&#x27;f1&#x27;)</pre></div></div></div><div class=\"sk-parallel\"><div class=\"sk-parallel-item\"><div class=\"sk-item\"><div class=\"sk-label-container\"><div class=\"sk-label sk-toggleable\"><input class=\"sk-toggleable__control sk-hidden--visually\" id=\"sk-estimator-id-9\" type=\"checkbox\" ><label for=\"sk-estimator-id-9\" class=\"sk-toggleable__label sk-toggleable__label-arrow\">estimator: Pipeline</label><div class=\"sk-toggleable__content\"><pre>Pipeline(steps=[(&#x27;processing_pipeline&#x27;,\n",
       "                 ColumnTransformer(transformers=[(&#x27;num pipeline&#x27;,\n",
       "                                                  Pipeline(steps=[(&#x27;impute_missing&#x27;,\n",
       "                                                                   SimpleImputer(strategy=&#x27;median&#x27;)),\n",
       "                                                                  (&#x27;standardize_num&#x27;,\n",
       "                                                                   StandardScaler())]),\n",
       "                                                  [&#x27;YearsWorked&#x27;,\n",
       "                                                   &#x27;PreviousSalary&#x27;,\n",
       "                                                   &#x27;Salary&#x27;]),\n",
       "                                                 (&#x27;cat pipeline&#x27;,\n",
       "                                                  Pipeline(steps=[(&#x27;impute_missing_cats&#x27;,\n",
       "                                                                   SimpleImputer(strategy=&#x27;most_frequent&#x27;)),\n",
       "                                                                  (&#x27;create_dummies_cats&#x27;,\n",
       "                                                                   OneHotEncoder(drop=&#x27;first&#x27;,\n",
       "                                                                                 handle_unknown=&#x27;ignore&#x27;))]),\n",
       "                                                  [&#x27;Gender&#x27;, &#x27;Distance&#x27;,\n",
       "                                                   &#x27;DepartmentCode&#x27;])])),\n",
       "                (&#x27;pca&#x27;, PCA()),\n",
       "                (&#x27;lr_model&#x27;, LogisticRegression(random_state=42))])</pre></div></div></div><div class=\"sk-serial\"><div class=\"sk-item\"><div class=\"sk-serial\"><div class=\"sk-item sk-dashed-wrapped\"><div class=\"sk-label-container\"><div class=\"sk-label sk-toggleable\"><input class=\"sk-toggleable__control sk-hidden--visually\" id=\"sk-estimator-id-10\" type=\"checkbox\" ><label for=\"sk-estimator-id-10\" class=\"sk-toggleable__label sk-toggleable__label-arrow\">processing_pipeline: ColumnTransformer</label><div class=\"sk-toggleable__content\"><pre>ColumnTransformer(transformers=[(&#x27;num pipeline&#x27;,\n",
       "                                 Pipeline(steps=[(&#x27;impute_missing&#x27;,\n",
       "                                                  SimpleImputer(strategy=&#x27;median&#x27;)),\n",
       "                                                 (&#x27;standardize_num&#x27;,\n",
       "                                                  StandardScaler())]),\n",
       "                                 [&#x27;YearsWorked&#x27;, &#x27;PreviousSalary&#x27;, &#x27;Salary&#x27;]),\n",
       "                                (&#x27;cat pipeline&#x27;,\n",
       "                                 Pipeline(steps=[(&#x27;impute_missing_cats&#x27;,\n",
       "                                                  SimpleImputer(strategy=&#x27;most_frequent&#x27;)),\n",
       "                                                 (&#x27;create_dummies_cats&#x27;,\n",
       "                                                  OneHotEncoder(drop=&#x27;first&#x27;,\n",
       "                                                                handle_unknown=&#x27;ignore&#x27;))]),\n",
       "                                 [&#x27;Gender&#x27;, &#x27;Distance&#x27;, &#x27;DepartmentCode&#x27;])])</pre></div></div></div><div class=\"sk-parallel\"><div class=\"sk-parallel-item\"><div class=\"sk-item\"><div class=\"sk-label-container\"><div class=\"sk-label sk-toggleable\"><input class=\"sk-toggleable__control sk-hidden--visually\" id=\"sk-estimator-id-11\" type=\"checkbox\" ><label for=\"sk-estimator-id-11\" class=\"sk-toggleable__label sk-toggleable__label-arrow\">num pipeline</label><div class=\"sk-toggleable__content\"><pre>[&#x27;YearsWorked&#x27;, &#x27;PreviousSalary&#x27;, &#x27;Salary&#x27;]</pre></div></div></div><div class=\"sk-serial\"><div class=\"sk-item\"><div class=\"sk-serial\"><div class=\"sk-item\"><div class=\"sk-estimator sk-toggleable\"><input class=\"sk-toggleable__control sk-hidden--visually\" id=\"sk-estimator-id-12\" type=\"checkbox\" ><label for=\"sk-estimator-id-12\" class=\"sk-toggleable__label sk-toggleable__label-arrow\">SimpleImputer</label><div class=\"sk-toggleable__content\"><pre>SimpleImputer(strategy=&#x27;median&#x27;)</pre></div></div></div><div class=\"sk-item\"><div class=\"sk-estimator sk-toggleable\"><input class=\"sk-toggleable__control sk-hidden--visually\" id=\"sk-estimator-id-13\" type=\"checkbox\" ><label for=\"sk-estimator-id-13\" class=\"sk-toggleable__label sk-toggleable__label-arrow\">StandardScaler</label><div class=\"sk-toggleable__content\"><pre>StandardScaler()</pre></div></div></div></div></div></div></div></div><div class=\"sk-parallel-item\"><div class=\"sk-item\"><div class=\"sk-label-container\"><div class=\"sk-label sk-toggleable\"><input class=\"sk-toggleable__control sk-hidden--visually\" id=\"sk-estimator-id-14\" type=\"checkbox\" ><label for=\"sk-estimator-id-14\" class=\"sk-toggleable__label sk-toggleable__label-arrow\">cat pipeline</label><div class=\"sk-toggleable__content\"><pre>[&#x27;Gender&#x27;, &#x27;Distance&#x27;, &#x27;DepartmentCode&#x27;]</pre></div></div></div><div class=\"sk-serial\"><div class=\"sk-item\"><div class=\"sk-serial\"><div class=\"sk-item\"><div class=\"sk-estimator sk-toggleable\"><input class=\"sk-toggleable__control sk-hidden--visually\" id=\"sk-estimator-id-15\" type=\"checkbox\" ><label for=\"sk-estimator-id-15\" class=\"sk-toggleable__label sk-toggleable__label-arrow\">SimpleImputer</label><div class=\"sk-toggleable__content\"><pre>SimpleImputer(strategy=&#x27;most_frequent&#x27;)</pre></div></div></div><div class=\"sk-item\"><div class=\"sk-estimator sk-toggleable\"><input class=\"sk-toggleable__control sk-hidden--visually\" id=\"sk-estimator-id-16\" type=\"checkbox\" ><label for=\"sk-estimator-id-16\" class=\"sk-toggleable__label sk-toggleable__label-arrow\">OneHotEncoder</label><div class=\"sk-toggleable__content\"><pre>OneHotEncoder(drop=&#x27;first&#x27;, handle_unknown=&#x27;ignore&#x27;)</pre></div></div></div></div></div></div></div></div></div></div><div class=\"sk-item\"><div class=\"sk-estimator sk-toggleable\"><input class=\"sk-toggleable__control sk-hidden--visually\" id=\"sk-estimator-id-17\" type=\"checkbox\" ><label for=\"sk-estimator-id-17\" class=\"sk-toggleable__label sk-toggleable__label-arrow\">PCA</label><div class=\"sk-toggleable__content\"><pre>PCA()</pre></div></div></div><div class=\"sk-item\"><div class=\"sk-estimator sk-toggleable\"><input class=\"sk-toggleable__control sk-hidden--visually\" id=\"sk-estimator-id-18\" type=\"checkbox\" ><label for=\"sk-estimator-id-18\" class=\"sk-toggleable__label sk-toggleable__label-arrow\">LogisticRegression</label><div class=\"sk-toggleable__content\"><pre>LogisticRegression(random_state=42)</pre></div></div></div></div></div></div></div></div></div></div></div></div>"
      ],
      "text/plain": [
       "GridSearchCV(cv=5,\n",
       "             estimator=Pipeline(steps=[('processing_pipeline',\n",
       "                                        ColumnTransformer(transformers=[('num '\n",
       "                                                                         'pipeline',\n",
       "                                                                         Pipeline(steps=[('impute_missing',\n",
       "                                                                                          SimpleImputer(strategy='median')),\n",
       "                                                                                         ('standardize_num',\n",
       "                                                                                          StandardScaler())]),\n",
       "                                                                         ['YearsWorked',\n",
       "                                                                          'PreviousSalary',\n",
       "                                                                          'Salary']),\n",
       "                                                                        ('cat '\n",
       "                                                                         'pipeline',\n",
       "                                                                         Pipeline(steps=[('impute_missing_cats',\n",
       "                                                                                          SimpleImputer(strategy='most_frequent')),\n",
       "                                                                                         ('create_dummies_cats',\n",
       "                                                                                          OneHotEncoder(drop='first',\n",
       "                                                                                                        handle_unknown='ignore'))]),\n",
       "                                                                         ['Gender',\n",
       "                                                                          'Distance',\n",
       "                                                                          'DepartmentCode'])])),\n",
       "                                       ('pca', PCA()),\n",
       "                                       ('lr_model',\n",
       "                                        LogisticRegression(random_state=42))]),\n",
       "             param_grid={'lr_model__C': [0.01, 0.1, 1, 10, 100, 1000],\n",
       "                         'pca__n_components': [2, 5, 8]},\n",
       "             scoring='f1')"
      ]
     },
     "execution_count": 40,
     "metadata": {},
     "output_type": "execute_result"
    }
   ],
   "source": [
    "# logistic Regression\n",
    "\n",
    "pipeline = Pipeline([\n",
    "    ('processing_pipeline', processing_pipeline),\n",
    "    ('pca', PCA()),  # Set the desired explained variance\n",
    "    ('lr_model', LogisticRegression(random_state=42))\n",
    "])\n",
    "\n",
    "param_grid = {'pca__n_components': [2,5,8], 'lr_model__C': [0.01, 0.1, 1, 10, 100, 1000]}\n",
    "\n",
    "grid_search = GridSearchCV(pipeline, param_grid, cv=5, scoring  = 'f1', refit=True)\n",
    "grid_search.fit(dX_train, dy_train)"
   ]
  },
  {
   "cell_type": "code",
   "execution_count": 41,
   "id": "Ch1rLKMF3u6a",
   "metadata": {
    "colab": {
     "base_uri": "https://localhost:8080/",
     "height": 262
    },
    "id": "Ch1rLKMF3u6a",
    "outputId": "7897a9b3-96a3-425b-d847-19efbc94b4f5"
   },
   "outputs": [
    {
     "data": {
      "text/html": [
       "<style>#sk-container-id-3 {color: black;}#sk-container-id-3 pre{padding: 0;}#sk-container-id-3 div.sk-toggleable {background-color: white;}#sk-container-id-3 label.sk-toggleable__label {cursor: pointer;display: block;width: 100%;margin-bottom: 0;padding: 0.3em;box-sizing: border-box;text-align: center;}#sk-container-id-3 label.sk-toggleable__label-arrow:before {content: \"▸\";float: left;margin-right: 0.25em;color: #696969;}#sk-container-id-3 label.sk-toggleable__label-arrow:hover:before {color: black;}#sk-container-id-3 div.sk-estimator:hover label.sk-toggleable__label-arrow:before {color: black;}#sk-container-id-3 div.sk-toggleable__content {max-height: 0;max-width: 0;overflow: hidden;text-align: left;background-color: #f0f8ff;}#sk-container-id-3 div.sk-toggleable__content pre {margin: 0.2em;color: black;border-radius: 0.25em;background-color: #f0f8ff;}#sk-container-id-3 input.sk-toggleable__control:checked~div.sk-toggleable__content {max-height: 200px;max-width: 100%;overflow: auto;}#sk-container-id-3 input.sk-toggleable__control:checked~label.sk-toggleable__label-arrow:before {content: \"▾\";}#sk-container-id-3 div.sk-estimator input.sk-toggleable__control:checked~label.sk-toggleable__label {background-color: #d4ebff;}#sk-container-id-3 div.sk-label input.sk-toggleable__control:checked~label.sk-toggleable__label {background-color: #d4ebff;}#sk-container-id-3 input.sk-hidden--visually {border: 0;clip: rect(1px 1px 1px 1px);clip: rect(1px, 1px, 1px, 1px);height: 1px;margin: -1px;overflow: hidden;padding: 0;position: absolute;width: 1px;}#sk-container-id-3 div.sk-estimator {font-family: monospace;background-color: #f0f8ff;border: 1px dotted black;border-radius: 0.25em;box-sizing: border-box;margin-bottom: 0.5em;}#sk-container-id-3 div.sk-estimator:hover {background-color: #d4ebff;}#sk-container-id-3 div.sk-parallel-item::after {content: \"\";width: 100%;border-bottom: 1px solid gray;flex-grow: 1;}#sk-container-id-3 div.sk-label:hover label.sk-toggleable__label {background-color: #d4ebff;}#sk-container-id-3 div.sk-serial::before {content: \"\";position: absolute;border-left: 1px solid gray;box-sizing: border-box;top: 0;bottom: 0;left: 50%;z-index: 0;}#sk-container-id-3 div.sk-serial {display: flex;flex-direction: column;align-items: center;background-color: white;padding-right: 0.2em;padding-left: 0.2em;position: relative;}#sk-container-id-3 div.sk-item {position: relative;z-index: 1;}#sk-container-id-3 div.sk-parallel {display: flex;align-items: stretch;justify-content: center;background-color: white;position: relative;}#sk-container-id-3 div.sk-item::before, #sk-container-id-3 div.sk-parallel-item::before {content: \"\";position: absolute;border-left: 1px solid gray;box-sizing: border-box;top: 0;bottom: 0;left: 50%;z-index: -1;}#sk-container-id-3 div.sk-parallel-item {display: flex;flex-direction: column;z-index: 1;position: relative;background-color: white;}#sk-container-id-3 div.sk-parallel-item:first-child::after {align-self: flex-end;width: 50%;}#sk-container-id-3 div.sk-parallel-item:last-child::after {align-self: flex-start;width: 50%;}#sk-container-id-3 div.sk-parallel-item:only-child::after {width: 0;}#sk-container-id-3 div.sk-dashed-wrapped {border: 1px dashed gray;margin: 0 0.4em 0.5em 0.4em;box-sizing: border-box;padding-bottom: 0.4em;background-color: white;}#sk-container-id-3 div.sk-label label {font-family: monospace;font-weight: bold;display: inline-block;line-height: 1.2em;}#sk-container-id-3 div.sk-label-container {text-align: center;}#sk-container-id-3 div.sk-container {/* jupyter's `normalize.less` sets `[hidden] { display: none; }` but bootstrap.min.css set `[hidden] { display: none !important; }` so we also need the `!important` here to be able to override the default hidden behavior on the sphinx rendered scikit-learn.org. See: https://github.com/scikit-learn/scikit-learn/issues/21755 */display: inline-block !important;position: relative;}#sk-container-id-3 div.sk-text-repr-fallback {display: none;}</style><div id=\"sk-container-id-3\" class=\"sk-top-container\"><div class=\"sk-text-repr-fallback\"><pre>Pipeline(steps=[(&#x27;processing_pipeline&#x27;,\n",
       "                 ColumnTransformer(transformers=[(&#x27;num pipeline&#x27;,\n",
       "                                                  Pipeline(steps=[(&#x27;impute_missing&#x27;,\n",
       "                                                                   SimpleImputer(strategy=&#x27;median&#x27;)),\n",
       "                                                                  (&#x27;standardize_num&#x27;,\n",
       "                                                                   StandardScaler())]),\n",
       "                                                  [&#x27;YearsWorked&#x27;,\n",
       "                                                   &#x27;PreviousSalary&#x27;,\n",
       "                                                   &#x27;Salary&#x27;]),\n",
       "                                                 (&#x27;cat pipeline&#x27;,\n",
       "                                                  Pipeline(steps=[(&#x27;impute_missing_cats&#x27;,\n",
       "                                                                   SimpleImputer(strategy=&#x27;most_frequent&#x27;)),\n",
       "                                                                  (&#x27;create_dummies_cats&#x27;,\n",
       "                                                                   OneHotEncoder(drop=&#x27;first&#x27;,\n",
       "                                                                                 handle_unknown=&#x27;ignore&#x27;))]),\n",
       "                                                  [&#x27;Gender&#x27;, &#x27;Distance&#x27;,\n",
       "                                                   &#x27;DepartmentCode&#x27;])])),\n",
       "                (&#x27;pca&#x27;, PCA(n_components=2)),\n",
       "                (&#x27;lr_model&#x27;, LogisticRegression(C=0.01, random_state=42))])</pre><b>In a Jupyter environment, please rerun this cell to show the HTML representation or trust the notebook. <br />On GitHub, the HTML representation is unable to render, please try loading this page with nbviewer.org.</b></div><div class=\"sk-container\" hidden><div class=\"sk-item sk-dashed-wrapped\"><div class=\"sk-label-container\"><div class=\"sk-label sk-toggleable\"><input class=\"sk-toggleable__control sk-hidden--visually\" id=\"sk-estimator-id-19\" type=\"checkbox\" ><label for=\"sk-estimator-id-19\" class=\"sk-toggleable__label sk-toggleable__label-arrow\">Pipeline</label><div class=\"sk-toggleable__content\"><pre>Pipeline(steps=[(&#x27;processing_pipeline&#x27;,\n",
       "                 ColumnTransformer(transformers=[(&#x27;num pipeline&#x27;,\n",
       "                                                  Pipeline(steps=[(&#x27;impute_missing&#x27;,\n",
       "                                                                   SimpleImputer(strategy=&#x27;median&#x27;)),\n",
       "                                                                  (&#x27;standardize_num&#x27;,\n",
       "                                                                   StandardScaler())]),\n",
       "                                                  [&#x27;YearsWorked&#x27;,\n",
       "                                                   &#x27;PreviousSalary&#x27;,\n",
       "                                                   &#x27;Salary&#x27;]),\n",
       "                                                 (&#x27;cat pipeline&#x27;,\n",
       "                                                  Pipeline(steps=[(&#x27;impute_missing_cats&#x27;,\n",
       "                                                                   SimpleImputer(strategy=&#x27;most_frequent&#x27;)),\n",
       "                                                                  (&#x27;create_dummies_cats&#x27;,\n",
       "                                                                   OneHotEncoder(drop=&#x27;first&#x27;,\n",
       "                                                                                 handle_unknown=&#x27;ignore&#x27;))]),\n",
       "                                                  [&#x27;Gender&#x27;, &#x27;Distance&#x27;,\n",
       "                                                   &#x27;DepartmentCode&#x27;])])),\n",
       "                (&#x27;pca&#x27;, PCA(n_components=2)),\n",
       "                (&#x27;lr_model&#x27;, LogisticRegression(C=0.01, random_state=42))])</pre></div></div></div><div class=\"sk-serial\"><div class=\"sk-item sk-dashed-wrapped\"><div class=\"sk-label-container\"><div class=\"sk-label sk-toggleable\"><input class=\"sk-toggleable__control sk-hidden--visually\" id=\"sk-estimator-id-20\" type=\"checkbox\" ><label for=\"sk-estimator-id-20\" class=\"sk-toggleable__label sk-toggleable__label-arrow\">processing_pipeline: ColumnTransformer</label><div class=\"sk-toggleable__content\"><pre>ColumnTransformer(transformers=[(&#x27;num pipeline&#x27;,\n",
       "                                 Pipeline(steps=[(&#x27;impute_missing&#x27;,\n",
       "                                                  SimpleImputer(strategy=&#x27;median&#x27;)),\n",
       "                                                 (&#x27;standardize_num&#x27;,\n",
       "                                                  StandardScaler())]),\n",
       "                                 [&#x27;YearsWorked&#x27;, &#x27;PreviousSalary&#x27;, &#x27;Salary&#x27;]),\n",
       "                                (&#x27;cat pipeline&#x27;,\n",
       "                                 Pipeline(steps=[(&#x27;impute_missing_cats&#x27;,\n",
       "                                                  SimpleImputer(strategy=&#x27;most_frequent&#x27;)),\n",
       "                                                 (&#x27;create_dummies_cats&#x27;,\n",
       "                                                  OneHotEncoder(drop=&#x27;first&#x27;,\n",
       "                                                                handle_unknown=&#x27;ignore&#x27;))]),\n",
       "                                 [&#x27;Gender&#x27;, &#x27;Distance&#x27;, &#x27;DepartmentCode&#x27;])])</pre></div></div></div><div class=\"sk-parallel\"><div class=\"sk-parallel-item\"><div class=\"sk-item\"><div class=\"sk-label-container\"><div class=\"sk-label sk-toggleable\"><input class=\"sk-toggleable__control sk-hidden--visually\" id=\"sk-estimator-id-21\" type=\"checkbox\" ><label for=\"sk-estimator-id-21\" class=\"sk-toggleable__label sk-toggleable__label-arrow\">num pipeline</label><div class=\"sk-toggleable__content\"><pre>[&#x27;YearsWorked&#x27;, &#x27;PreviousSalary&#x27;, &#x27;Salary&#x27;]</pre></div></div></div><div class=\"sk-serial\"><div class=\"sk-item\"><div class=\"sk-serial\"><div class=\"sk-item\"><div class=\"sk-estimator sk-toggleable\"><input class=\"sk-toggleable__control sk-hidden--visually\" id=\"sk-estimator-id-22\" type=\"checkbox\" ><label for=\"sk-estimator-id-22\" class=\"sk-toggleable__label sk-toggleable__label-arrow\">SimpleImputer</label><div class=\"sk-toggleable__content\"><pre>SimpleImputer(strategy=&#x27;median&#x27;)</pre></div></div></div><div class=\"sk-item\"><div class=\"sk-estimator sk-toggleable\"><input class=\"sk-toggleable__control sk-hidden--visually\" id=\"sk-estimator-id-23\" type=\"checkbox\" ><label for=\"sk-estimator-id-23\" class=\"sk-toggleable__label sk-toggleable__label-arrow\">StandardScaler</label><div class=\"sk-toggleable__content\"><pre>StandardScaler()</pre></div></div></div></div></div></div></div></div><div class=\"sk-parallel-item\"><div class=\"sk-item\"><div class=\"sk-label-container\"><div class=\"sk-label sk-toggleable\"><input class=\"sk-toggleable__control sk-hidden--visually\" id=\"sk-estimator-id-24\" type=\"checkbox\" ><label for=\"sk-estimator-id-24\" class=\"sk-toggleable__label sk-toggleable__label-arrow\">cat pipeline</label><div class=\"sk-toggleable__content\"><pre>[&#x27;Gender&#x27;, &#x27;Distance&#x27;, &#x27;DepartmentCode&#x27;]</pre></div></div></div><div class=\"sk-serial\"><div class=\"sk-item\"><div class=\"sk-serial\"><div class=\"sk-item\"><div class=\"sk-estimator sk-toggleable\"><input class=\"sk-toggleable__control sk-hidden--visually\" id=\"sk-estimator-id-25\" type=\"checkbox\" ><label for=\"sk-estimator-id-25\" class=\"sk-toggleable__label sk-toggleable__label-arrow\">SimpleImputer</label><div class=\"sk-toggleable__content\"><pre>SimpleImputer(strategy=&#x27;most_frequent&#x27;)</pre></div></div></div><div class=\"sk-item\"><div class=\"sk-estimator sk-toggleable\"><input class=\"sk-toggleable__control sk-hidden--visually\" id=\"sk-estimator-id-26\" type=\"checkbox\" ><label for=\"sk-estimator-id-26\" class=\"sk-toggleable__label sk-toggleable__label-arrow\">OneHotEncoder</label><div class=\"sk-toggleable__content\"><pre>OneHotEncoder(drop=&#x27;first&#x27;, handle_unknown=&#x27;ignore&#x27;)</pre></div></div></div></div></div></div></div></div></div></div><div class=\"sk-item\"><div class=\"sk-estimator sk-toggleable\"><input class=\"sk-toggleable__control sk-hidden--visually\" id=\"sk-estimator-id-27\" type=\"checkbox\" ><label for=\"sk-estimator-id-27\" class=\"sk-toggleable__label sk-toggleable__label-arrow\">PCA</label><div class=\"sk-toggleable__content\"><pre>PCA(n_components=2)</pre></div></div></div><div class=\"sk-item\"><div class=\"sk-estimator sk-toggleable\"><input class=\"sk-toggleable__control sk-hidden--visually\" id=\"sk-estimator-id-28\" type=\"checkbox\" ><label for=\"sk-estimator-id-28\" class=\"sk-toggleable__label sk-toggleable__label-arrow\">LogisticRegression</label><div class=\"sk-toggleable__content\"><pre>LogisticRegression(C=0.01, random_state=42)</pre></div></div></div></div></div></div></div>"
      ],
      "text/plain": [
       "Pipeline(steps=[('processing_pipeline',\n",
       "                 ColumnTransformer(transformers=[('num pipeline',\n",
       "                                                  Pipeline(steps=[('impute_missing',\n",
       "                                                                   SimpleImputer(strategy='median')),\n",
       "                                                                  ('standardize_num',\n",
       "                                                                   StandardScaler())]),\n",
       "                                                  ['YearsWorked',\n",
       "                                                   'PreviousSalary',\n",
       "                                                   'Salary']),\n",
       "                                                 ('cat pipeline',\n",
       "                                                  Pipeline(steps=[('impute_missing_cats',\n",
       "                                                                   SimpleImputer(strategy='most_frequent')),\n",
       "                                                                  ('create_dummies_cats',\n",
       "                                                                   OneHotEncoder(drop='first',\n",
       "                                                                                 handle_unknown='ignore'))]),\n",
       "                                                  ['Gender', 'Distance',\n",
       "                                                   'DepartmentCode'])])),\n",
       "                ('pca', PCA(n_components=2)),\n",
       "                ('lr_model', LogisticRegression(C=0.01, random_state=42))])"
      ]
     },
     "execution_count": 41,
     "metadata": {},
     "output_type": "execute_result"
    }
   ],
   "source": [
    "# Evaluate the model\n",
    "best_model = grid_search.best_estimator_\n",
    "best_model"
   ]
  },
  {
   "cell_type": "code",
   "execution_count": 42,
   "id": "JAl4mHrd3xdu",
   "metadata": {
    "id": "JAl4mHrd3xdu"
   },
   "outputs": [],
   "source": [
    "# Make predictions on the test set\n",
    "y_pred = best_model.predict(X_test)"
   ]
  },
  {
   "cell_type": "code",
   "execution_count": 43,
   "id": "cJfnQ1Z930cl",
   "metadata": {
    "colab": {
     "base_uri": "https://localhost:8080/"
    },
    "id": "cJfnQ1Z930cl",
    "outputId": "f0006332-410d-4263-c7bf-aab7aea59b51"
   },
   "outputs": [
    {
     "name": "stdout",
     "output_type": "stream",
     "text": [
      "Best Parameters: {'lr_model__C': 0.01, 'pca__n_components': 2}\n",
      "\n",
      "Test Set Results:\n",
      "f1-score: 0.6278185415228894\n"
     ]
    }
   ],
   "source": [
    "f1 = f1_score(y_test, y_pred.astype(int), average='weighted')\n",
    "conf_matrix = confusion_matrix(y_test, y_pred.astype(int))\n",
    "class_report = classification_report(y_test, y_pred.astype(int))\n",
    "\n",
    "# Print the results\n",
    "print(f\"Best Parameters: {grid_search.best_params_}\")\n",
    "print(\"\\nTest Set Results:\")\n",
    "print(f\"f1-score: {f1}\")"
   ]
  },
  {
   "cell_type": "markdown",
   "id": "06300e55",
   "metadata": {},
   "source": [
    "The logistic regression model achieved an F1 score of approximately 0.628 on the test set using regularization strength (C) of 0.01 and 2 principal components after PCA. These parameters were selected through grid search optimization."
   ]
  },
  {
   "cell_type": "code",
   "execution_count": 44,
   "id": "DUQoBN6kfKd9",
   "metadata": {
    "colab": {
     "base_uri": "https://localhost:8080/",
     "height": 288
    },
    "id": "DUQoBN6kfKd9",
    "outputId": "92b441a6-eb86-4daa-e73b-5de65a03d12d"
   },
   "outputs": [
    {
     "data": {
      "text/html": [
       "<style>#sk-container-id-4 {color: black;}#sk-container-id-4 pre{padding: 0;}#sk-container-id-4 div.sk-toggleable {background-color: white;}#sk-container-id-4 label.sk-toggleable__label {cursor: pointer;display: block;width: 100%;margin-bottom: 0;padding: 0.3em;box-sizing: border-box;text-align: center;}#sk-container-id-4 label.sk-toggleable__label-arrow:before {content: \"▸\";float: left;margin-right: 0.25em;color: #696969;}#sk-container-id-4 label.sk-toggleable__label-arrow:hover:before {color: black;}#sk-container-id-4 div.sk-estimator:hover label.sk-toggleable__label-arrow:before {color: black;}#sk-container-id-4 div.sk-toggleable__content {max-height: 0;max-width: 0;overflow: hidden;text-align: left;background-color: #f0f8ff;}#sk-container-id-4 div.sk-toggleable__content pre {margin: 0.2em;color: black;border-radius: 0.25em;background-color: #f0f8ff;}#sk-container-id-4 input.sk-toggleable__control:checked~div.sk-toggleable__content {max-height: 200px;max-width: 100%;overflow: auto;}#sk-container-id-4 input.sk-toggleable__control:checked~label.sk-toggleable__label-arrow:before {content: \"▾\";}#sk-container-id-4 div.sk-estimator input.sk-toggleable__control:checked~label.sk-toggleable__label {background-color: #d4ebff;}#sk-container-id-4 div.sk-label input.sk-toggleable__control:checked~label.sk-toggleable__label {background-color: #d4ebff;}#sk-container-id-4 input.sk-hidden--visually {border: 0;clip: rect(1px 1px 1px 1px);clip: rect(1px, 1px, 1px, 1px);height: 1px;margin: -1px;overflow: hidden;padding: 0;position: absolute;width: 1px;}#sk-container-id-4 div.sk-estimator {font-family: monospace;background-color: #f0f8ff;border: 1px dotted black;border-radius: 0.25em;box-sizing: border-box;margin-bottom: 0.5em;}#sk-container-id-4 div.sk-estimator:hover {background-color: #d4ebff;}#sk-container-id-4 div.sk-parallel-item::after {content: \"\";width: 100%;border-bottom: 1px solid gray;flex-grow: 1;}#sk-container-id-4 div.sk-label:hover label.sk-toggleable__label {background-color: #d4ebff;}#sk-container-id-4 div.sk-serial::before {content: \"\";position: absolute;border-left: 1px solid gray;box-sizing: border-box;top: 0;bottom: 0;left: 50%;z-index: 0;}#sk-container-id-4 div.sk-serial {display: flex;flex-direction: column;align-items: center;background-color: white;padding-right: 0.2em;padding-left: 0.2em;position: relative;}#sk-container-id-4 div.sk-item {position: relative;z-index: 1;}#sk-container-id-4 div.sk-parallel {display: flex;align-items: stretch;justify-content: center;background-color: white;position: relative;}#sk-container-id-4 div.sk-item::before, #sk-container-id-4 div.sk-parallel-item::before {content: \"\";position: absolute;border-left: 1px solid gray;box-sizing: border-box;top: 0;bottom: 0;left: 50%;z-index: -1;}#sk-container-id-4 div.sk-parallel-item {display: flex;flex-direction: column;z-index: 1;position: relative;background-color: white;}#sk-container-id-4 div.sk-parallel-item:first-child::after {align-self: flex-end;width: 50%;}#sk-container-id-4 div.sk-parallel-item:last-child::after {align-self: flex-start;width: 50%;}#sk-container-id-4 div.sk-parallel-item:only-child::after {width: 0;}#sk-container-id-4 div.sk-dashed-wrapped {border: 1px dashed gray;margin: 0 0.4em 0.5em 0.4em;box-sizing: border-box;padding-bottom: 0.4em;background-color: white;}#sk-container-id-4 div.sk-label label {font-family: monospace;font-weight: bold;display: inline-block;line-height: 1.2em;}#sk-container-id-4 div.sk-label-container {text-align: center;}#sk-container-id-4 div.sk-container {/* jupyter's `normalize.less` sets `[hidden] { display: none; }` but bootstrap.min.css set `[hidden] { display: none !important; }` so we also need the `!important` here to be able to override the default hidden behavior on the sphinx rendered scikit-learn.org. See: https://github.com/scikit-learn/scikit-learn/issues/21755 */display: inline-block !important;position: relative;}#sk-container-id-4 div.sk-text-repr-fallback {display: none;}</style><div id=\"sk-container-id-4\" class=\"sk-top-container\"><div class=\"sk-text-repr-fallback\"><pre>GridSearchCV(cv=5,\n",
       "             estimator=Pipeline(steps=[(&#x27;data_processing&#x27;,\n",
       "                                        ColumnTransformer(transformers=[(&#x27;num &#x27;\n",
       "                                                                         &#x27;pipeline&#x27;,\n",
       "                                                                         Pipeline(steps=[(&#x27;impute_missing&#x27;,\n",
       "                                                                                          SimpleImputer(strategy=&#x27;median&#x27;)),\n",
       "                                                                                         (&#x27;standardize_num&#x27;,\n",
       "                                                                                          StandardScaler())]),\n",
       "                                                                         [&#x27;YearsWorked&#x27;,\n",
       "                                                                          &#x27;PreviousSalary&#x27;,\n",
       "                                                                          &#x27;Salary&#x27;]),\n",
       "                                                                        (&#x27;cat &#x27;\n",
       "                                                                         &#x27;pipeline&#x27;,\n",
       "                                                                         Pipeline(steps=[(&#x27;impute_missing_cats&#x27;,\n",
       "                                                                                          SimpleImputer(strategy=&#x27;most_fre...\n",
       "                                                                                                        handle_unknown=&#x27;ignore&#x27;))]),\n",
       "                                                                         [&#x27;Gender&#x27;,\n",
       "                                                                          &#x27;Distance&#x27;,\n",
       "                                                                          &#x27;DepartmentCode&#x27;])])),\n",
       "                                       (&#x27;pca&#x27;, PCA()),\n",
       "                                       (&#x27;classifier&#x27;,\n",
       "                                        DecisionTreeClassifier(random_state=42))]),\n",
       "             param_grid=[{&#x27;classifier__class_weight&#x27;: [None, &#x27;balanced&#x27;],\n",
       "                          &#x27;classifier__max_depth&#x27;: [2, 5, 10, 15, 20],\n",
       "                          &#x27;classifier__min_samples_leaf&#x27;: [2, 5],\n",
       "                          &#x27;classifier__min_samples_split&#x27;: [3, 5, 10, 20, 40],\n",
       "                          &#x27;pca__n_components&#x27;: [2, 5, 8]}],\n",
       "             scoring=&#x27;f1&#x27;)</pre><b>In a Jupyter environment, please rerun this cell to show the HTML representation or trust the notebook. <br />On GitHub, the HTML representation is unable to render, please try loading this page with nbviewer.org.</b></div><div class=\"sk-container\" hidden><div class=\"sk-item sk-dashed-wrapped\"><div class=\"sk-label-container\"><div class=\"sk-label sk-toggleable\"><input class=\"sk-toggleable__control sk-hidden--visually\" id=\"sk-estimator-id-29\" type=\"checkbox\" ><label for=\"sk-estimator-id-29\" class=\"sk-toggleable__label sk-toggleable__label-arrow\">GridSearchCV</label><div class=\"sk-toggleable__content\"><pre>GridSearchCV(cv=5,\n",
       "             estimator=Pipeline(steps=[(&#x27;data_processing&#x27;,\n",
       "                                        ColumnTransformer(transformers=[(&#x27;num &#x27;\n",
       "                                                                         &#x27;pipeline&#x27;,\n",
       "                                                                         Pipeline(steps=[(&#x27;impute_missing&#x27;,\n",
       "                                                                                          SimpleImputer(strategy=&#x27;median&#x27;)),\n",
       "                                                                                         (&#x27;standardize_num&#x27;,\n",
       "                                                                                          StandardScaler())]),\n",
       "                                                                         [&#x27;YearsWorked&#x27;,\n",
       "                                                                          &#x27;PreviousSalary&#x27;,\n",
       "                                                                          &#x27;Salary&#x27;]),\n",
       "                                                                        (&#x27;cat &#x27;\n",
       "                                                                         &#x27;pipeline&#x27;,\n",
       "                                                                         Pipeline(steps=[(&#x27;impute_missing_cats&#x27;,\n",
       "                                                                                          SimpleImputer(strategy=&#x27;most_fre...\n",
       "                                                                                                        handle_unknown=&#x27;ignore&#x27;))]),\n",
       "                                                                         [&#x27;Gender&#x27;,\n",
       "                                                                          &#x27;Distance&#x27;,\n",
       "                                                                          &#x27;DepartmentCode&#x27;])])),\n",
       "                                       (&#x27;pca&#x27;, PCA()),\n",
       "                                       (&#x27;classifier&#x27;,\n",
       "                                        DecisionTreeClassifier(random_state=42))]),\n",
       "             param_grid=[{&#x27;classifier__class_weight&#x27;: [None, &#x27;balanced&#x27;],\n",
       "                          &#x27;classifier__max_depth&#x27;: [2, 5, 10, 15, 20],\n",
       "                          &#x27;classifier__min_samples_leaf&#x27;: [2, 5],\n",
       "                          &#x27;classifier__min_samples_split&#x27;: [3, 5, 10, 20, 40],\n",
       "                          &#x27;pca__n_components&#x27;: [2, 5, 8]}],\n",
       "             scoring=&#x27;f1&#x27;)</pre></div></div></div><div class=\"sk-parallel\"><div class=\"sk-parallel-item\"><div class=\"sk-item\"><div class=\"sk-label-container\"><div class=\"sk-label sk-toggleable\"><input class=\"sk-toggleable__control sk-hidden--visually\" id=\"sk-estimator-id-30\" type=\"checkbox\" ><label for=\"sk-estimator-id-30\" class=\"sk-toggleable__label sk-toggleable__label-arrow\">estimator: Pipeline</label><div class=\"sk-toggleable__content\"><pre>Pipeline(steps=[(&#x27;data_processing&#x27;,\n",
       "                 ColumnTransformer(transformers=[(&#x27;num pipeline&#x27;,\n",
       "                                                  Pipeline(steps=[(&#x27;impute_missing&#x27;,\n",
       "                                                                   SimpleImputer(strategy=&#x27;median&#x27;)),\n",
       "                                                                  (&#x27;standardize_num&#x27;,\n",
       "                                                                   StandardScaler())]),\n",
       "                                                  [&#x27;YearsWorked&#x27;,\n",
       "                                                   &#x27;PreviousSalary&#x27;,\n",
       "                                                   &#x27;Salary&#x27;]),\n",
       "                                                 (&#x27;cat pipeline&#x27;,\n",
       "                                                  Pipeline(steps=[(&#x27;impute_missing_cats&#x27;,\n",
       "                                                                   SimpleImputer(strategy=&#x27;most_frequent&#x27;)),\n",
       "                                                                  (&#x27;create_dummies_cats&#x27;,\n",
       "                                                                   OneHotEncoder(drop=&#x27;first&#x27;,\n",
       "                                                                                 handle_unknown=&#x27;ignore&#x27;))]),\n",
       "                                                  [&#x27;Gender&#x27;, &#x27;Distance&#x27;,\n",
       "                                                   &#x27;DepartmentCode&#x27;])])),\n",
       "                (&#x27;pca&#x27;, PCA()),\n",
       "                (&#x27;classifier&#x27;, DecisionTreeClassifier(random_state=42))])</pre></div></div></div><div class=\"sk-serial\"><div class=\"sk-item\"><div class=\"sk-serial\"><div class=\"sk-item sk-dashed-wrapped\"><div class=\"sk-label-container\"><div class=\"sk-label sk-toggleable\"><input class=\"sk-toggleable__control sk-hidden--visually\" id=\"sk-estimator-id-31\" type=\"checkbox\" ><label for=\"sk-estimator-id-31\" class=\"sk-toggleable__label sk-toggleable__label-arrow\">data_processing: ColumnTransformer</label><div class=\"sk-toggleable__content\"><pre>ColumnTransformer(transformers=[(&#x27;num pipeline&#x27;,\n",
       "                                 Pipeline(steps=[(&#x27;impute_missing&#x27;,\n",
       "                                                  SimpleImputer(strategy=&#x27;median&#x27;)),\n",
       "                                                 (&#x27;standardize_num&#x27;,\n",
       "                                                  StandardScaler())]),\n",
       "                                 [&#x27;YearsWorked&#x27;, &#x27;PreviousSalary&#x27;, &#x27;Salary&#x27;]),\n",
       "                                (&#x27;cat pipeline&#x27;,\n",
       "                                 Pipeline(steps=[(&#x27;impute_missing_cats&#x27;,\n",
       "                                                  SimpleImputer(strategy=&#x27;most_frequent&#x27;)),\n",
       "                                                 (&#x27;create_dummies_cats&#x27;,\n",
       "                                                  OneHotEncoder(drop=&#x27;first&#x27;,\n",
       "                                                                handle_unknown=&#x27;ignore&#x27;))]),\n",
       "                                 [&#x27;Gender&#x27;, &#x27;Distance&#x27;, &#x27;DepartmentCode&#x27;])])</pre></div></div></div><div class=\"sk-parallel\"><div class=\"sk-parallel-item\"><div class=\"sk-item\"><div class=\"sk-label-container\"><div class=\"sk-label sk-toggleable\"><input class=\"sk-toggleable__control sk-hidden--visually\" id=\"sk-estimator-id-32\" type=\"checkbox\" ><label for=\"sk-estimator-id-32\" class=\"sk-toggleable__label sk-toggleable__label-arrow\">num pipeline</label><div class=\"sk-toggleable__content\"><pre>[&#x27;YearsWorked&#x27;, &#x27;PreviousSalary&#x27;, &#x27;Salary&#x27;]</pre></div></div></div><div class=\"sk-serial\"><div class=\"sk-item\"><div class=\"sk-serial\"><div class=\"sk-item\"><div class=\"sk-estimator sk-toggleable\"><input class=\"sk-toggleable__control sk-hidden--visually\" id=\"sk-estimator-id-33\" type=\"checkbox\" ><label for=\"sk-estimator-id-33\" class=\"sk-toggleable__label sk-toggleable__label-arrow\">SimpleImputer</label><div class=\"sk-toggleable__content\"><pre>SimpleImputer(strategy=&#x27;median&#x27;)</pre></div></div></div><div class=\"sk-item\"><div class=\"sk-estimator sk-toggleable\"><input class=\"sk-toggleable__control sk-hidden--visually\" id=\"sk-estimator-id-34\" type=\"checkbox\" ><label for=\"sk-estimator-id-34\" class=\"sk-toggleable__label sk-toggleable__label-arrow\">StandardScaler</label><div class=\"sk-toggleable__content\"><pre>StandardScaler()</pre></div></div></div></div></div></div></div></div><div class=\"sk-parallel-item\"><div class=\"sk-item\"><div class=\"sk-label-container\"><div class=\"sk-label sk-toggleable\"><input class=\"sk-toggleable__control sk-hidden--visually\" id=\"sk-estimator-id-35\" type=\"checkbox\" ><label for=\"sk-estimator-id-35\" class=\"sk-toggleable__label sk-toggleable__label-arrow\">cat pipeline</label><div class=\"sk-toggleable__content\"><pre>[&#x27;Gender&#x27;, &#x27;Distance&#x27;, &#x27;DepartmentCode&#x27;]</pre></div></div></div><div class=\"sk-serial\"><div class=\"sk-item\"><div class=\"sk-serial\"><div class=\"sk-item\"><div class=\"sk-estimator sk-toggleable\"><input class=\"sk-toggleable__control sk-hidden--visually\" id=\"sk-estimator-id-36\" type=\"checkbox\" ><label for=\"sk-estimator-id-36\" class=\"sk-toggleable__label sk-toggleable__label-arrow\">SimpleImputer</label><div class=\"sk-toggleable__content\"><pre>SimpleImputer(strategy=&#x27;most_frequent&#x27;)</pre></div></div></div><div class=\"sk-item\"><div class=\"sk-estimator sk-toggleable\"><input class=\"sk-toggleable__control sk-hidden--visually\" id=\"sk-estimator-id-37\" type=\"checkbox\" ><label for=\"sk-estimator-id-37\" class=\"sk-toggleable__label sk-toggleable__label-arrow\">OneHotEncoder</label><div class=\"sk-toggleable__content\"><pre>OneHotEncoder(drop=&#x27;first&#x27;, handle_unknown=&#x27;ignore&#x27;)</pre></div></div></div></div></div></div></div></div></div></div><div class=\"sk-item\"><div class=\"sk-estimator sk-toggleable\"><input class=\"sk-toggleable__control sk-hidden--visually\" id=\"sk-estimator-id-38\" type=\"checkbox\" ><label for=\"sk-estimator-id-38\" class=\"sk-toggleable__label sk-toggleable__label-arrow\">PCA</label><div class=\"sk-toggleable__content\"><pre>PCA()</pre></div></div></div><div class=\"sk-item\"><div class=\"sk-estimator sk-toggleable\"><input class=\"sk-toggleable__control sk-hidden--visually\" id=\"sk-estimator-id-39\" type=\"checkbox\" ><label for=\"sk-estimator-id-39\" class=\"sk-toggleable__label sk-toggleable__label-arrow\">DecisionTreeClassifier</label><div class=\"sk-toggleable__content\"><pre>DecisionTreeClassifier(random_state=42)</pre></div></div></div></div></div></div></div></div></div></div></div></div>"
      ],
      "text/plain": [
       "GridSearchCV(cv=5,\n",
       "             estimator=Pipeline(steps=[('data_processing',\n",
       "                                        ColumnTransformer(transformers=[('num '\n",
       "                                                                         'pipeline',\n",
       "                                                                         Pipeline(steps=[('impute_missing',\n",
       "                                                                                          SimpleImputer(strategy='median')),\n",
       "                                                                                         ('standardize_num',\n",
       "                                                                                          StandardScaler())]),\n",
       "                                                                         ['YearsWorked',\n",
       "                                                                          'PreviousSalary',\n",
       "                                                                          'Salary']),\n",
       "                                                                        ('cat '\n",
       "                                                                         'pipeline',\n",
       "                                                                         Pipeline(steps=[('impute_missing_cats',\n",
       "                                                                                          SimpleImputer(strategy='most_fre...\n",
       "                                                                                                        handle_unknown='ignore'))]),\n",
       "                                                                         ['Gender',\n",
       "                                                                          'Distance',\n",
       "                                                                          'DepartmentCode'])])),\n",
       "                                       ('pca', PCA()),\n",
       "                                       ('classifier',\n",
       "                                        DecisionTreeClassifier(random_state=42))]),\n",
       "             param_grid=[{'classifier__class_weight': [None, 'balanced'],\n",
       "                          'classifier__max_depth': [2, 5, 10, 15, 20],\n",
       "                          'classifier__min_samples_leaf': [2, 5],\n",
       "                          'classifier__min_samples_split': [3, 5, 10, 20, 40],\n",
       "                          'pca__n_components': [2, 5, 8]}],\n",
       "             scoring='f1')"
      ]
     },
     "execution_count": 44,
     "metadata": {},
     "output_type": "execute_result"
    }
   ],
   "source": [
    "# Decision Tree Classifier\n",
    "\n",
    "pipeline = Pipeline([\n",
    "    ('data_processing', processing_pipeline),\n",
    "    ('pca', PCA()),  # Set the desired explained variance\n",
    "    ('classifier', DecisionTreeClassifier(random_state=42))\n",
    "])\n",
    "\n",
    "param_grid = [{\n",
    "   'pca__n_components': [2, 5, 8],\n",
    "   'classifier__max_depth': [2, 5, 10, 15, 20],\n",
    "   'classifier__min_samples_split':[3, 5, 10, 20, 40],\n",
    "   'classifier__min_samples_leaf': [2, 5],\n",
    "   'classifier__class_weight':[None, 'balanced']\n",
    "  }\n",
    " ]\n",
    "\n",
    "grid_search = GridSearchCV(pipeline, param_grid, cv=5, scoring  = 'f1', refit=True)\n",
    "grid_search.fit(dX_train, dy_train)\n"
   ]
  },
  {
   "cell_type": "code",
   "execution_count": 45,
   "id": "K_NOBZ2wggfM",
   "metadata": {
    "colab": {
     "base_uri": "https://localhost:8080/",
     "height": 262
    },
    "id": "K_NOBZ2wggfM",
    "outputId": "4a8c6d1c-4b99-4ac7-c96b-47f8593cd903"
   },
   "outputs": [
    {
     "data": {
      "text/html": [
       "<style>#sk-container-id-5 {color: black;}#sk-container-id-5 pre{padding: 0;}#sk-container-id-5 div.sk-toggleable {background-color: white;}#sk-container-id-5 label.sk-toggleable__label {cursor: pointer;display: block;width: 100%;margin-bottom: 0;padding: 0.3em;box-sizing: border-box;text-align: center;}#sk-container-id-5 label.sk-toggleable__label-arrow:before {content: \"▸\";float: left;margin-right: 0.25em;color: #696969;}#sk-container-id-5 label.sk-toggleable__label-arrow:hover:before {color: black;}#sk-container-id-5 div.sk-estimator:hover label.sk-toggleable__label-arrow:before {color: black;}#sk-container-id-5 div.sk-toggleable__content {max-height: 0;max-width: 0;overflow: hidden;text-align: left;background-color: #f0f8ff;}#sk-container-id-5 div.sk-toggleable__content pre {margin: 0.2em;color: black;border-radius: 0.25em;background-color: #f0f8ff;}#sk-container-id-5 input.sk-toggleable__control:checked~div.sk-toggleable__content {max-height: 200px;max-width: 100%;overflow: auto;}#sk-container-id-5 input.sk-toggleable__control:checked~label.sk-toggleable__label-arrow:before {content: \"▾\";}#sk-container-id-5 div.sk-estimator input.sk-toggleable__control:checked~label.sk-toggleable__label {background-color: #d4ebff;}#sk-container-id-5 div.sk-label input.sk-toggleable__control:checked~label.sk-toggleable__label {background-color: #d4ebff;}#sk-container-id-5 input.sk-hidden--visually {border: 0;clip: rect(1px 1px 1px 1px);clip: rect(1px, 1px, 1px, 1px);height: 1px;margin: -1px;overflow: hidden;padding: 0;position: absolute;width: 1px;}#sk-container-id-5 div.sk-estimator {font-family: monospace;background-color: #f0f8ff;border: 1px dotted black;border-radius: 0.25em;box-sizing: border-box;margin-bottom: 0.5em;}#sk-container-id-5 div.sk-estimator:hover {background-color: #d4ebff;}#sk-container-id-5 div.sk-parallel-item::after {content: \"\";width: 100%;border-bottom: 1px solid gray;flex-grow: 1;}#sk-container-id-5 div.sk-label:hover label.sk-toggleable__label {background-color: #d4ebff;}#sk-container-id-5 div.sk-serial::before {content: \"\";position: absolute;border-left: 1px solid gray;box-sizing: border-box;top: 0;bottom: 0;left: 50%;z-index: 0;}#sk-container-id-5 div.sk-serial {display: flex;flex-direction: column;align-items: center;background-color: white;padding-right: 0.2em;padding-left: 0.2em;position: relative;}#sk-container-id-5 div.sk-item {position: relative;z-index: 1;}#sk-container-id-5 div.sk-parallel {display: flex;align-items: stretch;justify-content: center;background-color: white;position: relative;}#sk-container-id-5 div.sk-item::before, #sk-container-id-5 div.sk-parallel-item::before {content: \"\";position: absolute;border-left: 1px solid gray;box-sizing: border-box;top: 0;bottom: 0;left: 50%;z-index: -1;}#sk-container-id-5 div.sk-parallel-item {display: flex;flex-direction: column;z-index: 1;position: relative;background-color: white;}#sk-container-id-5 div.sk-parallel-item:first-child::after {align-self: flex-end;width: 50%;}#sk-container-id-5 div.sk-parallel-item:last-child::after {align-self: flex-start;width: 50%;}#sk-container-id-5 div.sk-parallel-item:only-child::after {width: 0;}#sk-container-id-5 div.sk-dashed-wrapped {border: 1px dashed gray;margin: 0 0.4em 0.5em 0.4em;box-sizing: border-box;padding-bottom: 0.4em;background-color: white;}#sk-container-id-5 div.sk-label label {font-family: monospace;font-weight: bold;display: inline-block;line-height: 1.2em;}#sk-container-id-5 div.sk-label-container {text-align: center;}#sk-container-id-5 div.sk-container {/* jupyter's `normalize.less` sets `[hidden] { display: none; }` but bootstrap.min.css set `[hidden] { display: none !important; }` so we also need the `!important` here to be able to override the default hidden behavior on the sphinx rendered scikit-learn.org. See: https://github.com/scikit-learn/scikit-learn/issues/21755 */display: inline-block !important;position: relative;}#sk-container-id-5 div.sk-text-repr-fallback {display: none;}</style><div id=\"sk-container-id-5\" class=\"sk-top-container\"><div class=\"sk-text-repr-fallback\"><pre>Pipeline(steps=[(&#x27;data_processing&#x27;,\n",
       "                 ColumnTransformer(transformers=[(&#x27;num pipeline&#x27;,\n",
       "                                                  Pipeline(steps=[(&#x27;impute_missing&#x27;,\n",
       "                                                                   SimpleImputer(strategy=&#x27;median&#x27;)),\n",
       "                                                                  (&#x27;standardize_num&#x27;,\n",
       "                                                                   StandardScaler())]),\n",
       "                                                  [&#x27;YearsWorked&#x27;,\n",
       "                                                   &#x27;PreviousSalary&#x27;,\n",
       "                                                   &#x27;Salary&#x27;]),\n",
       "                                                 (&#x27;cat pipeline&#x27;,\n",
       "                                                  Pipeline(steps=[(&#x27;impute_missing_cats&#x27;,\n",
       "                                                                   SimpleImputer(strategy=&#x27;most_frequent&#x27;)),\n",
       "                                                                  (&#x27;create_dummies_cats&#x27;,\n",
       "                                                                   OneHotEncoder(drop=&#x27;first&#x27;,\n",
       "                                                                                 handle_unknown=&#x27;ignore&#x27;))]),\n",
       "                                                  [&#x27;Gender&#x27;, &#x27;Distance&#x27;,\n",
       "                                                   &#x27;DepartmentCode&#x27;])])),\n",
       "                (&#x27;pca&#x27;, PCA(n_components=2)),\n",
       "                (&#x27;classifier&#x27;,\n",
       "                 DecisionTreeClassifier(max_depth=2, min_samples_leaf=2,\n",
       "                                        min_samples_split=3,\n",
       "                                        random_state=42))])</pre><b>In a Jupyter environment, please rerun this cell to show the HTML representation or trust the notebook. <br />On GitHub, the HTML representation is unable to render, please try loading this page with nbviewer.org.</b></div><div class=\"sk-container\" hidden><div class=\"sk-item sk-dashed-wrapped\"><div class=\"sk-label-container\"><div class=\"sk-label sk-toggleable\"><input class=\"sk-toggleable__control sk-hidden--visually\" id=\"sk-estimator-id-40\" type=\"checkbox\" ><label for=\"sk-estimator-id-40\" class=\"sk-toggleable__label sk-toggleable__label-arrow\">Pipeline</label><div class=\"sk-toggleable__content\"><pre>Pipeline(steps=[(&#x27;data_processing&#x27;,\n",
       "                 ColumnTransformer(transformers=[(&#x27;num pipeline&#x27;,\n",
       "                                                  Pipeline(steps=[(&#x27;impute_missing&#x27;,\n",
       "                                                                   SimpleImputer(strategy=&#x27;median&#x27;)),\n",
       "                                                                  (&#x27;standardize_num&#x27;,\n",
       "                                                                   StandardScaler())]),\n",
       "                                                  [&#x27;YearsWorked&#x27;,\n",
       "                                                   &#x27;PreviousSalary&#x27;,\n",
       "                                                   &#x27;Salary&#x27;]),\n",
       "                                                 (&#x27;cat pipeline&#x27;,\n",
       "                                                  Pipeline(steps=[(&#x27;impute_missing_cats&#x27;,\n",
       "                                                                   SimpleImputer(strategy=&#x27;most_frequent&#x27;)),\n",
       "                                                                  (&#x27;create_dummies_cats&#x27;,\n",
       "                                                                   OneHotEncoder(drop=&#x27;first&#x27;,\n",
       "                                                                                 handle_unknown=&#x27;ignore&#x27;))]),\n",
       "                                                  [&#x27;Gender&#x27;, &#x27;Distance&#x27;,\n",
       "                                                   &#x27;DepartmentCode&#x27;])])),\n",
       "                (&#x27;pca&#x27;, PCA(n_components=2)),\n",
       "                (&#x27;classifier&#x27;,\n",
       "                 DecisionTreeClassifier(max_depth=2, min_samples_leaf=2,\n",
       "                                        min_samples_split=3,\n",
       "                                        random_state=42))])</pre></div></div></div><div class=\"sk-serial\"><div class=\"sk-item sk-dashed-wrapped\"><div class=\"sk-label-container\"><div class=\"sk-label sk-toggleable\"><input class=\"sk-toggleable__control sk-hidden--visually\" id=\"sk-estimator-id-41\" type=\"checkbox\" ><label for=\"sk-estimator-id-41\" class=\"sk-toggleable__label sk-toggleable__label-arrow\">data_processing: ColumnTransformer</label><div class=\"sk-toggleable__content\"><pre>ColumnTransformer(transformers=[(&#x27;num pipeline&#x27;,\n",
       "                                 Pipeline(steps=[(&#x27;impute_missing&#x27;,\n",
       "                                                  SimpleImputer(strategy=&#x27;median&#x27;)),\n",
       "                                                 (&#x27;standardize_num&#x27;,\n",
       "                                                  StandardScaler())]),\n",
       "                                 [&#x27;YearsWorked&#x27;, &#x27;PreviousSalary&#x27;, &#x27;Salary&#x27;]),\n",
       "                                (&#x27;cat pipeline&#x27;,\n",
       "                                 Pipeline(steps=[(&#x27;impute_missing_cats&#x27;,\n",
       "                                                  SimpleImputer(strategy=&#x27;most_frequent&#x27;)),\n",
       "                                                 (&#x27;create_dummies_cats&#x27;,\n",
       "                                                  OneHotEncoder(drop=&#x27;first&#x27;,\n",
       "                                                                handle_unknown=&#x27;ignore&#x27;))]),\n",
       "                                 [&#x27;Gender&#x27;, &#x27;Distance&#x27;, &#x27;DepartmentCode&#x27;])])</pre></div></div></div><div class=\"sk-parallel\"><div class=\"sk-parallel-item\"><div class=\"sk-item\"><div class=\"sk-label-container\"><div class=\"sk-label sk-toggleable\"><input class=\"sk-toggleable__control sk-hidden--visually\" id=\"sk-estimator-id-42\" type=\"checkbox\" ><label for=\"sk-estimator-id-42\" class=\"sk-toggleable__label sk-toggleable__label-arrow\">num pipeline</label><div class=\"sk-toggleable__content\"><pre>[&#x27;YearsWorked&#x27;, &#x27;PreviousSalary&#x27;, &#x27;Salary&#x27;]</pre></div></div></div><div class=\"sk-serial\"><div class=\"sk-item\"><div class=\"sk-serial\"><div class=\"sk-item\"><div class=\"sk-estimator sk-toggleable\"><input class=\"sk-toggleable__control sk-hidden--visually\" id=\"sk-estimator-id-43\" type=\"checkbox\" ><label for=\"sk-estimator-id-43\" class=\"sk-toggleable__label sk-toggleable__label-arrow\">SimpleImputer</label><div class=\"sk-toggleable__content\"><pre>SimpleImputer(strategy=&#x27;median&#x27;)</pre></div></div></div><div class=\"sk-item\"><div class=\"sk-estimator sk-toggleable\"><input class=\"sk-toggleable__control sk-hidden--visually\" id=\"sk-estimator-id-44\" type=\"checkbox\" ><label for=\"sk-estimator-id-44\" class=\"sk-toggleable__label sk-toggleable__label-arrow\">StandardScaler</label><div class=\"sk-toggleable__content\"><pre>StandardScaler()</pre></div></div></div></div></div></div></div></div><div class=\"sk-parallel-item\"><div class=\"sk-item\"><div class=\"sk-label-container\"><div class=\"sk-label sk-toggleable\"><input class=\"sk-toggleable__control sk-hidden--visually\" id=\"sk-estimator-id-45\" type=\"checkbox\" ><label for=\"sk-estimator-id-45\" class=\"sk-toggleable__label sk-toggleable__label-arrow\">cat pipeline</label><div class=\"sk-toggleable__content\"><pre>[&#x27;Gender&#x27;, &#x27;Distance&#x27;, &#x27;DepartmentCode&#x27;]</pre></div></div></div><div class=\"sk-serial\"><div class=\"sk-item\"><div class=\"sk-serial\"><div class=\"sk-item\"><div class=\"sk-estimator sk-toggleable\"><input class=\"sk-toggleable__control sk-hidden--visually\" id=\"sk-estimator-id-46\" type=\"checkbox\" ><label for=\"sk-estimator-id-46\" class=\"sk-toggleable__label sk-toggleable__label-arrow\">SimpleImputer</label><div class=\"sk-toggleable__content\"><pre>SimpleImputer(strategy=&#x27;most_frequent&#x27;)</pre></div></div></div><div class=\"sk-item\"><div class=\"sk-estimator sk-toggleable\"><input class=\"sk-toggleable__control sk-hidden--visually\" id=\"sk-estimator-id-47\" type=\"checkbox\" ><label for=\"sk-estimator-id-47\" class=\"sk-toggleable__label sk-toggleable__label-arrow\">OneHotEncoder</label><div class=\"sk-toggleable__content\"><pre>OneHotEncoder(drop=&#x27;first&#x27;, handle_unknown=&#x27;ignore&#x27;)</pre></div></div></div></div></div></div></div></div></div></div><div class=\"sk-item\"><div class=\"sk-estimator sk-toggleable\"><input class=\"sk-toggleable__control sk-hidden--visually\" id=\"sk-estimator-id-48\" type=\"checkbox\" ><label for=\"sk-estimator-id-48\" class=\"sk-toggleable__label sk-toggleable__label-arrow\">PCA</label><div class=\"sk-toggleable__content\"><pre>PCA(n_components=2)</pre></div></div></div><div class=\"sk-item\"><div class=\"sk-estimator sk-toggleable\"><input class=\"sk-toggleable__control sk-hidden--visually\" id=\"sk-estimator-id-49\" type=\"checkbox\" ><label for=\"sk-estimator-id-49\" class=\"sk-toggleable__label sk-toggleable__label-arrow\">DecisionTreeClassifier</label><div class=\"sk-toggleable__content\"><pre>DecisionTreeClassifier(max_depth=2, min_samples_leaf=2, min_samples_split=3,\n",
       "                       random_state=42)</pre></div></div></div></div></div></div></div>"
      ],
      "text/plain": [
       "Pipeline(steps=[('data_processing',\n",
       "                 ColumnTransformer(transformers=[('num pipeline',\n",
       "                                                  Pipeline(steps=[('impute_missing',\n",
       "                                                                   SimpleImputer(strategy='median')),\n",
       "                                                                  ('standardize_num',\n",
       "                                                                   StandardScaler())]),\n",
       "                                                  ['YearsWorked',\n",
       "                                                   'PreviousSalary',\n",
       "                                                   'Salary']),\n",
       "                                                 ('cat pipeline',\n",
       "                                                  Pipeline(steps=[('impute_missing_cats',\n",
       "                                                                   SimpleImputer(strategy='most_frequent')),\n",
       "                                                                  ('create_dummies_cats',\n",
       "                                                                   OneHotEncoder(drop='first',\n",
       "                                                                                 handle_unknown='ignore'))]),\n",
       "                                                  ['Gender', 'Distance',\n",
       "                                                   'DepartmentCode'])])),\n",
       "                ('pca', PCA(n_components=2)),\n",
       "                ('classifier',\n",
       "                 DecisionTreeClassifier(max_depth=2, min_samples_leaf=2,\n",
       "                                        min_samples_split=3,\n",
       "                                        random_state=42))])"
      ]
     },
     "execution_count": 45,
     "metadata": {},
     "output_type": "execute_result"
    }
   ],
   "source": [
    "# Evaluate the model\n",
    "best_model = grid_search.best_estimator_\n",
    "best_model"
   ]
  },
  {
   "cell_type": "code",
   "execution_count": 46,
   "id": "h8sVZTyvghmB",
   "metadata": {
    "id": "h8sVZTyvghmB"
   },
   "outputs": [],
   "source": [
    "# Make predictions on the test set\n",
    "y_pred = best_model.predict(X_test)"
   ]
  },
  {
   "cell_type": "code",
   "execution_count": 47,
   "id": "-NkWpgT2gxK8",
   "metadata": {
    "colab": {
     "base_uri": "https://localhost:8080/"
    },
    "id": "-NkWpgT2gxK8",
    "outputId": "043cf768-6d62-4389-ee0b-38cfe549bfbc"
   },
   "outputs": [
    {
     "name": "stdout",
     "output_type": "stream",
     "text": [
      "Best Parameters: {'classifier__class_weight': None, 'classifier__max_depth': 2, 'classifier__min_samples_leaf': 2, 'classifier__min_samples_split': 3, 'pca__n_components': 2}\n",
      "\n",
      "Test Set Results:\n",
      "f1-score: 0.6278185415228894\n"
     ]
    }
   ],
   "source": [
    "f1 = f1_score(y_test, y_pred.astype(int), average='weighted')\n",
    "conf_matrix = confusion_matrix(y_test, y_pred.astype(int))\n",
    "class_report = classification_report(y_test, y_pred.astype(int))\n",
    "\n",
    "# Print the results\n",
    "print(f\"Best Parameters: {grid_search.best_params_}\")\n",
    "print(\"\\nTest Set Results:\")\n",
    "print(f\"f1-score: {f1}\")"
   ]
  },
  {
   "cell_type": "markdown",
   "id": "c0d4861d",
   "metadata": {},
   "source": [
    "The best parameters obtained for the decision tree classifier are:\n",
    "\n",
    "- Max depth: 2\n",
    "- Min samples leaf: 2\n",
    "- Min samples split: 3\n",
    "- Class weight: None\n",
    "- Number of principal components after PCA: 2\n",
    "\n",
    "On the test set, the decision tree classifier achieved an F1 score of approximately 0.628. These parameters were determined through grid search optimization, which systematically explores various combinations to maximize the performance metric."
   ]
  },
  {
   "cell_type": "code",
   "execution_count": 48,
   "id": "vZvEh4FdBVDx",
   "metadata": {
    "colab": {
     "base_uri": "https://localhost:8080/",
     "height": 400
    },
    "id": "vZvEh4FdBVDx",
    "outputId": "ac9491b1-7928-477e-ebf9-87d6c8d84817"
   },
   "outputs": [
    {
     "data": {
      "text/html": [
       "<style>#sk-container-id-6 {color: black;}#sk-container-id-6 pre{padding: 0;}#sk-container-id-6 div.sk-toggleable {background-color: white;}#sk-container-id-6 label.sk-toggleable__label {cursor: pointer;display: block;width: 100%;margin-bottom: 0;padding: 0.3em;box-sizing: border-box;text-align: center;}#sk-container-id-6 label.sk-toggleable__label-arrow:before {content: \"▸\";float: left;margin-right: 0.25em;color: #696969;}#sk-container-id-6 label.sk-toggleable__label-arrow:hover:before {color: black;}#sk-container-id-6 div.sk-estimator:hover label.sk-toggleable__label-arrow:before {color: black;}#sk-container-id-6 div.sk-toggleable__content {max-height: 0;max-width: 0;overflow: hidden;text-align: left;background-color: #f0f8ff;}#sk-container-id-6 div.sk-toggleable__content pre {margin: 0.2em;color: black;border-radius: 0.25em;background-color: #f0f8ff;}#sk-container-id-6 input.sk-toggleable__control:checked~div.sk-toggleable__content {max-height: 200px;max-width: 100%;overflow: auto;}#sk-container-id-6 input.sk-toggleable__control:checked~label.sk-toggleable__label-arrow:before {content: \"▾\";}#sk-container-id-6 div.sk-estimator input.sk-toggleable__control:checked~label.sk-toggleable__label {background-color: #d4ebff;}#sk-container-id-6 div.sk-label input.sk-toggleable__control:checked~label.sk-toggleable__label {background-color: #d4ebff;}#sk-container-id-6 input.sk-hidden--visually {border: 0;clip: rect(1px 1px 1px 1px);clip: rect(1px, 1px, 1px, 1px);height: 1px;margin: -1px;overflow: hidden;padding: 0;position: absolute;width: 1px;}#sk-container-id-6 div.sk-estimator {font-family: monospace;background-color: #f0f8ff;border: 1px dotted black;border-radius: 0.25em;box-sizing: border-box;margin-bottom: 0.5em;}#sk-container-id-6 div.sk-estimator:hover {background-color: #d4ebff;}#sk-container-id-6 div.sk-parallel-item::after {content: \"\";width: 100%;border-bottom: 1px solid gray;flex-grow: 1;}#sk-container-id-6 div.sk-label:hover label.sk-toggleable__label {background-color: #d4ebff;}#sk-container-id-6 div.sk-serial::before {content: \"\";position: absolute;border-left: 1px solid gray;box-sizing: border-box;top: 0;bottom: 0;left: 50%;z-index: 0;}#sk-container-id-6 div.sk-serial {display: flex;flex-direction: column;align-items: center;background-color: white;padding-right: 0.2em;padding-left: 0.2em;position: relative;}#sk-container-id-6 div.sk-item {position: relative;z-index: 1;}#sk-container-id-6 div.sk-parallel {display: flex;align-items: stretch;justify-content: center;background-color: white;position: relative;}#sk-container-id-6 div.sk-item::before, #sk-container-id-6 div.sk-parallel-item::before {content: \"\";position: absolute;border-left: 1px solid gray;box-sizing: border-box;top: 0;bottom: 0;left: 50%;z-index: -1;}#sk-container-id-6 div.sk-parallel-item {display: flex;flex-direction: column;z-index: 1;position: relative;background-color: white;}#sk-container-id-6 div.sk-parallel-item:first-child::after {align-self: flex-end;width: 50%;}#sk-container-id-6 div.sk-parallel-item:last-child::after {align-self: flex-start;width: 50%;}#sk-container-id-6 div.sk-parallel-item:only-child::after {width: 0;}#sk-container-id-6 div.sk-dashed-wrapped {border: 1px dashed gray;margin: 0 0.4em 0.5em 0.4em;box-sizing: border-box;padding-bottom: 0.4em;background-color: white;}#sk-container-id-6 div.sk-label label {font-family: monospace;font-weight: bold;display: inline-block;line-height: 1.2em;}#sk-container-id-6 div.sk-label-container {text-align: center;}#sk-container-id-6 div.sk-container {/* jupyter's `normalize.less` sets `[hidden] { display: none; }` but bootstrap.min.css set `[hidden] { display: none !important; }` so we also need the `!important` here to be able to override the default hidden behavior on the sphinx rendered scikit-learn.org. See: https://github.com/scikit-learn/scikit-learn/issues/21755 */display: inline-block !important;position: relative;}#sk-container-id-6 div.sk-text-repr-fallback {display: none;}</style><div id=\"sk-container-id-6\" class=\"sk-top-container\"><div class=\"sk-text-repr-fallback\"><pre>GridSearchCV(cv=5,\n",
       "             estimator=Pipeline(steps=[(&#x27;processing_pipeline&#x27;,\n",
       "                                        ColumnTransformer(transformers=[(&#x27;num &#x27;\n",
       "                                                                         &#x27;pipeline&#x27;,\n",
       "                                                                         Pipeline(steps=[(&#x27;impute_missing&#x27;,\n",
       "                                                                                          SimpleImputer(strategy=&#x27;median&#x27;)),\n",
       "                                                                                         (&#x27;standardize_num&#x27;,\n",
       "                                                                                          StandardScaler())]),\n",
       "                                                                         [&#x27;YearsWorked&#x27;,\n",
       "                                                                          &#x27;PreviousSalary&#x27;,\n",
       "                                                                          &#x27;Salary&#x27;]),\n",
       "                                                                        (&#x27;cat &#x27;\n",
       "                                                                         &#x27;pipeline&#x27;,\n",
       "                                                                         Pipeline(steps=[(&#x27;impute_missing_cats&#x27;,\n",
       "                                                                                          SimpleImputer(strategy=&#x27;most...\n",
       "                                                                         [&#x27;Gender&#x27;,\n",
       "                                                                          &#x27;Distance&#x27;,\n",
       "                                                                          &#x27;DepartmentCode&#x27;])])),\n",
       "                                       (&#x27;pca&#x27;, PCA()),\n",
       "                                       (&#x27;classifier&#x27;,\n",
       "                                        RandomForestClassifier(random_state=42))]),\n",
       "             param_grid=[{&#x27;classifier__class_weight&#x27;: [None, &#x27;balanced&#x27;,\n",
       "                                                       &#x27;balanced_subsample&#x27;],\n",
       "                          &#x27;classifier__max_depth&#x27;: [5, 8, 10, 12],\n",
       "                          &#x27;classifier__max_samples&#x27;: [1000, 2000, 5000],\n",
       "                          &#x27;classifier__n_estimators&#x27;: [10, 50, 100],\n",
       "                          &#x27;pca__n_components&#x27;: [2, 5, 8]}],\n",
       "             scoring=&#x27;f1&#x27;)</pre><b>In a Jupyter environment, please rerun this cell to show the HTML representation or trust the notebook. <br />On GitHub, the HTML representation is unable to render, please try loading this page with nbviewer.org.</b></div><div class=\"sk-container\" hidden><div class=\"sk-item sk-dashed-wrapped\"><div class=\"sk-label-container\"><div class=\"sk-label sk-toggleable\"><input class=\"sk-toggleable__control sk-hidden--visually\" id=\"sk-estimator-id-50\" type=\"checkbox\" ><label for=\"sk-estimator-id-50\" class=\"sk-toggleable__label sk-toggleable__label-arrow\">GridSearchCV</label><div class=\"sk-toggleable__content\"><pre>GridSearchCV(cv=5,\n",
       "             estimator=Pipeline(steps=[(&#x27;processing_pipeline&#x27;,\n",
       "                                        ColumnTransformer(transformers=[(&#x27;num &#x27;\n",
       "                                                                         &#x27;pipeline&#x27;,\n",
       "                                                                         Pipeline(steps=[(&#x27;impute_missing&#x27;,\n",
       "                                                                                          SimpleImputer(strategy=&#x27;median&#x27;)),\n",
       "                                                                                         (&#x27;standardize_num&#x27;,\n",
       "                                                                                          StandardScaler())]),\n",
       "                                                                         [&#x27;YearsWorked&#x27;,\n",
       "                                                                          &#x27;PreviousSalary&#x27;,\n",
       "                                                                          &#x27;Salary&#x27;]),\n",
       "                                                                        (&#x27;cat &#x27;\n",
       "                                                                         &#x27;pipeline&#x27;,\n",
       "                                                                         Pipeline(steps=[(&#x27;impute_missing_cats&#x27;,\n",
       "                                                                                          SimpleImputer(strategy=&#x27;most...\n",
       "                                                                         [&#x27;Gender&#x27;,\n",
       "                                                                          &#x27;Distance&#x27;,\n",
       "                                                                          &#x27;DepartmentCode&#x27;])])),\n",
       "                                       (&#x27;pca&#x27;, PCA()),\n",
       "                                       (&#x27;classifier&#x27;,\n",
       "                                        RandomForestClassifier(random_state=42))]),\n",
       "             param_grid=[{&#x27;classifier__class_weight&#x27;: [None, &#x27;balanced&#x27;,\n",
       "                                                       &#x27;balanced_subsample&#x27;],\n",
       "                          &#x27;classifier__max_depth&#x27;: [5, 8, 10, 12],\n",
       "                          &#x27;classifier__max_samples&#x27;: [1000, 2000, 5000],\n",
       "                          &#x27;classifier__n_estimators&#x27;: [10, 50, 100],\n",
       "                          &#x27;pca__n_components&#x27;: [2, 5, 8]}],\n",
       "             scoring=&#x27;f1&#x27;)</pre></div></div></div><div class=\"sk-parallel\"><div class=\"sk-parallel-item\"><div class=\"sk-item\"><div class=\"sk-label-container\"><div class=\"sk-label sk-toggleable\"><input class=\"sk-toggleable__control sk-hidden--visually\" id=\"sk-estimator-id-51\" type=\"checkbox\" ><label for=\"sk-estimator-id-51\" class=\"sk-toggleable__label sk-toggleable__label-arrow\">estimator: Pipeline</label><div class=\"sk-toggleable__content\"><pre>Pipeline(steps=[(&#x27;processing_pipeline&#x27;,\n",
       "                 ColumnTransformer(transformers=[(&#x27;num pipeline&#x27;,\n",
       "                                                  Pipeline(steps=[(&#x27;impute_missing&#x27;,\n",
       "                                                                   SimpleImputer(strategy=&#x27;median&#x27;)),\n",
       "                                                                  (&#x27;standardize_num&#x27;,\n",
       "                                                                   StandardScaler())]),\n",
       "                                                  [&#x27;YearsWorked&#x27;,\n",
       "                                                   &#x27;PreviousSalary&#x27;,\n",
       "                                                   &#x27;Salary&#x27;]),\n",
       "                                                 (&#x27;cat pipeline&#x27;,\n",
       "                                                  Pipeline(steps=[(&#x27;impute_missing_cats&#x27;,\n",
       "                                                                   SimpleImputer(strategy=&#x27;most_frequent&#x27;)),\n",
       "                                                                  (&#x27;create_dummies_cats&#x27;,\n",
       "                                                                   OneHotEncoder(drop=&#x27;first&#x27;,\n",
       "                                                                                 handle_unknown=&#x27;ignore&#x27;))]),\n",
       "                                                  [&#x27;Gender&#x27;, &#x27;Distance&#x27;,\n",
       "                                                   &#x27;DepartmentCode&#x27;])])),\n",
       "                (&#x27;pca&#x27;, PCA()),\n",
       "                (&#x27;classifier&#x27;, RandomForestClassifier(random_state=42))])</pre></div></div></div><div class=\"sk-serial\"><div class=\"sk-item\"><div class=\"sk-serial\"><div class=\"sk-item sk-dashed-wrapped\"><div class=\"sk-label-container\"><div class=\"sk-label sk-toggleable\"><input class=\"sk-toggleable__control sk-hidden--visually\" id=\"sk-estimator-id-52\" type=\"checkbox\" ><label for=\"sk-estimator-id-52\" class=\"sk-toggleable__label sk-toggleable__label-arrow\">processing_pipeline: ColumnTransformer</label><div class=\"sk-toggleable__content\"><pre>ColumnTransformer(transformers=[(&#x27;num pipeline&#x27;,\n",
       "                                 Pipeline(steps=[(&#x27;impute_missing&#x27;,\n",
       "                                                  SimpleImputer(strategy=&#x27;median&#x27;)),\n",
       "                                                 (&#x27;standardize_num&#x27;,\n",
       "                                                  StandardScaler())]),\n",
       "                                 [&#x27;YearsWorked&#x27;, &#x27;PreviousSalary&#x27;, &#x27;Salary&#x27;]),\n",
       "                                (&#x27;cat pipeline&#x27;,\n",
       "                                 Pipeline(steps=[(&#x27;impute_missing_cats&#x27;,\n",
       "                                                  SimpleImputer(strategy=&#x27;most_frequent&#x27;)),\n",
       "                                                 (&#x27;create_dummies_cats&#x27;,\n",
       "                                                  OneHotEncoder(drop=&#x27;first&#x27;,\n",
       "                                                                handle_unknown=&#x27;ignore&#x27;))]),\n",
       "                                 [&#x27;Gender&#x27;, &#x27;Distance&#x27;, &#x27;DepartmentCode&#x27;])])</pre></div></div></div><div class=\"sk-parallel\"><div class=\"sk-parallel-item\"><div class=\"sk-item\"><div class=\"sk-label-container\"><div class=\"sk-label sk-toggleable\"><input class=\"sk-toggleable__control sk-hidden--visually\" id=\"sk-estimator-id-53\" type=\"checkbox\" ><label for=\"sk-estimator-id-53\" class=\"sk-toggleable__label sk-toggleable__label-arrow\">num pipeline</label><div class=\"sk-toggleable__content\"><pre>[&#x27;YearsWorked&#x27;, &#x27;PreviousSalary&#x27;, &#x27;Salary&#x27;]</pre></div></div></div><div class=\"sk-serial\"><div class=\"sk-item\"><div class=\"sk-serial\"><div class=\"sk-item\"><div class=\"sk-estimator sk-toggleable\"><input class=\"sk-toggleable__control sk-hidden--visually\" id=\"sk-estimator-id-54\" type=\"checkbox\" ><label for=\"sk-estimator-id-54\" class=\"sk-toggleable__label sk-toggleable__label-arrow\">SimpleImputer</label><div class=\"sk-toggleable__content\"><pre>SimpleImputer(strategy=&#x27;median&#x27;)</pre></div></div></div><div class=\"sk-item\"><div class=\"sk-estimator sk-toggleable\"><input class=\"sk-toggleable__control sk-hidden--visually\" id=\"sk-estimator-id-55\" type=\"checkbox\" ><label for=\"sk-estimator-id-55\" class=\"sk-toggleable__label sk-toggleable__label-arrow\">StandardScaler</label><div class=\"sk-toggleable__content\"><pre>StandardScaler()</pre></div></div></div></div></div></div></div></div><div class=\"sk-parallel-item\"><div class=\"sk-item\"><div class=\"sk-label-container\"><div class=\"sk-label sk-toggleable\"><input class=\"sk-toggleable__control sk-hidden--visually\" id=\"sk-estimator-id-56\" type=\"checkbox\" ><label for=\"sk-estimator-id-56\" class=\"sk-toggleable__label sk-toggleable__label-arrow\">cat pipeline</label><div class=\"sk-toggleable__content\"><pre>[&#x27;Gender&#x27;, &#x27;Distance&#x27;, &#x27;DepartmentCode&#x27;]</pre></div></div></div><div class=\"sk-serial\"><div class=\"sk-item\"><div class=\"sk-serial\"><div class=\"sk-item\"><div class=\"sk-estimator sk-toggleable\"><input class=\"sk-toggleable__control sk-hidden--visually\" id=\"sk-estimator-id-57\" type=\"checkbox\" ><label for=\"sk-estimator-id-57\" class=\"sk-toggleable__label sk-toggleable__label-arrow\">SimpleImputer</label><div class=\"sk-toggleable__content\"><pre>SimpleImputer(strategy=&#x27;most_frequent&#x27;)</pre></div></div></div><div class=\"sk-item\"><div class=\"sk-estimator sk-toggleable\"><input class=\"sk-toggleable__control sk-hidden--visually\" id=\"sk-estimator-id-58\" type=\"checkbox\" ><label for=\"sk-estimator-id-58\" class=\"sk-toggleable__label sk-toggleable__label-arrow\">OneHotEncoder</label><div class=\"sk-toggleable__content\"><pre>OneHotEncoder(drop=&#x27;first&#x27;, handle_unknown=&#x27;ignore&#x27;)</pre></div></div></div></div></div></div></div></div></div></div><div class=\"sk-item\"><div class=\"sk-estimator sk-toggleable\"><input class=\"sk-toggleable__control sk-hidden--visually\" id=\"sk-estimator-id-59\" type=\"checkbox\" ><label for=\"sk-estimator-id-59\" class=\"sk-toggleable__label sk-toggleable__label-arrow\">PCA</label><div class=\"sk-toggleable__content\"><pre>PCA()</pre></div></div></div><div class=\"sk-item\"><div class=\"sk-estimator sk-toggleable\"><input class=\"sk-toggleable__control sk-hidden--visually\" id=\"sk-estimator-id-60\" type=\"checkbox\" ><label for=\"sk-estimator-id-60\" class=\"sk-toggleable__label sk-toggleable__label-arrow\">RandomForestClassifier</label><div class=\"sk-toggleable__content\"><pre>RandomForestClassifier(random_state=42)</pre></div></div></div></div></div></div></div></div></div></div></div></div>"
      ],
      "text/plain": [
       "GridSearchCV(cv=5,\n",
       "             estimator=Pipeline(steps=[('processing_pipeline',\n",
       "                                        ColumnTransformer(transformers=[('num '\n",
       "                                                                         'pipeline',\n",
       "                                                                         Pipeline(steps=[('impute_missing',\n",
       "                                                                                          SimpleImputer(strategy='median')),\n",
       "                                                                                         ('standardize_num',\n",
       "                                                                                          StandardScaler())]),\n",
       "                                                                         ['YearsWorked',\n",
       "                                                                          'PreviousSalary',\n",
       "                                                                          'Salary']),\n",
       "                                                                        ('cat '\n",
       "                                                                         'pipeline',\n",
       "                                                                         Pipeline(steps=[('impute_missing_cats',\n",
       "                                                                                          SimpleImputer(strategy='most...\n",
       "                                                                         ['Gender',\n",
       "                                                                          'Distance',\n",
       "                                                                          'DepartmentCode'])])),\n",
       "                                       ('pca', PCA()),\n",
       "                                       ('classifier',\n",
       "                                        RandomForestClassifier(random_state=42))]),\n",
       "             param_grid=[{'classifier__class_weight': [None, 'balanced',\n",
       "                                                       'balanced_subsample'],\n",
       "                          'classifier__max_depth': [5, 8, 10, 12],\n",
       "                          'classifier__max_samples': [1000, 2000, 5000],\n",
       "                          'classifier__n_estimators': [10, 50, 100],\n",
       "                          'pca__n_components': [2, 5, 8]}],\n",
       "             scoring='f1')"
      ]
     },
     "execution_count": 48,
     "metadata": {},
     "output_type": "execute_result"
    }
   ],
   "source": [
    "# Random Forest Classifier\n",
    "\n",
    "pipeline = Pipeline([\n",
    "    ('processing_pipeline', processing_pipeline),\n",
    "    ('pca', PCA()),  # Set the desired explained variance\n",
    "    ('classifier', RandomForestClassifier(random_state=42))\n",
    "])\n",
    "\n",
    "param_grid = [{\n",
    "               'pca__n_components': [2, 5, 8],\n",
    "               'classifier__max_depth': [5, 8, 10, 12],\n",
    "               'classifier__n_estimators': [10, 50, 100],\n",
    "               'classifier__class_weight': [None, 'balanced', 'balanced_subsample'],\n",
    "               'classifier__max_samples': [1000, 2000, 5000]\n",
    "              }]\n",
    "\n",
    "# Apply GridSearchCV\n",
    "grid_search = GridSearchCV(pipeline, param_grid, cv=5, scoring  = 'f1', refit=True)\n",
    "grid_search.fit(dX_train, dy_train)"
   ]
  },
  {
   "cell_type": "code",
   "execution_count": 49,
   "id": "5lHa5PPND6ax",
   "metadata": {
    "id": "5lHa5PPND6ax"
   },
   "outputs": [],
   "source": [
    "# Get the best model from GridSearchCV\n",
    "best_model = grid_search.best_estimator_\n",
    "\n",
    "# Make predictions on the test set\n",
    "y_pred = best_model.predict(X_test)"
   ]
  },
  {
   "cell_type": "code",
   "execution_count": 50,
   "id": "lQzIic6WGAQ-",
   "metadata": {
    "id": "lQzIic6WGAQ-"
   },
   "outputs": [
    {
     "data": {
      "text/html": [
       "<style>#sk-container-id-7 {color: black;}#sk-container-id-7 pre{padding: 0;}#sk-container-id-7 div.sk-toggleable {background-color: white;}#sk-container-id-7 label.sk-toggleable__label {cursor: pointer;display: block;width: 100%;margin-bottom: 0;padding: 0.3em;box-sizing: border-box;text-align: center;}#sk-container-id-7 label.sk-toggleable__label-arrow:before {content: \"▸\";float: left;margin-right: 0.25em;color: #696969;}#sk-container-id-7 label.sk-toggleable__label-arrow:hover:before {color: black;}#sk-container-id-7 div.sk-estimator:hover label.sk-toggleable__label-arrow:before {color: black;}#sk-container-id-7 div.sk-toggleable__content {max-height: 0;max-width: 0;overflow: hidden;text-align: left;background-color: #f0f8ff;}#sk-container-id-7 div.sk-toggleable__content pre {margin: 0.2em;color: black;border-radius: 0.25em;background-color: #f0f8ff;}#sk-container-id-7 input.sk-toggleable__control:checked~div.sk-toggleable__content {max-height: 200px;max-width: 100%;overflow: auto;}#sk-container-id-7 input.sk-toggleable__control:checked~label.sk-toggleable__label-arrow:before {content: \"▾\";}#sk-container-id-7 div.sk-estimator input.sk-toggleable__control:checked~label.sk-toggleable__label {background-color: #d4ebff;}#sk-container-id-7 div.sk-label input.sk-toggleable__control:checked~label.sk-toggleable__label {background-color: #d4ebff;}#sk-container-id-7 input.sk-hidden--visually {border: 0;clip: rect(1px 1px 1px 1px);clip: rect(1px, 1px, 1px, 1px);height: 1px;margin: -1px;overflow: hidden;padding: 0;position: absolute;width: 1px;}#sk-container-id-7 div.sk-estimator {font-family: monospace;background-color: #f0f8ff;border: 1px dotted black;border-radius: 0.25em;box-sizing: border-box;margin-bottom: 0.5em;}#sk-container-id-7 div.sk-estimator:hover {background-color: #d4ebff;}#sk-container-id-7 div.sk-parallel-item::after {content: \"\";width: 100%;border-bottom: 1px solid gray;flex-grow: 1;}#sk-container-id-7 div.sk-label:hover label.sk-toggleable__label {background-color: #d4ebff;}#sk-container-id-7 div.sk-serial::before {content: \"\";position: absolute;border-left: 1px solid gray;box-sizing: border-box;top: 0;bottom: 0;left: 50%;z-index: 0;}#sk-container-id-7 div.sk-serial {display: flex;flex-direction: column;align-items: center;background-color: white;padding-right: 0.2em;padding-left: 0.2em;position: relative;}#sk-container-id-7 div.sk-item {position: relative;z-index: 1;}#sk-container-id-7 div.sk-parallel {display: flex;align-items: stretch;justify-content: center;background-color: white;position: relative;}#sk-container-id-7 div.sk-item::before, #sk-container-id-7 div.sk-parallel-item::before {content: \"\";position: absolute;border-left: 1px solid gray;box-sizing: border-box;top: 0;bottom: 0;left: 50%;z-index: -1;}#sk-container-id-7 div.sk-parallel-item {display: flex;flex-direction: column;z-index: 1;position: relative;background-color: white;}#sk-container-id-7 div.sk-parallel-item:first-child::after {align-self: flex-end;width: 50%;}#sk-container-id-7 div.sk-parallel-item:last-child::after {align-self: flex-start;width: 50%;}#sk-container-id-7 div.sk-parallel-item:only-child::after {width: 0;}#sk-container-id-7 div.sk-dashed-wrapped {border: 1px dashed gray;margin: 0 0.4em 0.5em 0.4em;box-sizing: border-box;padding-bottom: 0.4em;background-color: white;}#sk-container-id-7 div.sk-label label {font-family: monospace;font-weight: bold;display: inline-block;line-height: 1.2em;}#sk-container-id-7 div.sk-label-container {text-align: center;}#sk-container-id-7 div.sk-container {/* jupyter's `normalize.less` sets `[hidden] { display: none; }` but bootstrap.min.css set `[hidden] { display: none !important; }` so we also need the `!important` here to be able to override the default hidden behavior on the sphinx rendered scikit-learn.org. See: https://github.com/scikit-learn/scikit-learn/issues/21755 */display: inline-block !important;position: relative;}#sk-container-id-7 div.sk-text-repr-fallback {display: none;}</style><div id=\"sk-container-id-7\" class=\"sk-top-container\"><div class=\"sk-text-repr-fallback\"><pre>Pipeline(steps=[(&#x27;processing_pipeline&#x27;,\n",
       "                 ColumnTransformer(transformers=[(&#x27;num pipeline&#x27;,\n",
       "                                                  Pipeline(steps=[(&#x27;impute_missing&#x27;,\n",
       "                                                                   SimpleImputer(strategy=&#x27;median&#x27;)),\n",
       "                                                                  (&#x27;standardize_num&#x27;,\n",
       "                                                                   StandardScaler())]),\n",
       "                                                  [&#x27;YearsWorked&#x27;,\n",
       "                                                   &#x27;PreviousSalary&#x27;,\n",
       "                                                   &#x27;Salary&#x27;]),\n",
       "                                                 (&#x27;cat pipeline&#x27;,\n",
       "                                                  Pipeline(steps=[(&#x27;impute_missing_cats&#x27;,\n",
       "                                                                   SimpleImputer(strategy=&#x27;most_frequent&#x27;)),\n",
       "                                                                  (&#x27;create_dummies_cats&#x27;,\n",
       "                                                                   OneHotEncoder(drop=&#x27;first&#x27;,\n",
       "                                                                                 handle_unknown=&#x27;ignore&#x27;))]),\n",
       "                                                  [&#x27;Gender&#x27;, &#x27;Distance&#x27;,\n",
       "                                                   &#x27;DepartmentCode&#x27;])])),\n",
       "                (&#x27;pca&#x27;, PCA(n_components=2)),\n",
       "                (&#x27;classifier&#x27;,\n",
       "                 RandomForestClassifier(max_depth=5, max_samples=1000,\n",
       "                                        n_estimators=10, random_state=42))])</pre><b>In a Jupyter environment, please rerun this cell to show the HTML representation or trust the notebook. <br />On GitHub, the HTML representation is unable to render, please try loading this page with nbviewer.org.</b></div><div class=\"sk-container\" hidden><div class=\"sk-item sk-dashed-wrapped\"><div class=\"sk-label-container\"><div class=\"sk-label sk-toggleable\"><input class=\"sk-toggleable__control sk-hidden--visually\" id=\"sk-estimator-id-61\" type=\"checkbox\" ><label for=\"sk-estimator-id-61\" class=\"sk-toggleable__label sk-toggleable__label-arrow\">Pipeline</label><div class=\"sk-toggleable__content\"><pre>Pipeline(steps=[(&#x27;processing_pipeline&#x27;,\n",
       "                 ColumnTransformer(transformers=[(&#x27;num pipeline&#x27;,\n",
       "                                                  Pipeline(steps=[(&#x27;impute_missing&#x27;,\n",
       "                                                                   SimpleImputer(strategy=&#x27;median&#x27;)),\n",
       "                                                                  (&#x27;standardize_num&#x27;,\n",
       "                                                                   StandardScaler())]),\n",
       "                                                  [&#x27;YearsWorked&#x27;,\n",
       "                                                   &#x27;PreviousSalary&#x27;,\n",
       "                                                   &#x27;Salary&#x27;]),\n",
       "                                                 (&#x27;cat pipeline&#x27;,\n",
       "                                                  Pipeline(steps=[(&#x27;impute_missing_cats&#x27;,\n",
       "                                                                   SimpleImputer(strategy=&#x27;most_frequent&#x27;)),\n",
       "                                                                  (&#x27;create_dummies_cats&#x27;,\n",
       "                                                                   OneHotEncoder(drop=&#x27;first&#x27;,\n",
       "                                                                                 handle_unknown=&#x27;ignore&#x27;))]),\n",
       "                                                  [&#x27;Gender&#x27;, &#x27;Distance&#x27;,\n",
       "                                                   &#x27;DepartmentCode&#x27;])])),\n",
       "                (&#x27;pca&#x27;, PCA(n_components=2)),\n",
       "                (&#x27;classifier&#x27;,\n",
       "                 RandomForestClassifier(max_depth=5, max_samples=1000,\n",
       "                                        n_estimators=10, random_state=42))])</pre></div></div></div><div class=\"sk-serial\"><div class=\"sk-item sk-dashed-wrapped\"><div class=\"sk-label-container\"><div class=\"sk-label sk-toggleable\"><input class=\"sk-toggleable__control sk-hidden--visually\" id=\"sk-estimator-id-62\" type=\"checkbox\" ><label for=\"sk-estimator-id-62\" class=\"sk-toggleable__label sk-toggleable__label-arrow\">processing_pipeline: ColumnTransformer</label><div class=\"sk-toggleable__content\"><pre>ColumnTransformer(transformers=[(&#x27;num pipeline&#x27;,\n",
       "                                 Pipeline(steps=[(&#x27;impute_missing&#x27;,\n",
       "                                                  SimpleImputer(strategy=&#x27;median&#x27;)),\n",
       "                                                 (&#x27;standardize_num&#x27;,\n",
       "                                                  StandardScaler())]),\n",
       "                                 [&#x27;YearsWorked&#x27;, &#x27;PreviousSalary&#x27;, &#x27;Salary&#x27;]),\n",
       "                                (&#x27;cat pipeline&#x27;,\n",
       "                                 Pipeline(steps=[(&#x27;impute_missing_cats&#x27;,\n",
       "                                                  SimpleImputer(strategy=&#x27;most_frequent&#x27;)),\n",
       "                                                 (&#x27;create_dummies_cats&#x27;,\n",
       "                                                  OneHotEncoder(drop=&#x27;first&#x27;,\n",
       "                                                                handle_unknown=&#x27;ignore&#x27;))]),\n",
       "                                 [&#x27;Gender&#x27;, &#x27;Distance&#x27;, &#x27;DepartmentCode&#x27;])])</pre></div></div></div><div class=\"sk-parallel\"><div class=\"sk-parallel-item\"><div class=\"sk-item\"><div class=\"sk-label-container\"><div class=\"sk-label sk-toggleable\"><input class=\"sk-toggleable__control sk-hidden--visually\" id=\"sk-estimator-id-63\" type=\"checkbox\" ><label for=\"sk-estimator-id-63\" class=\"sk-toggleable__label sk-toggleable__label-arrow\">num pipeline</label><div class=\"sk-toggleable__content\"><pre>[&#x27;YearsWorked&#x27;, &#x27;PreviousSalary&#x27;, &#x27;Salary&#x27;]</pre></div></div></div><div class=\"sk-serial\"><div class=\"sk-item\"><div class=\"sk-serial\"><div class=\"sk-item\"><div class=\"sk-estimator sk-toggleable\"><input class=\"sk-toggleable__control sk-hidden--visually\" id=\"sk-estimator-id-64\" type=\"checkbox\" ><label for=\"sk-estimator-id-64\" class=\"sk-toggleable__label sk-toggleable__label-arrow\">SimpleImputer</label><div class=\"sk-toggleable__content\"><pre>SimpleImputer(strategy=&#x27;median&#x27;)</pre></div></div></div><div class=\"sk-item\"><div class=\"sk-estimator sk-toggleable\"><input class=\"sk-toggleable__control sk-hidden--visually\" id=\"sk-estimator-id-65\" type=\"checkbox\" ><label for=\"sk-estimator-id-65\" class=\"sk-toggleable__label sk-toggleable__label-arrow\">StandardScaler</label><div class=\"sk-toggleable__content\"><pre>StandardScaler()</pre></div></div></div></div></div></div></div></div><div class=\"sk-parallel-item\"><div class=\"sk-item\"><div class=\"sk-label-container\"><div class=\"sk-label sk-toggleable\"><input class=\"sk-toggleable__control sk-hidden--visually\" id=\"sk-estimator-id-66\" type=\"checkbox\" ><label for=\"sk-estimator-id-66\" class=\"sk-toggleable__label sk-toggleable__label-arrow\">cat pipeline</label><div class=\"sk-toggleable__content\"><pre>[&#x27;Gender&#x27;, &#x27;Distance&#x27;, &#x27;DepartmentCode&#x27;]</pre></div></div></div><div class=\"sk-serial\"><div class=\"sk-item\"><div class=\"sk-serial\"><div class=\"sk-item\"><div class=\"sk-estimator sk-toggleable\"><input class=\"sk-toggleable__control sk-hidden--visually\" id=\"sk-estimator-id-67\" type=\"checkbox\" ><label for=\"sk-estimator-id-67\" class=\"sk-toggleable__label sk-toggleable__label-arrow\">SimpleImputer</label><div class=\"sk-toggleable__content\"><pre>SimpleImputer(strategy=&#x27;most_frequent&#x27;)</pre></div></div></div><div class=\"sk-item\"><div class=\"sk-estimator sk-toggleable\"><input class=\"sk-toggleable__control sk-hidden--visually\" id=\"sk-estimator-id-68\" type=\"checkbox\" ><label for=\"sk-estimator-id-68\" class=\"sk-toggleable__label sk-toggleable__label-arrow\">OneHotEncoder</label><div class=\"sk-toggleable__content\"><pre>OneHotEncoder(drop=&#x27;first&#x27;, handle_unknown=&#x27;ignore&#x27;)</pre></div></div></div></div></div></div></div></div></div></div><div class=\"sk-item\"><div class=\"sk-estimator sk-toggleable\"><input class=\"sk-toggleable__control sk-hidden--visually\" id=\"sk-estimator-id-69\" type=\"checkbox\" ><label for=\"sk-estimator-id-69\" class=\"sk-toggleable__label sk-toggleable__label-arrow\">PCA</label><div class=\"sk-toggleable__content\"><pre>PCA(n_components=2)</pre></div></div></div><div class=\"sk-item\"><div class=\"sk-estimator sk-toggleable\"><input class=\"sk-toggleable__control sk-hidden--visually\" id=\"sk-estimator-id-70\" type=\"checkbox\" ><label for=\"sk-estimator-id-70\" class=\"sk-toggleable__label sk-toggleable__label-arrow\">RandomForestClassifier</label><div class=\"sk-toggleable__content\"><pre>RandomForestClassifier(max_depth=5, max_samples=1000, n_estimators=10,\n",
       "                       random_state=42)</pre></div></div></div></div></div></div></div>"
      ],
      "text/plain": [
       "Pipeline(steps=[('processing_pipeline',\n",
       "                 ColumnTransformer(transformers=[('num pipeline',\n",
       "                                                  Pipeline(steps=[('impute_missing',\n",
       "                                                                   SimpleImputer(strategy='median')),\n",
       "                                                                  ('standardize_num',\n",
       "                                                                   StandardScaler())]),\n",
       "                                                  ['YearsWorked',\n",
       "                                                   'PreviousSalary',\n",
       "                                                   'Salary']),\n",
       "                                                 ('cat pipeline',\n",
       "                                                  Pipeline(steps=[('impute_missing_cats',\n",
       "                                                                   SimpleImputer(strategy='most_frequent')),\n",
       "                                                                  ('create_dummies_cats',\n",
       "                                                                   OneHotEncoder(drop='first',\n",
       "                                                                                 handle_unknown='ignore'))]),\n",
       "                                                  ['Gender', 'Distance',\n",
       "                                                   'DepartmentCode'])])),\n",
       "                ('pca', PCA(n_components=2)),\n",
       "                ('classifier',\n",
       "                 RandomForestClassifier(max_depth=5, max_samples=1000,\n",
       "                                        n_estimators=10, random_state=42))])"
      ]
     },
     "execution_count": 50,
     "metadata": {},
     "output_type": "execute_result"
    }
   ],
   "source": [
    "best_model"
   ]
  },
  {
   "cell_type": "code",
   "execution_count": 51,
   "id": "Hya2YAMnGCBZ",
   "metadata": {
    "id": "Hya2YAMnGCBZ"
   },
   "outputs": [
    {
     "name": "stdout",
     "output_type": "stream",
     "text": [
      "Best Parameters: {'classifier__class_weight': None, 'classifier__max_depth': 5, 'classifier__max_samples': 1000, 'classifier__n_estimators': 10, 'pca__n_components': 2}\n",
      "\n",
      "Test Set Results:\n",
      "f1-score: 0.6278185415228894\n"
     ]
    }
   ],
   "source": [
    "# Evaluate the model\n",
    "f1_value = f1_score(y_test, y_pred.astype(int), average='weighted')\n",
    "\n",
    "# Print the results\n",
    "print(f\"Best Parameters: {grid_search.best_params_}\")\n",
    "print(\"\\nTest Set Results:\")\n",
    "print(f\"f1-score: {f1_value}\")"
   ]
  },
  {
   "cell_type": "markdown",
   "id": "4b58a383",
   "metadata": {},
   "source": [
    "The best parameters obtained for the Random Forest Classifier are as follows:\n",
    "\n",
    "- Max depth: 5\n",
    "- Max samples: 1000\n",
    "- Number of estimators: 10\n",
    "- Class weight: None\n",
    "- Number of principal components after PCA: 2\n",
    "\n",
    "On the test set, the Random Forest Classifier achieved an F1 score of approximately 0.628. These parameters were determined through grid search optimization, which systematically explores various combinations to maximize the performance metric."
   ]
  },
  {
   "cell_type": "markdown",
   "id": "53329a8e",
   "metadata": {},
   "source": [
    "### Conclusion"
   ]
  },
  {
   "cell_type": "markdown",
   "id": "21eb4bf2",
   "metadata": {},
   "source": [
    "From the F1 scores obtained for different classifiers:\n",
    "\n",
    "**Logistic Regression**: 0.6278\n",
    "\n",
    "**Decision Tree Classifier**: 0.6278\n",
    "\n",
    "**Random Forest Classifier**: 0.6276"
   ]
  },
  {
   "cell_type": "markdown",
   "id": "5bfedb63",
   "metadata": {},
   "source": [
    "Since F1 score considers both precision and recall, it's suitable for imbalanced datasets where the distribution of classes is uneven. In our case, all classifiers have achieved F1 scores ranging from approximately 0.6276 to 0.6278, indicating a reasonable balance between precision and recall."
   ]
  },
  {
   "cell_type": "markdown",
   "id": "38e718ad",
   "metadata": {},
   "source": [
    "### Future Scope:\n",
    "1. **Outlier Elimination**: Identify and remove outliers using robust statistical methods like Z-score or IQR to enhance model stability and performance.\n",
    "\n",
    "2. **Explore Clustering Techniques**: Experiment with hierarchical clustering and Gaussian mixture models (GMM) to capture complex data structures and density variations for more accurate employee churn prediction. \n",
    "\n",
    "3. **Feature Engineering**: Generate new features through polynomial transformations or domain-specific insights to enrich the dataset and improve the model's ability to capture relevant patterns."
   ]
  }
 ],
 "metadata": {
  "colab": {
   "provenance": []
  },
  "kernelspec": {
   "display_name": "Python 3 (ipykernel)",
   "language": "python",
   "name": "python3"
  },
  "language_info": {
   "codemirror_mode": {
    "name": "ipython",
    "version": 3
   },
   "file_extension": ".py",
   "mimetype": "text/x-python",
   "name": "python",
   "nbconvert_exporter": "python",
   "pygments_lexer": "ipython3",
   "version": "3.11.4"
  }
 },
 "nbformat": 4,
 "nbformat_minor": 5
}
