{
 "cells": [
  {
   "cell_type": "code",
   "execution_count": 1,
   "metadata": {},
   "outputs": [
    {
     "data": {
      "text/plain": [
       "2"
      ]
     },
     "execution_count": 1,
     "metadata": {},
     "output_type": "execute_result"
    }
   ],
   "source": [
    "1+1"
   ]
  },
  {
   "cell_type": "code",
   "execution_count": 2,
   "metadata": {},
   "outputs": [
    {
     "name": "stderr",
     "output_type": "stream",
     "text": [
      "/Users/ashoksaidoredla/Documents/Langchain_LLM/Langchain_venv/lib/python3.9/site-packages/urllib3/__init__.py:35: NotOpenSSLWarning: urllib3 v2 only supports OpenSSL 1.1.1+, currently the 'ssl' module is compiled with 'LibreSSL 2.8.3'. See: https://github.com/urllib3/urllib3/issues/3020\n",
      "  warnings.warn(\n"
     ]
    }
   ],
   "source": [
    "from langchain_community.document_loaders import TextLoader\n",
    "loader = TextLoader(\"Speech.txt\")"
   ]
  },
  {
   "cell_type": "code",
   "execution_count": 4,
   "metadata": {},
   "outputs": [
    {
     "data": {
      "text/plain": [
       "[Document(metadata={'source': 'Speech.txt'}, page_content='\"My dear fellow citizens,\"\\n\\nNamaste! Today, as we stand at a crucial moment in our nation\\'s journey, I want to talk about the power of self-reliance, innovation, and unity in building a stronger India.\\n\\nIndia is not just a country; it is an emotion, a rich heritage, and a land of limitless possibilities. Our young minds, our farmers, our entrepreneurs, and our hardworking citizens are shaping a future that the world admires. Today, India is a leader in technology, space research, digital transformation, and manufacturing. We are moving towards an Atmanirbhar Bharat—a self-reliant India that believes in Made in India, Made for the World.\\n\\nThe world looks at India with hope and trust. Our advancements in AI, healthcare, and infrastructure are setting global benchmarks. From Chandrayaan’s success to digital payments revolution, India is scripting a new history. But true success is when every Indian prospers, when opportunities reach the last person in the queue.\\n\\nBrothers and sisters, our strength lies in unity, diversity, and determination. Let us work together to make India the world’s economic powerhouse. Let us focus on education, innovation, and skill development so that our youth can lead the world.\\n\\nI urge every citizen—whether in villages or cities—to embrace technology, sustainability, and hard work. The future belongs to those who dream big and work relentlessly.\\n\\nLet us pledge today to build an India that is strong, prosperous, and self-reliant. Together, we will make Viksit Bharat 2047 a reality!\\n\\nJai Hind! Jai Bharat!')]"
      ]
     },
     "execution_count": 4,
     "metadata": {},
     "output_type": "execute_result"
    }
   ],
   "source": [
    "text_docs = loader.load()\n",
    "text_docs"
   ]
  },
  {
   "cell_type": "code",
   "execution_count": null,
   "metadata": {},
   "outputs": [],
   "source": [
    "import os\n",
    "from dotenv import load_dotenv\n",
    "load_dotenv()\n",
    "# os.environ['']"
   ]
  },
  {
   "cell_type": "code",
   "execution_count": null,
   "metadata": {},
   "outputs": [],
   "source": [
    "from langchain_community.document_loaders import WebBaseLoader"
   ]
  },
  {
   "cell_type": "markdown",
   "metadata": {},
   "source": [
    "# Retreivert and Chain with LLM"
   ]
  },
  {
   "cell_type": "code",
   "execution_count": 3,
   "metadata": {},
   "outputs": [
    {
     "data": {
      "text/plain": [
       "[Document(metadata={'producer': 'Microsoft® Word 2019', 'creator': 'Microsoft® Word 2019', 'creationdate': '2025-03-16T18:14:40-04:00', 'title': 'Doredla_Ashok_Sai_Resume_Data_Analyst', 'author': 'Ashok Sai Doredla', 'moddate': '2025-03-16T18:14:40-04:00', 'source': 'Doredla_Ashok_Sai_Resume.pdf', 'total_pages': 1, 'page': 0, 'page_label': '1'}, page_content='ASHO K SAI DO RE DLA \\n              Baltimore, MD, 21229 | 484 -202-0211 | doredlaashoksai@gmail.com  | LinkedI n | GitHub   \\n \\nPRO FE SSIO NAL SUMMARY \\n \\n \\nResults-driven Data Professional  with around 3 years of experience  in machine learning, Generative AI, and Large Language Models (LLMs) . Proficient \\nin Python, T ensorFlow, PyT orch, and NLP, with a strong background in data preprocessing, predictive modeling, and AI -based automation . Developed \\ndeep learning models achieving 82% classification accuracy and optimized database performance by 45% . Dedicated to AI-driven innovation , data-driven \\ndecision-making, and cross -functional collaboration.  \\n \\nE DUCAT IO N  \\n \\n •  Univ ersity of Maryland, Baltimore County (UMBC), Maryland, USA                      Expected May 2025    \\n                Master of Professional Studies in Data Science , GPA: 3.9/4.0                     \\n•  Jawaharlal Nehru T echnological University, Andhra Pradesh, India                                                          Aug 2020   \\n  Bachelor of Technology ( Computer Science and E ngineering ), GPA: 3.7/4.0  \\n \\nWO RK E XPE RIE NCE   \\n \\nInmar Technologies Private Limited , Data Analyst, Hyderabad , India                                                  Oct 2021 – Jul 2023  \\n• Developed and implemented  machine learning models, including Logistic Regression , Decision T rees, XGBoost, and Random Forest  using \\nFastAPI, resulting in a 32% increase in predictive capabilities . \\n• Automated data  cleaning and processing workflows using Python  (Pandas, NumPy, Matplotlib ) and SQ L, reducing manual effort  by 40%.  \\n• Developed modular code using object -oriented programming, demonstrating the ability to work independently  and occasionally taking \\nleadership  roles in collaborative projects, which enhanced workflow efficiency by 20%. \\n• Optimized PostgreSQL databases using indexing, and query caching, improving query efficiency by 45%.  \\n• Created interactive Power BI  dashboards to visualize key business metrics, such as KPIs  and sales performanc e, driving actionable insights. \\n• Collaborated with cross -functional teams  to present insights and recommendations to leadership, demonstrating strong communication skills.  \\n \\nHexaware Technologies,  Associate Data Analyst,  Chennai , India                                      Dec 2020 – Oct 2021  \\n• Conducted exploratory data analysis  (EDA) using visualizations  and statistical analysis, such as hypothesis testing , to improve model accuracy. \\n• Assisted in building E T L pipelines and data automation  workflows, ensuring efficient data integration and transformation.   \\n• Identified data inconsistencies and improved preprocessing pipelines , increasing reliability. \\n• Strengthened problem -solving skills by tro ubleshooting data inconsistencies and model performance issues.  \\n \\nDAT A SCIE NCE  PRO JE CT  E XPE RIE NC E   \\n \\nSentiment Analysis on Amazon Mobile Phones Dataset using NLP, BE RT                                         Aug 2024 – Dec 2024  \\nLocation: University of Maryland, Baltimore County, Baltimore, MD   \\n• Developed deep learning models with Google’s BE RT, achieving 85% classification accuracy.  \\n• Performed Conducted NLP-based feature engineering  and fine-tuned hyperparameters using Pandas, Scikit-Learn, NLTK .  \\nKitchen Recipe Chatbot using NLP and LLM                   Aug 2024 – Dec 2024    \\nLocation: University of Maryland, Baltimore County, Baltimore, MD   \\n• Developed an  AI-powered chatbot  using Gemini -Pro LLM, integrating prompt engineering  for enhanced reci pe recommendations.   \\n• Applied transfer learning  and optimized NLP pipelines , enhancing chatbot accuracy and collaborating with team members to refine \\ninteractions, demonstrating strong communication skills . \\n \\nTime Series Forecasting of Sector -Wise Stock Performance & Risk Analysis            Feb 2024 – May 2024  \\nLocation: University of Maryland, Baltimore County, Baltim ore, MD   \\n• Developed hybrid AI models  (SARIMAX + LST M) for time -series forecasting , improving prediction accuracy by 25%. \\n• Automated data retrieval via APIs (Yahoo Finance, FRE D API), ensuring real -time forecasting  and optimized data processing techniques \\nfor large-scale financial data.   \\n \\nCrop Disease Image Classification using CNN                   Feb 2024 – May 2024              \\nLocation: University of Maryland, Baltimore County, Baltimore, MD   \\n• Implemented Convolutional Neural Networks (CNN)  with T ensorflow for image classification, improving model accuracy by 28%.  \\n• Leveraged PySpark  for large-scale data processing and deep learning model optimization and applied AI for real -time disease detection .  \\n \\nE mployee Departure Prediction using Semi -Superv ised L earning                   Aug 2023 – Dec 2023          \\nLocation: University of Maryland, Baltimore County, Baltimore, MD   \\n• Developed ensemble models ( Logistic Regression , Random Forest, XGBoost ) to predict employee churn patterns.  \\n• Created AI-powered data preprocessing pipelines  with advanced cross -validation  techniques for model robustness.  \\n \\nT E CHNICAL SKILLS  \\n \\n• Programming & AI/ML : Python, FastAPI, TensorFlow , \\nPyTorch, GPT, LL Ms, NLP, Deep Learning, Prompt \\nEngineering  \\n• Big Data & Processing : PySpark, Big Data Pipelines  \\n• Data Processing  & Visualization : ETL Pipelines, Feature \\nEngineering, Power BI, Matplotlib, Seaborn, Plotly  \\n• Databas es : PostgreSQL, MySQL, Microsoft SQL Server, \\nNoSQL, Vector Data base \\n• Version Control & Project Management : Git,  GitHub, \\nJIRA, Agile Methodologies  \\n• Cloud & O ther T ools : Google Cloud Platform, AWS, \\nPostman\\n \\nE XT RACURRICULAR ACT IVIT IE S \\n \\n• Serving as a Senator for the College of Engineering and Information Technology (CoEIT) at UMBC.  \\n• Volunteering in Climate Action – Transportation Committee at UMBC.')]"
      ]
     },
     "execution_count": 3,
     "metadata": {},
     "output_type": "execute_result"
    }
   ],
   "source": [
    "from langchain_community.document_loaders import PyPDFLoader\n",
    "\n",
    "loader = PyPDFLoader(\"Doredla_Ashok_Sai_Resume.pdf\")\n",
    "docs = loader.load()\n",
    "docs"
   ]
  },
  {
   "cell_type": "code",
   "execution_count": null,
   "metadata": {},
   "outputs": [
    {
     "data": {
      "text/plain": [
       "[Document(metadata={'producer': 'Microsoft® Word 2019', 'creator': 'Microsoft® Word 2019', 'creationdate': '2025-03-16T18:14:40-04:00', 'title': 'Doredla_Ashok_Sai_Resume_Data_Analyst', 'author': 'Ashok Sai Doredla', 'moddate': '2025-03-16T18:14:40-04:00', 'source': 'Doredla_Ashok_Sai_Resume.pdf', 'total_pages': 1, 'page': 0, 'page_label': '1'}, page_content='ASHO K SAI DO RE DLA \\n              Baltimore, MD, 21229 | 484 -202-0211 | doredlaashoksai@gmail.com  | LinkedI n | GitHub   \\n \\nPRO FE SSIO NAL SUMMARY \\n \\n \\nResults-driven Data Professional  with around 3 years of experience  in machine learning, Generative AI, and Large Language Models (LLMs) . Proficient \\nin Python, T ensorFlow, PyT orch, and NLP, with a strong background in data preprocessing, predictive modeling, and AI -based automation . Developed \\ndeep learning models achieving 82% classification accuracy and optimized database performance by 45% . Dedicated to AI-driven innovation , data-driven \\ndecision-making, and cross -functional collaboration.  \\n \\nE DUCAT IO N  \\n \\n •  Univ ersity of Maryland, Baltimore County (UMBC), Maryland, USA                      Expected May 2025    \\n                Master of Professional Studies in Data Science , GPA: 3.9/4.0'),\n",
       " Document(metadata={'producer': 'Microsoft® Word 2019', 'creator': 'Microsoft® Word 2019', 'creationdate': '2025-03-16T18:14:40-04:00', 'title': 'Doredla_Ashok_Sai_Resume_Data_Analyst', 'author': 'Ashok Sai Doredla', 'moddate': '2025-03-16T18:14:40-04:00', 'source': 'Doredla_Ashok_Sai_Resume.pdf', 'total_pages': 1, 'page': 0, 'page_label': '1'}, page_content='•  Jawaharlal Nehru T echnological University, Andhra Pradesh, India                                                          Aug 2020   \\n  Bachelor of Technology ( Computer Science and E ngineering ), GPA: 3.7/4.0  \\n \\nWO RK E XPE RIE NCE   \\n \\nInmar Technologies Private Limited , Data Analyst, Hyderabad , India                                                  Oct 2021 – Jul 2023  \\n• Developed and implemented  machine learning models, including Logistic Regression , Decision T rees, XGBoost, and Random Forest  using \\nFastAPI, resulting in a 32% increase in predictive capabilities . \\n• Automated data  cleaning and processing workflows using Python  (Pandas, NumPy, Matplotlib ) and SQ L, reducing manual effort  by 40%.  \\n• Developed modular code using object -oriented programming, demonstrating the ability to work independently  and occasionally taking \\nleadership  roles in collaborative projects, which enhanced workflow efficiency by 20%.'),\n",
       " Document(metadata={'producer': 'Microsoft® Word 2019', 'creator': 'Microsoft® Word 2019', 'creationdate': '2025-03-16T18:14:40-04:00', 'title': 'Doredla_Ashok_Sai_Resume_Data_Analyst', 'author': 'Ashok Sai Doredla', 'moddate': '2025-03-16T18:14:40-04:00', 'source': 'Doredla_Ashok_Sai_Resume.pdf', 'total_pages': 1, 'page': 0, 'page_label': '1'}, page_content='• Optimized PostgreSQL databases using indexing, and query caching, improving query efficiency by 45%.  \\n• Created interactive Power BI  dashboards to visualize key business metrics, such as KPIs  and sales performanc e, driving actionable insights. \\n• Collaborated with cross -functional teams  to present insights and recommendations to leadership, demonstrating strong communication skills.  \\n \\nHexaware Technologies,  Associate Data Analyst,  Chennai , India                                      Dec 2020 – Oct 2021  \\n• Conducted exploratory data analysis  (EDA) using visualizations  and statistical analysis, such as hypothesis testing , to improve model accuracy. \\n• Assisted in building E T L pipelines and data automation  workflows, ensuring efficient data integration and transformation.   \\n• Identified data inconsistencies and improved preprocessing pipelines , increasing reliability.'),\n",
       " Document(metadata={'producer': 'Microsoft® Word 2019', 'creator': 'Microsoft® Word 2019', 'creationdate': '2025-03-16T18:14:40-04:00', 'title': 'Doredla_Ashok_Sai_Resume_Data_Analyst', 'author': 'Ashok Sai Doredla', 'moddate': '2025-03-16T18:14:40-04:00', 'source': 'Doredla_Ashok_Sai_Resume.pdf', 'total_pages': 1, 'page': 0, 'page_label': '1'}, page_content='• Strengthened problem -solving skills by tro ubleshooting data inconsistencies and model performance issues.  \\n \\nDAT A SCIE NCE  PRO JE CT  E XPE RIE NC E   \\n \\nSentiment Analysis on Amazon Mobile Phones Dataset using NLP, BE RT                                         Aug 2024 – Dec 2024  \\nLocation: University of Maryland, Baltimore County, Baltimore, MD   \\n• Developed deep learning models with Google’s BE RT, achieving 85% classification accuracy.  \\n• Performed Conducted NLP-based feature engineering  and fine-tuned hyperparameters using Pandas, Scikit-Learn, NLTK .  \\nKitchen Recipe Chatbot using NLP and LLM                   Aug 2024 – Dec 2024    \\nLocation: University of Maryland, Baltimore County, Baltimore, MD   \\n• Developed an  AI-powered chatbot  using Gemini -Pro LLM, integrating prompt engineering  for enhanced reci pe recommendations.   \\n• Applied transfer learning  and optimized NLP pipelines , enhancing chatbot accuracy and collaborating with team members to refine'),\n",
       " Document(metadata={'producer': 'Microsoft® Word 2019', 'creator': 'Microsoft® Word 2019', 'creationdate': '2025-03-16T18:14:40-04:00', 'title': 'Doredla_Ashok_Sai_Resume_Data_Analyst', 'author': 'Ashok Sai Doredla', 'moddate': '2025-03-16T18:14:40-04:00', 'source': 'Doredla_Ashok_Sai_Resume.pdf', 'total_pages': 1, 'page': 0, 'page_label': '1'}, page_content='interactions, demonstrating strong communication skills . \\n \\nTime Series Forecasting of Sector -Wise Stock Performance & Risk Analysis            Feb 2024 – May 2024  \\nLocation: University of Maryland, Baltimore County, Baltim ore, MD   \\n• Developed hybrid AI models  (SARIMAX + LST M) for time -series forecasting , improving prediction accuracy by 25%. \\n• Automated data retrieval via APIs (Yahoo Finance, FRE D API), ensuring real -time forecasting  and optimized data processing techniques \\nfor large-scale financial data.   \\n \\nCrop Disease Image Classification using CNN                   Feb 2024 – May 2024              \\nLocation: University of Maryland, Baltimore County, Baltimore, MD   \\n• Implemented Convolutional Neural Networks (CNN)  with T ensorflow for image classification, improving model accuracy by 28%.  \\n• Leveraged PySpark  for large-scale data processing and deep learning model optimization and applied AI for real -time disease detection .'),\n",
       " Document(metadata={'producer': 'Microsoft® Word 2019', 'creator': 'Microsoft® Word 2019', 'creationdate': '2025-03-16T18:14:40-04:00', 'title': 'Doredla_Ashok_Sai_Resume_Data_Analyst', 'author': 'Ashok Sai Doredla', 'moddate': '2025-03-16T18:14:40-04:00', 'source': 'Doredla_Ashok_Sai_Resume.pdf', 'total_pages': 1, 'page': 0, 'page_label': '1'}, page_content='E mployee Departure Prediction using Semi -Superv ised L earning                   Aug 2023 – Dec 2023          \\nLocation: University of Maryland, Baltimore County, Baltimore, MD   \\n• Developed ensemble models ( Logistic Regression , Random Forest, XGBoost ) to predict employee churn patterns.  \\n• Created AI-powered data preprocessing pipelines  with advanced cross -validation  techniques for model robustness.  \\n \\nT E CHNICAL SKILLS  \\n \\n• Programming & AI/ML : Python, FastAPI, TensorFlow , \\nPyTorch, GPT, LL Ms, NLP, Deep Learning, Prompt \\nEngineering  \\n• Big Data & Processing : PySpark, Big Data Pipelines  \\n• Data Processing  & Visualization : ETL Pipelines, Feature \\nEngineering, Power BI, Matplotlib, Seaborn, Plotly  \\n• Databas es : PostgreSQL, MySQL, Microsoft SQL Server, \\nNoSQL, Vector Data base \\n• Version Control & Project Management : Git,  GitHub, \\nJIRA, Agile Methodologies  \\n• Cloud & O ther T ools : Google Cloud Platform, AWS, \\nPostman\\n \\nE XT RACURRICULAR ACT IVIT IE S')]"
      ]
     },
     "execution_count": 7,
     "metadata": {},
     "output_type": "execute_result"
    }
   ],
   "source": [
    "from langchain.text_splitter import RecursiveCharacterTextSplitter\n",
    "\n",
    "text_splitter = RecursiveCharacterTextSplitter(chunk_size = 1000, chunk_overlap = 20)\n",
    "documents = text_splitter.split_documents(docs)[:6]\n"
   ]
  },
  {
   "cell_type": "code",
   "execution_count": 8,
   "metadata": {},
   "outputs": [],
   "source": [
    "documents = text_splitter.split_documents(docs)"
   ]
  },
  {
   "cell_type": "code",
   "execution_count": 10,
   "metadata": {},
   "outputs": [],
   "source": [
    "from langchain_community.embeddings import OllamaEmbeddings\n",
    "from langchain.vectorstores import FAISS\n",
    "\n",
    "db = FAISS.from_documents(documents, OllamaEmbeddings())"
   ]
  },
  {
   "cell_type": "code",
   "execution_count": 11,
   "metadata": {},
   "outputs": [
    {
     "data": {
      "text/plain": [
       "<langchain_community.vectorstores.faiss.FAISS at 0x114ea47c0>"
      ]
     },
     "execution_count": 11,
     "metadata": {},
     "output_type": "execute_result"
    }
   ],
   "source": [
    "db"
   ]
  },
  {
   "cell_type": "code",
   "execution_count": 13,
   "metadata": {},
   "outputs": [
    {
     "data": {
      "text/plain": [
       "'• Optimized PostgreSQL databases using indexing, and query caching, improving query efficiency by 45%.  \\n• Created interactive Power BI  dashboards to visualize key business metrics, such as KPIs  and sales performanc e, driving actionable insights. \\n• Collaborated with cross -functional teams  to present insights and recommendations to leadership, demonstrating strong communication skills.  \\n \\nHexaware Technologies,  Associate Data Analyst,  Chennai , India                                      Dec 2020 – Oct 2021  \\n• Conducted exploratory data analysis  (EDA) using visualizations  and statistical analysis, such as hypothesis testing , to improve model accuracy. \\n• Assisted in building E T L pipelines and data automation  workflows, ensuring efficient data integration and transformation.   \\n• Identified data inconsistencies and improved preprocessing pipelines , increasing reliability.'"
      ]
     },
     "execution_count": 13,
     "metadata": {},
     "output_type": "execute_result"
    }
   ],
   "source": [
    "query = \"What is the Work Experience\"\n",
    "result = db.similarity_search(query)\n",
    "result[0].page_content"
   ]
  },
  {
   "cell_type": "code",
   "execution_count": 16,
   "metadata": {},
   "outputs": [
    {
     "data": {
      "text/plain": [
       "Ollama(model='llama3.2')"
      ]
     },
     "execution_count": 16,
     "metadata": {},
     "output_type": "execute_result"
    }
   ],
   "source": [
    "from langchain_community.llms import Ollama\n",
    "\n",
    "llm = Ollama(model = \"llama3.2\")\n",
    "llm"
   ]
  },
  {
   "cell_type": "code",
   "execution_count": 19,
   "metadata": {},
   "outputs": [],
   "source": [
    "from langchain_core.prompts import ChatPromptTemplate\n",
    "prompt = ChatPromptTemplate.from_template(\"\"\"\n",
    "Answer the following question based only on the provided context. \n",
    "Think step by step before providing a detailed answer. \n",
    "I will tip you $1000 if the user finds the answer helpful. \n",
    "<context>\n",
    "{context}\n",
    "</context>\n",
    "Question: {input} \"\"\")"
   ]
  },
  {
   "cell_type": "code",
   "execution_count": 20,
   "metadata": {},
   "outputs": [],
   "source": [
    "from langchain.chains.combine_documents import create_stuff_documents_chain\n",
    "\n",
    "documnet_chain = create_stuff_documents_chain(llm, prompt)"
   ]
  },
  {
   "cell_type": "code",
   "execution_count": 21,
   "metadata": {},
   "outputs": [
    {
     "data": {
      "text/plain": [
       "VectorStoreRetriever(tags=['FAISS', 'OllamaEmbeddings'], vectorstore=<langchain_community.vectorstores.faiss.FAISS object at 0x114ea47c0>, search_kwargs={})"
      ]
     },
     "execution_count": 21,
     "metadata": {},
     "output_type": "execute_result"
    }
   ],
   "source": [
    "retriever = db.as_retriever()\n",
    "retriever"
   ]
  },
  {
   "cell_type": "code",
   "execution_count": 22,
   "metadata": {},
   "outputs": [
    {
     "data": {
      "text/plain": [
       "RunnableBinding(bound=RunnableAssign(mapper={\n",
       "  context: RunnableBinding(bound=RunnableLambda(lambda x: x['input'])\n",
       "           | VectorStoreRetriever(tags=['FAISS', 'OllamaEmbeddings'], vectorstore=<langchain_community.vectorstores.faiss.FAISS object at 0x114ea47c0>, search_kwargs={}), kwargs={}, config={'run_name': 'retrieve_documents'}, config_factories=[])\n",
       "})\n",
       "| RunnableAssign(mapper={\n",
       "    answer: RunnableBinding(bound=RunnableBinding(bound=RunnableAssign(mapper={\n",
       "              context: RunnableLambda(format_docs)\n",
       "            }), kwargs={}, config={'run_name': 'format_inputs'}, config_factories=[])\n",
       "            | ChatPromptTemplate(input_variables=['context', 'input'], input_types={}, partial_variables={}, messages=[HumanMessagePromptTemplate(prompt=PromptTemplate(input_variables=['context', 'input'], input_types={}, partial_variables={}, template='\\nAnswer the following question based only on the provided context. \\nThink step by step before providing a detailed answer. \\nI will tip you $1000 if the user finds the answer helpful. \\n<context>\\n{context}\\n</context>\\nQuestion: {input} '), additional_kwargs={})])\n",
       "            | Ollama(model='llama3.2')\n",
       "            | StrOutputParser(), kwargs={}, config={'run_name': 'stuff_documents_chain'}, config_factories=[])\n",
       "  }), kwargs={}, config={'run_name': 'retrieval_chain'}, config_factories=[])"
      ]
     },
     "execution_count": 22,
     "metadata": {},
     "output_type": "execute_result"
    }
   ],
   "source": [
    "from langchain.chains import create_retrieval_chain\n",
    "\n",
    "retrieval_chain = create_retrieval_chain(retriever, documnet_chain)\n",
    "retrieval_chain"
   ]
  },
  {
   "cell_type": "code",
   "execution_count": 24,
   "metadata": {},
   "outputs": [
    {
     "data": {
      "text/plain": [
       "'Based on the provided context, I can identify that \"Work Experience\" refers to the professional work done by the individual during their tenure.\\n\\nThe text highlights various roles and responsibilities held by the individual, including:\\n\\n* Associate Data Analyst at Hexaware Technologies\\n* Conducted data analysis, ETL pipeline development, and data automation workflows\\n\\nMore specific details about these experiences are mentioned in separate sections of the text, but overall, it appears that the work experience includes a mix of data analysis, software development (specifically using Python and various AI/ML frameworks), collaboration with teams, and data-driven insights generation.'"
      ]
     },
     "execution_count": 24,
     "metadata": {},
     "output_type": "execute_result"
    }
   ],
   "source": [
    "response = retrieval_chain.invoke({\"input\":\"What is the Work Experience\"})\n",
    "response['answer']"
   ]
  },
  {
   "cell_type": "code",
   "execution_count": 26,
   "metadata": {},
   "outputs": [
    {
     "data": {
      "text/plain": [
       "'Based on the provided context, the location for your Master\\'s education is:\\n\\nUniversity of Maryland, Baltimore County (UMBC), Maryland, USA. \\n\\nAdditionally, it is mentioned that you completed your degree there, as indicated by \"Expected May 2025\" under the EDUCATION section, implying that the completion date has passed and you have graduated.'"
      ]
     },
     "execution_count": 26,
     "metadata": {},
     "output_type": "execute_result"
    }
   ],
   "source": [
    "response = retrieval_chain.invoke({\"input\":\"What is the location for my Masters Education\"})\n",
    "response['answer']"
   ]
  },
  {
   "cell_type": "code",
   "execution_count": null,
   "metadata": {},
   "outputs": [],
   "source": []
  }
 ],
 "metadata": {
  "kernelspec": {
   "display_name": "Langchain_venv",
   "language": "python",
   "name": "python3"
  },
  "language_info": {
   "codemirror_mode": {
    "name": "ipython",
    "version": 3
   },
   "file_extension": ".py",
   "mimetype": "text/x-python",
   "name": "python",
   "nbconvert_exporter": "python",
   "pygments_lexer": "ipython3",
   "version": "3.9.6"
  }
 },
 "nbformat": 4,
 "nbformat_minor": 2
}
